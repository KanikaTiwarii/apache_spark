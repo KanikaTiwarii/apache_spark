{
 "cells": [
  {
   "cell_type": "markdown",
   "id": "667ebae2",
   "metadata": {
    "papermill": {
     "duration": 0.020865,
     "end_time": "2024-08-28T20:09:59.629652",
     "exception": false,
     "start_time": "2024-08-28T20:09:59.608787",
     "status": "completed"
    },
    "tags": []
   },
   "source": [
    "# A Study with Open Access Series of Imaging Studies (OASIS) Longitudinal dataset: Evaluating the performance of Machine Learning models in Classifying 'Demented' and 'Non-Demented' Subjects\n",
    "\n",
    "Dementia, a syndrome characterized by cognitive impairment and memory loss, presents a significant public health challenge worldwide. Early and accurate diagnosis of dementia is crucial for effective treatment and intervention. Machine learning has been regarded as one of the way to hasten and support diagnosis. This study leverages on available **longitudinal** OASIS dataset found on Kaggle, thanks to Jacob Boysen, and evaluates the performance of 3 popular machine learning models, Random Forest, Multi-layer Perceptron (MLP), and XGBoost before and after hyperparameter, in a binary classification task: whether a subject has dementia or not.\n"
   ]
  },
  {
   "cell_type": "markdown",
   "id": "7efbe032",
   "metadata": {
    "papermill": {
     "duration": 0.020363,
     "end_time": "2024-08-28T20:09:59.669463",
     "exception": false,
     "start_time": "2024-08-28T20:09:59.649100",
     "status": "completed"
    },
    "tags": []
   },
   "source": [
    "## Variable Description\n",
    "1. Subject ID - Subject Identification (i.e. OAS2_0001)\n",
    "2. MRI ID - MRI Exam Identification (i.e. OAS2_0001_MR1)\n",
    "3. Group - Class (i.e. Demented, Nondemented)\n",
    "4. Visit - Number of visits (i.e. 1-5)\n",
    "5. MR Delay - Number of days of delay between visits (i.e. 0-2639)\n",
    "6. M/F - Gender (i.e. M, F)\n",
    "7. Hand - Right or Left-Handed (i.e. R)\n",
    "8. Age - Age at time of image acquisition (years). (i.e. 60-98)\n",
    "9. EDUC - Years of education (i.e. 6-23)\n",
    "10. SES - Socioeconomic status as assessed by the Hollingshead Index of Social Position and classified into categories from 1 (highest status) to 5 (lowest status) (i.e. 1-5)\n",
    "11. MMSE - Mini-Mental State Examination (i.e. 4-30)\n",
    "12. CDR - Clinical Dementia Rating (i.e. 0-2)\n",
    "13. eTIV - Estimated total intracranial volume (cm^3) (i.e. 1106-2004)\n",
    "14. nWBV - Normalized whole brain volume: expressed as a percent of all voxels in the atlas-masked image that are labeled as gray or white matter by the automated tissue segmentation process (i.e. 0.64-0.84)\n",
    "15. ASF - Atlas scaling factor (unitless). Computed scaling factor that transforms native-space brain and skull to the atlas target (i.e. the determinant of the transform matrix) (i.e. 0.88-1.59)\n"
   ]
  },
  {
   "cell_type": "markdown",
   "id": "bdf549e6",
   "metadata": {
    "papermill": {
     "duration": 0.018634,
     "end_time": "2024-08-28T20:09:59.706837",
     "exception": false,
     "start_time": "2024-08-28T20:09:59.688203",
     "status": "completed"
    },
    "tags": []
   },
   "source": [
    "# Preprocessing\n",
    "Check for missing or null values, impute them, and also dropping redundant columns."
   ]
  },
  {
   "cell_type": "code",
   "execution_count": 1,
   "id": "264b6809",
   "metadata": {
    "papermill": {
     "duration": 2.954265,
     "end_time": "2024-08-28T20:10:02.679771",
     "exception": false,
     "start_time": "2024-08-28T20:09:59.725506",
     "status": "completed"
    },
    "tags": []
   },
   "outputs": [],
   "source": [
    "#import all the necessary libraries\n",
    "import pandas as pd\n",
    "import numpy as mp\n",
    "import matplotlib.pyplot as plt\n",
    "import seaborn as sns"
   ]
  },
  {
   "cell_type": "code",
   "execution_count": 2,
   "id": "9a677e30",
   "metadata": {
    "papermill": {
     "duration": 0.098089,
     "end_time": "2024-08-28T20:10:02.797776",
     "exception": false,
     "start_time": "2024-08-28T20:10:02.699687",
     "status": "completed"
    },
    "tags": []
   },
   "outputs": [
    {
     "data": {
      "text/html": [
       "<div>\n",
       "<style scoped>\n",
       "    .dataframe tbody tr th:only-of-type {\n",
       "        vertical-align: middle;\n",
       "    }\n",
       "\n",
       "    .dataframe tbody tr th {\n",
       "        vertical-align: top;\n",
       "    }\n",
       "\n",
       "    .dataframe thead th {\n",
       "        text-align: right;\n",
       "    }\n",
       "</style>\n",
       "<table border=\"1\" class=\"dataframe\">\n",
       "  <thead>\n",
       "    <tr style=\"text-align: right;\">\n",
       "      <th></th>\n",
       "      <th>Subject ID</th>\n",
       "      <th>MRI ID</th>\n",
       "      <th>Group</th>\n",
       "      <th>Visit</th>\n",
       "      <th>MR Delay</th>\n",
       "      <th>M/F</th>\n",
       "      <th>Hand</th>\n",
       "      <th>Age</th>\n",
       "      <th>EDUC</th>\n",
       "      <th>SES</th>\n",
       "      <th>MMSE</th>\n",
       "      <th>CDR</th>\n",
       "      <th>eTIV</th>\n",
       "      <th>nWBV</th>\n",
       "      <th>ASF</th>\n",
       "    </tr>\n",
       "  </thead>\n",
       "  <tbody>\n",
       "    <tr>\n",
       "      <th>0</th>\n",
       "      <td>OAS2_0001</td>\n",
       "      <td>OAS2_0001_MR1</td>\n",
       "      <td>Nondemented</td>\n",
       "      <td>1</td>\n",
       "      <td>0</td>\n",
       "      <td>M</td>\n",
       "      <td>R</td>\n",
       "      <td>87</td>\n",
       "      <td>14</td>\n",
       "      <td>2.0</td>\n",
       "      <td>27.0</td>\n",
       "      <td>0.0</td>\n",
       "      <td>1987</td>\n",
       "      <td>0.696</td>\n",
       "      <td>0.883</td>\n",
       "    </tr>\n",
       "    <tr>\n",
       "      <th>1</th>\n",
       "      <td>OAS2_0001</td>\n",
       "      <td>OAS2_0001_MR2</td>\n",
       "      <td>Nondemented</td>\n",
       "      <td>2</td>\n",
       "      <td>457</td>\n",
       "      <td>M</td>\n",
       "      <td>R</td>\n",
       "      <td>88</td>\n",
       "      <td>14</td>\n",
       "      <td>2.0</td>\n",
       "      <td>30.0</td>\n",
       "      <td>0.0</td>\n",
       "      <td>2004</td>\n",
       "      <td>0.681</td>\n",
       "      <td>0.876</td>\n",
       "    </tr>\n",
       "    <tr>\n",
       "      <th>2</th>\n",
       "      <td>OAS2_0002</td>\n",
       "      <td>OAS2_0002_MR1</td>\n",
       "      <td>Demented</td>\n",
       "      <td>1</td>\n",
       "      <td>0</td>\n",
       "      <td>M</td>\n",
       "      <td>R</td>\n",
       "      <td>75</td>\n",
       "      <td>12</td>\n",
       "      <td>NaN</td>\n",
       "      <td>23.0</td>\n",
       "      <td>0.5</td>\n",
       "      <td>1678</td>\n",
       "      <td>0.736</td>\n",
       "      <td>1.046</td>\n",
       "    </tr>\n",
       "    <tr>\n",
       "      <th>3</th>\n",
       "      <td>OAS2_0002</td>\n",
       "      <td>OAS2_0002_MR2</td>\n",
       "      <td>Demented</td>\n",
       "      <td>2</td>\n",
       "      <td>560</td>\n",
       "      <td>M</td>\n",
       "      <td>R</td>\n",
       "      <td>76</td>\n",
       "      <td>12</td>\n",
       "      <td>NaN</td>\n",
       "      <td>28.0</td>\n",
       "      <td>0.5</td>\n",
       "      <td>1738</td>\n",
       "      <td>0.713</td>\n",
       "      <td>1.010</td>\n",
       "    </tr>\n",
       "    <tr>\n",
       "      <th>4</th>\n",
       "      <td>OAS2_0002</td>\n",
       "      <td>OAS2_0002_MR3</td>\n",
       "      <td>Demented</td>\n",
       "      <td>3</td>\n",
       "      <td>1895</td>\n",
       "      <td>M</td>\n",
       "      <td>R</td>\n",
       "      <td>80</td>\n",
       "      <td>12</td>\n",
       "      <td>NaN</td>\n",
       "      <td>22.0</td>\n",
       "      <td>0.5</td>\n",
       "      <td>1698</td>\n",
       "      <td>0.701</td>\n",
       "      <td>1.034</td>\n",
       "    </tr>\n",
       "    <tr>\n",
       "      <th>...</th>\n",
       "      <td>...</td>\n",
       "      <td>...</td>\n",
       "      <td>...</td>\n",
       "      <td>...</td>\n",
       "      <td>...</td>\n",
       "      <td>...</td>\n",
       "      <td>...</td>\n",
       "      <td>...</td>\n",
       "      <td>...</td>\n",
       "      <td>...</td>\n",
       "      <td>...</td>\n",
       "      <td>...</td>\n",
       "      <td>...</td>\n",
       "      <td>...</td>\n",
       "      <td>...</td>\n",
       "    </tr>\n",
       "    <tr>\n",
       "      <th>368</th>\n",
       "      <td>OAS2_0185</td>\n",
       "      <td>OAS2_0185_MR2</td>\n",
       "      <td>Demented</td>\n",
       "      <td>2</td>\n",
       "      <td>842</td>\n",
       "      <td>M</td>\n",
       "      <td>R</td>\n",
       "      <td>82</td>\n",
       "      <td>16</td>\n",
       "      <td>1.0</td>\n",
       "      <td>28.0</td>\n",
       "      <td>0.5</td>\n",
       "      <td>1693</td>\n",
       "      <td>0.694</td>\n",
       "      <td>1.037</td>\n",
       "    </tr>\n",
       "    <tr>\n",
       "      <th>369</th>\n",
       "      <td>OAS2_0185</td>\n",
       "      <td>OAS2_0185_MR3</td>\n",
       "      <td>Demented</td>\n",
       "      <td>3</td>\n",
       "      <td>2297</td>\n",
       "      <td>M</td>\n",
       "      <td>R</td>\n",
       "      <td>86</td>\n",
       "      <td>16</td>\n",
       "      <td>1.0</td>\n",
       "      <td>26.0</td>\n",
       "      <td>0.5</td>\n",
       "      <td>1688</td>\n",
       "      <td>0.675</td>\n",
       "      <td>1.040</td>\n",
       "    </tr>\n",
       "    <tr>\n",
       "      <th>370</th>\n",
       "      <td>OAS2_0186</td>\n",
       "      <td>OAS2_0186_MR1</td>\n",
       "      <td>Nondemented</td>\n",
       "      <td>1</td>\n",
       "      <td>0</td>\n",
       "      <td>F</td>\n",
       "      <td>R</td>\n",
       "      <td>61</td>\n",
       "      <td>13</td>\n",
       "      <td>2.0</td>\n",
       "      <td>30.0</td>\n",
       "      <td>0.0</td>\n",
       "      <td>1319</td>\n",
       "      <td>0.801</td>\n",
       "      <td>1.331</td>\n",
       "    </tr>\n",
       "    <tr>\n",
       "      <th>371</th>\n",
       "      <td>OAS2_0186</td>\n",
       "      <td>OAS2_0186_MR2</td>\n",
       "      <td>Nondemented</td>\n",
       "      <td>2</td>\n",
       "      <td>763</td>\n",
       "      <td>F</td>\n",
       "      <td>R</td>\n",
       "      <td>63</td>\n",
       "      <td>13</td>\n",
       "      <td>2.0</td>\n",
       "      <td>30.0</td>\n",
       "      <td>0.0</td>\n",
       "      <td>1327</td>\n",
       "      <td>0.796</td>\n",
       "      <td>1.323</td>\n",
       "    </tr>\n",
       "    <tr>\n",
       "      <th>372</th>\n",
       "      <td>OAS2_0186</td>\n",
       "      <td>OAS2_0186_MR3</td>\n",
       "      <td>Nondemented</td>\n",
       "      <td>3</td>\n",
       "      <td>1608</td>\n",
       "      <td>F</td>\n",
       "      <td>R</td>\n",
       "      <td>65</td>\n",
       "      <td>13</td>\n",
       "      <td>2.0</td>\n",
       "      <td>30.0</td>\n",
       "      <td>0.0</td>\n",
       "      <td>1333</td>\n",
       "      <td>0.801</td>\n",
       "      <td>1.317</td>\n",
       "    </tr>\n",
       "  </tbody>\n",
       "</table>\n",
       "<p>373 rows × 15 columns</p>\n",
       "</div>"
      ],
      "text/plain": [
       "    Subject ID         MRI ID        Group  Visit  MR Delay M/F Hand  Age  \\\n",
       "0    OAS2_0001  OAS2_0001_MR1  Nondemented      1         0   M    R   87   \n",
       "1    OAS2_0001  OAS2_0001_MR2  Nondemented      2       457   M    R   88   \n",
       "2    OAS2_0002  OAS2_0002_MR1     Demented      1         0   M    R   75   \n",
       "3    OAS2_0002  OAS2_0002_MR2     Demented      2       560   M    R   76   \n",
       "4    OAS2_0002  OAS2_0002_MR3     Demented      3      1895   M    R   80   \n",
       "..         ...            ...          ...    ...       ...  ..  ...  ...   \n",
       "368  OAS2_0185  OAS2_0185_MR2     Demented      2       842   M    R   82   \n",
       "369  OAS2_0185  OAS2_0185_MR3     Demented      3      2297   M    R   86   \n",
       "370  OAS2_0186  OAS2_0186_MR1  Nondemented      1         0   F    R   61   \n",
       "371  OAS2_0186  OAS2_0186_MR2  Nondemented      2       763   F    R   63   \n",
       "372  OAS2_0186  OAS2_0186_MR3  Nondemented      3      1608   F    R   65   \n",
       "\n",
       "     EDUC  SES  MMSE  CDR  eTIV   nWBV    ASF  \n",
       "0      14  2.0  27.0  0.0  1987  0.696  0.883  \n",
       "1      14  2.0  30.0  0.0  2004  0.681  0.876  \n",
       "2      12  NaN  23.0  0.5  1678  0.736  1.046  \n",
       "3      12  NaN  28.0  0.5  1738  0.713  1.010  \n",
       "4      12  NaN  22.0  0.5  1698  0.701  1.034  \n",
       "..    ...  ...   ...  ...   ...    ...    ...  \n",
       "368    16  1.0  28.0  0.5  1693  0.694  1.037  \n",
       "369    16  1.0  26.0  0.5  1688  0.675  1.040  \n",
       "370    13  2.0  30.0  0.0  1319  0.801  1.331  \n",
       "371    13  2.0  30.0  0.0  1327  0.796  1.323  \n",
       "372    13  2.0  30.0  0.0  1333  0.801  1.317  \n",
       "\n",
       "[373 rows x 15 columns]"
      ]
     },
     "execution_count": 2,
     "metadata": {},
     "output_type": "execute_result"
    }
   ],
   "source": [
    "#read dataset\n",
    "data = pd.read_csv('oasis_longitudinal.csv')\n",
    "data"
   ]
  },
  {
   "cell_type": "code",
   "execution_count": 3,
   "id": "4c785aa2",
   "metadata": {
    "papermill": {
     "duration": 0.040581,
     "end_time": "2024-08-28T20:10:02.858634",
     "exception": false,
     "start_time": "2024-08-28T20:10:02.818053",
     "status": "completed"
    },
    "tags": []
   },
   "outputs": [
    {
     "data": {
      "text/plain": [
       "Subject ID     0\n",
       "MRI ID         0\n",
       "Group          0\n",
       "Visit          0\n",
       "MR Delay       0\n",
       "M/F            0\n",
       "Hand           0\n",
       "Age            0\n",
       "EDUC           0\n",
       "SES           19\n",
       "MMSE           2\n",
       "CDR            0\n",
       "eTIV           0\n",
       "nWBV           0\n",
       "ASF            0\n",
       "dtype: int64"
      ]
     },
     "execution_count": 3,
     "metadata": {},
     "output_type": "execute_result"
    }
   ],
   "source": [
    "#check for missing values in the dataset\n",
    "data.isnull().sum()\n"
   ]
  },
  {
   "cell_type": "code",
   "execution_count": 4,
   "id": "c94d178b",
   "metadata": {
    "papermill": {
     "duration": 2.073172,
     "end_time": "2024-08-28T20:10:04.951295",
     "exception": false,
     "start_time": "2024-08-28T20:10:02.878123",
     "status": "completed"
    },
    "tags": []
   },
   "outputs": [
    {
     "data": {
      "text/plain": [
       "<Axes: >"
      ]
     },
     "execution_count": 4,
     "metadata": {},
     "output_type": "execute_result"
    },
    {
     "data": {
      "image/png": "[encoded data removed]",
      "text/plain": [
       "<Figure size 2500x1000 with 3 Axes>"
      ]
     },
     "metadata": {},
     "output_type": "display_data"
    }
   ],
   "source": [
    "\n",
    "import missingno as msno\n",
    "msno.bar(data)"
   ]
  },
  {
   "cell_type": "code",
   "execution_count": 5,
   "id": "c5914453",
   "metadata": {
    "papermill": {
     "duration": 0.585772,
     "end_time": "2024-08-28T20:10:05.566776",
     "exception": false,
     "start_time": "2024-08-28T20:10:04.981004",
     "status": "completed"
    },
    "tags": []
   },
   "outputs": [],
   "source": [
    "#impute missing values with SimpleImputer using median value\n",
    "import numpy as np\n",
    "from sklearn.impute import SimpleImputer\n",
    "imputer = SimpleImputer(missing_values=np.nan, strategy='median')\n",
    "data[['SES']] = imputer.fit_transform(data[['SES']])"
   ]
  },
  {
   "cell_type": "code",
   "execution_count": 6,
   "id": "86b76334",
   "metadata": {
    "papermill": {
     "duration": 0.063428,
     "end_time": "2024-08-28T20:10:05.652841",
     "exception": false,
     "start_time": "2024-08-28T20:10:05.589413",
     "status": "completed"
    },
    "tags": []
   },
   "outputs": [
    {
     "data": {
      "text/html": [
       "<div>\n",
       "<style scoped>\n",
       "    .dataframe tbody tr th:only-of-type {\n",
       "        vertical-align: middle;\n",
       "    }\n",
       "\n",
       "    .dataframe tbody tr th {\n",
       "        vertical-align: top;\n",
       "    }\n",
       "\n",
       "    .dataframe thead th {\n",
       "        text-align: right;\n",
       "    }\n",
       "</style>\n",
       "<table border=\"1\" class=\"dataframe\">\n",
       "  <thead>\n",
       "    <tr style=\"text-align: right;\">\n",
       "      <th></th>\n",
       "      <th>Subject ID</th>\n",
       "      <th>MRI ID</th>\n",
       "      <th>Group</th>\n",
       "      <th>Visit</th>\n",
       "      <th>MR Delay</th>\n",
       "      <th>M/F</th>\n",
       "      <th>Hand</th>\n",
       "      <th>Age</th>\n",
       "      <th>EDUC</th>\n",
       "      <th>SES</th>\n",
       "      <th>MMSE</th>\n",
       "      <th>CDR</th>\n",
       "      <th>eTIV</th>\n",
       "      <th>nWBV</th>\n",
       "      <th>ASF</th>\n",
       "    </tr>\n",
       "  </thead>\n",
       "  <tbody>\n",
       "    <tr>\n",
       "      <th>0</th>\n",
       "      <td>OAS2_0001</td>\n",
       "      <td>OAS2_0001_MR1</td>\n",
       "      <td>Nondemented</td>\n",
       "      <td>1</td>\n",
       "      <td>0</td>\n",
       "      <td>M</td>\n",
       "      <td>R</td>\n",
       "      <td>87</td>\n",
       "      <td>14</td>\n",
       "      <td>2.0</td>\n",
       "      <td>27.0</td>\n",
       "      <td>0.0</td>\n",
       "      <td>1987</td>\n",
       "      <td>0.696</td>\n",
       "      <td>0.883</td>\n",
       "    </tr>\n",
       "    <tr>\n",
       "      <th>1</th>\n",
       "      <td>OAS2_0001</td>\n",
       "      <td>OAS2_0001_MR2</td>\n",
       "      <td>Nondemented</td>\n",
       "      <td>2</td>\n",
       "      <td>457</td>\n",
       "      <td>M</td>\n",
       "      <td>R</td>\n",
       "      <td>88</td>\n",
       "      <td>14</td>\n",
       "      <td>2.0</td>\n",
       "      <td>30.0</td>\n",
       "      <td>0.0</td>\n",
       "      <td>2004</td>\n",
       "      <td>0.681</td>\n",
       "      <td>0.876</td>\n",
       "    </tr>\n",
       "    <tr>\n",
       "      <th>2</th>\n",
       "      <td>OAS2_0002</td>\n",
       "      <td>OAS2_0002_MR1</td>\n",
       "      <td>Demented</td>\n",
       "      <td>1</td>\n",
       "      <td>0</td>\n",
       "      <td>M</td>\n",
       "      <td>R</td>\n",
       "      <td>75</td>\n",
       "      <td>12</td>\n",
       "      <td>2.0</td>\n",
       "      <td>23.0</td>\n",
       "      <td>0.5</td>\n",
       "      <td>1678</td>\n",
       "      <td>0.736</td>\n",
       "      <td>1.046</td>\n",
       "    </tr>\n",
       "    <tr>\n",
       "      <th>3</th>\n",
       "      <td>OAS2_0002</td>\n",
       "      <td>OAS2_0002_MR2</td>\n",
       "      <td>Demented</td>\n",
       "      <td>2</td>\n",
       "      <td>560</td>\n",
       "      <td>M</td>\n",
       "      <td>R</td>\n",
       "      <td>76</td>\n",
       "      <td>12</td>\n",
       "      <td>2.0</td>\n",
       "      <td>28.0</td>\n",
       "      <td>0.5</td>\n",
       "      <td>1738</td>\n",
       "      <td>0.713</td>\n",
       "      <td>1.010</td>\n",
       "    </tr>\n",
       "    <tr>\n",
       "      <th>4</th>\n",
       "      <td>OAS2_0002</td>\n",
       "      <td>OAS2_0002_MR3</td>\n",
       "      <td>Demented</td>\n",
       "      <td>3</td>\n",
       "      <td>1895</td>\n",
       "      <td>M</td>\n",
       "      <td>R</td>\n",
       "      <td>80</td>\n",
       "      <td>12</td>\n",
       "      <td>2.0</td>\n",
       "      <td>22.0</td>\n",
       "      <td>0.5</td>\n",
       "      <td>1698</td>\n",
       "      <td>0.701</td>\n",
       "      <td>1.034</td>\n",
       "    </tr>\n",
       "    <tr>\n",
       "      <th>...</th>\n",
       "      <td>...</td>\n",
       "      <td>...</td>\n",
       "      <td>...</td>\n",
       "      <td>...</td>\n",
       "      <td>...</td>\n",
       "      <td>...</td>\n",
       "      <td>...</td>\n",
       "      <td>...</td>\n",
       "      <td>...</td>\n",
       "      <td>...</td>\n",
       "      <td>...</td>\n",
       "      <td>...</td>\n",
       "      <td>...</td>\n",
       "      <td>...</td>\n",
       "      <td>...</td>\n",
       "    </tr>\n",
       "    <tr>\n",
       "      <th>368</th>\n",
       "      <td>OAS2_0185</td>\n",
       "      <td>OAS2_0185_MR2</td>\n",
       "      <td>Demented</td>\n",
       "      <td>2</td>\n",
       "      <td>842</td>\n",
       "      <td>M</td>\n",
       "      <td>R</td>\n",
       "      <td>82</td>\n",
       "      <td>16</td>\n",
       "      <td>1.0</td>\n",
       "      <td>28.0</td>\n",
       "      <td>0.5</td>\n",
       "      <td>1693</td>\n",
       "      <td>0.694</td>\n",
       "      <td>1.037</td>\n",
       "    </tr>\n",
       "    <tr>\n",
       "      <th>369</th>\n",
       "      <td>OAS2_0185</td>\n",
       "      <td>OAS2_0185_MR3</td>\n",
       "      <td>Demented</td>\n",
       "      <td>3</td>\n",
       "      <td>2297</td>\n",
       "      <td>M</td>\n",
       "      <td>R</td>\n",
       "      <td>86</td>\n",
       "      <td>16</td>\n",
       "      <td>1.0</td>\n",
       "      <td>26.0</td>\n",
       "      <td>0.5</td>\n",
       "      <td>1688</td>\n",
       "      <td>0.675</td>\n",
       "      <td>1.040</td>\n",
       "    </tr>\n",
       "    <tr>\n",
       "      <th>370</th>\n",
       "      <td>OAS2_0186</td>\n",
       "      <td>OAS2_0186_MR1</td>\n",
       "      <td>Nondemented</td>\n",
       "      <td>1</td>\n",
       "      <td>0</td>\n",
       "      <td>F</td>\n",
       "      <td>R</td>\n",
       "      <td>61</td>\n",
       "      <td>13</td>\n",
       "      <td>2.0</td>\n",
       "      <td>30.0</td>\n",
       "      <td>0.0</td>\n",
       "      <td>1319</td>\n",
       "      <td>0.801</td>\n",
       "      <td>1.331</td>\n",
       "    </tr>\n",
       "    <tr>\n",
       "      <th>371</th>\n",
       "      <td>OAS2_0186</td>\n",
       "      <td>OAS2_0186_MR2</td>\n",
       "      <td>Nondemented</td>\n",
       "      <td>2</td>\n",
       "      <td>763</td>\n",
       "      <td>F</td>\n",
       "      <td>R</td>\n",
       "      <td>63</td>\n",
       "      <td>13</td>\n",
       "      <td>2.0</td>\n",
       "      <td>30.0</td>\n",
       "      <td>0.0</td>\n",
       "      <td>1327</td>\n",
       "      <td>0.796</td>\n",
       "      <td>1.323</td>\n",
       "    </tr>\n",
       "    <tr>\n",
       "      <th>372</th>\n",
       "      <td>OAS2_0186</td>\n",
       "      <td>OAS2_0186_MR3</td>\n",
       "      <td>Nondemented</td>\n",
       "      <td>3</td>\n",
       "      <td>1608</td>\n",
       "      <td>F</td>\n",
       "      <td>R</td>\n",
       "      <td>65</td>\n",
       "      <td>13</td>\n",
       "      <td>2.0</td>\n",
       "      <td>30.0</td>\n",
       "      <td>0.0</td>\n",
       "      <td>1333</td>\n",
       "      <td>0.801</td>\n",
       "      <td>1.317</td>\n",
       "    </tr>\n",
       "  </tbody>\n",
       "</table>\n",
       "<p>371 rows × 15 columns</p>\n",
       "</div>"
      ],
      "text/plain": [
       "    Subject ID         MRI ID        Group  Visit  MR Delay M/F Hand  Age  \\\n",
       "0    OAS2_0001  OAS2_0001_MR1  Nondemented      1         0   M    R   87   \n",
       "1    OAS2_0001  OAS2_0001_MR2  Nondemented      2       457   M    R   88   \n",
       "2    OAS2_0002  OAS2_0002_MR1     Demented      1         0   M    R   75   \n",
       "3    OAS2_0002  OAS2_0002_MR2     Demented      2       560   M    R   76   \n",
       "4    OAS2_0002  OAS2_0002_MR3     Demented      3      1895   M    R   80   \n",
       "..         ...            ...          ...    ...       ...  ..  ...  ...   \n",
       "368  OAS2_0185  OAS2_0185_MR2     Demented      2       842   M    R   82   \n",
       "369  OAS2_0185  OAS2_0185_MR3     Demented      3      2297   M    R   86   \n",
       "370  OAS2_0186  OAS2_0186_MR1  Nondemented      1         0   F    R   61   \n",
       "371  OAS2_0186  OAS2_0186_MR2  Nondemented      2       763   F    R   63   \n",
       "372  OAS2_0186  OAS2_0186_MR3  Nondemented      3      1608   F    R   65   \n",
       "\n",
       "     EDUC  SES  MMSE  CDR  eTIV   nWBV    ASF  \n",
       "0      14  2.0  27.0  0.0  1987  0.696  0.883  \n",
       "1      14  2.0  30.0  0.0  2004  0.681  0.876  \n",
       "2      12  2.0  23.0  0.5  1678  0.736  1.046  \n",
       "3      12  2.0  28.0  0.5  1738  0.713  1.010  \n",
       "4      12  2.0  22.0  0.5  1698  0.701  1.034  \n",
       "..    ...  ...   ...  ...   ...    ...    ...  \n",
       "368    16  1.0  28.0  0.5  1693  0.694  1.037  \n",
       "369    16  1.0  26.0  0.5  1688  0.675  1.040  \n",
       "370    13  2.0  30.0  0.0  1319  0.801  1.331  \n",
       "371    13  2.0  30.0  0.0  1327  0.796  1.323  \n",
       "372    13  2.0  30.0  0.0  1333  0.801  1.317  \n",
       "\n",
       "[371 rows x 15 columns]"
      ]
     },
     "execution_count": 6,
     "metadata": {},
     "output_type": "execute_result"
    }
   ],
   "source": [
    "# Drop the rows with the missing values\n",
    "data = data.dropna(axis=0)\n",
    "data"
   ]
  },
  {
   "cell_type": "code",
   "execution_count": 7,
   "id": "817c091e",
   "metadata": {
    "papermill": {
     "duration": 0.041585,
     "end_time": "2024-08-28T20:10:05.716034",
     "exception": false,
     "start_time": "2024-08-28T20:10:05.674449",
     "status": "completed"
    },
    "tags": []
   },
   "outputs": [
    {
     "data": {
      "text/plain": [
       "Subject ID    0\n",
       "MRI ID        0\n",
       "Group         0\n",
       "Visit         0\n",
       "MR Delay      0\n",
       "M/F           0\n",
       "Hand          0\n",
       "Age           0\n",
       "EDUC          0\n",
       "SES           0\n",
       "MMSE          0\n",
       "CDR           0\n",
       "eTIV          0\n",
       "nWBV          0\n",
       "ASF           0\n",
       "dtype: int64"
      ]
     },
     "execution_count": 7,
     "metadata": {},
     "output_type": "execute_result"
    }
   ],
   "source": [
    "#let's check one more time to see if there are any more missing values\n",
    "data.isnull().sum()"
   ]
  },
  {
   "cell_type": "code",
   "execution_count": 8,
   "id": "628dc84b",
   "metadata": {
    "papermill": {
     "duration": 0.057392,
     "end_time": "2024-08-28T20:10:05.795596",
     "exception": false,
     "start_time": "2024-08-28T20:10:05.738204",
     "status": "completed"
    },
    "tags": []
   },
   "outputs": [
    {
     "data": {
      "text/html": [
       "<div>\n",
       "<style scoped>\n",
       "    .dataframe tbody tr th:only-of-type {\n",
       "        vertical-align: middle;\n",
       "    }\n",
       "\n",
       "    .dataframe tbody tr th {\n",
       "        vertical-align: top;\n",
       "    }\n",
       "\n",
       "    .dataframe thead th {\n",
       "        text-align: right;\n",
       "    }\n",
       "</style>\n",
       "<table border=\"1\" class=\"dataframe\">\n",
       "  <thead>\n",
       "    <tr style=\"text-align: right;\">\n",
       "      <th></th>\n",
       "      <th>Subject ID</th>\n",
       "      <th>MRI ID</th>\n",
       "      <th>Group</th>\n",
       "      <th>Visit</th>\n",
       "      <th>MR Delay</th>\n",
       "      <th>M/F</th>\n",
       "      <th>Age</th>\n",
       "      <th>EDUC</th>\n",
       "      <th>SES</th>\n",
       "      <th>MMSE</th>\n",
       "      <th>CDR</th>\n",
       "      <th>eTIV</th>\n",
       "      <th>nWBV</th>\n",
       "      <th>ASF</th>\n",
       "    </tr>\n",
       "  </thead>\n",
       "  <tbody>\n",
       "    <tr>\n",
       "      <th>0</th>\n",
       "      <td>OAS2_0001</td>\n",
       "      <td>OAS2_0001_MR1</td>\n",
       "      <td>Nondemented</td>\n",
       "      <td>1</td>\n",
       "      <td>0</td>\n",
       "      <td>M</td>\n",
       "      <td>87</td>\n",
       "      <td>14</td>\n",
       "      <td>2.0</td>\n",
       "      <td>27.0</td>\n",
       "      <td>0.0</td>\n",
       "      <td>1987</td>\n",
       "      <td>0.696</td>\n",
       "      <td>0.883</td>\n",
       "    </tr>\n",
       "    <tr>\n",
       "      <th>1</th>\n",
       "      <td>OAS2_0001</td>\n",
       "      <td>OAS2_0001_MR2</td>\n",
       "      <td>Nondemented</td>\n",
       "      <td>2</td>\n",
       "      <td>457</td>\n",
       "      <td>M</td>\n",
       "      <td>88</td>\n",
       "      <td>14</td>\n",
       "      <td>2.0</td>\n",
       "      <td>30.0</td>\n",
       "      <td>0.0</td>\n",
       "      <td>2004</td>\n",
       "      <td>0.681</td>\n",
       "      <td>0.876</td>\n",
       "    </tr>\n",
       "    <tr>\n",
       "      <th>2</th>\n",
       "      <td>OAS2_0002</td>\n",
       "      <td>OAS2_0002_MR1</td>\n",
       "      <td>Demented</td>\n",
       "      <td>1</td>\n",
       "      <td>0</td>\n",
       "      <td>M</td>\n",
       "      <td>75</td>\n",
       "      <td>12</td>\n",
       "      <td>2.0</td>\n",
       "      <td>23.0</td>\n",
       "      <td>0.5</td>\n",
       "      <td>1678</td>\n",
       "      <td>0.736</td>\n",
       "      <td>1.046</td>\n",
       "    </tr>\n",
       "    <tr>\n",
       "      <th>3</th>\n",
       "      <td>OAS2_0002</td>\n",
       "      <td>OAS2_0002_MR2</td>\n",
       "      <td>Demented</td>\n",
       "      <td>2</td>\n",
       "      <td>560</td>\n",
       "      <td>M</td>\n",
       "      <td>76</td>\n",
       "      <td>12</td>\n",
       "      <td>2.0</td>\n",
       "      <td>28.0</td>\n",
       "      <td>0.5</td>\n",
       "      <td>1738</td>\n",
       "      <td>0.713</td>\n",
       "      <td>1.010</td>\n",
       "    </tr>\n",
       "    <tr>\n",
       "      <th>4</th>\n",
       "      <td>OAS2_0002</td>\n",
       "      <td>OAS2_0002_MR3</td>\n",
       "      <td>Demented</td>\n",
       "      <td>3</td>\n",
       "      <td>1895</td>\n",
       "      <td>M</td>\n",
       "      <td>80</td>\n",
       "      <td>12</td>\n",
       "      <td>2.0</td>\n",
       "      <td>22.0</td>\n",
       "      <td>0.5</td>\n",
       "      <td>1698</td>\n",
       "      <td>0.701</td>\n",
       "      <td>1.034</td>\n",
       "    </tr>\n",
       "  </tbody>\n",
       "</table>\n",
       "</div>"
      ],
      "text/plain": [
       "  Subject ID         MRI ID        Group  Visit  MR Delay M/F  Age  EDUC  SES  \\\n",
       "0  OAS2_0001  OAS2_0001_MR1  Nondemented      1         0   M   87    14  2.0   \n",
       "1  OAS2_0001  OAS2_0001_MR2  Nondemented      2       457   M   88    14  2.0   \n",
       "2  OAS2_0002  OAS2_0002_MR1     Demented      1         0   M   75    12  2.0   \n",
       "3  OAS2_0002  OAS2_0002_MR2     Demented      2       560   M   76    12  2.0   \n",
       "4  OAS2_0002  OAS2_0002_MR3     Demented      3      1895   M   80    12  2.0   \n",
       "\n",
       "   MMSE  CDR  eTIV   nWBV    ASF  \n",
       "0  27.0  0.0  1987  0.696  0.883  \n",
       "1  30.0  0.0  2004  0.681  0.876  \n",
       "2  23.0  0.5  1678  0.736  1.046  \n",
       "3  28.0  0.5  1738  0.713  1.010  \n",
       "4  22.0  0.5  1698  0.701  1.034  "
      ]
     },
     "execution_count": 8,
     "metadata": {},
     "output_type": "execute_result"
    }
   ],
   "source": [
    "#drop redundant columns, like 'Hand'\n",
    "data = data.drop(['Hand'], axis=1)\n",
    "data.head()"
   ]
  },
  {
   "cell_type": "markdown",
   "id": "fed68a8a",
   "metadata": {
    "papermill": {
     "duration": 0.023473,
     "end_time": "2024-08-28T20:10:05.841114",
     "exception": false,
     "start_time": "2024-08-28T20:10:05.817641",
     "status": "completed"
    },
    "tags": []
   },
   "source": [
    "# Treating 'Converted' as 'Demented'\n",
    "Because the objective of this exercise isn't so much concerned with whether the patients' diagnosis has changed as whether they have dementia or not. So all groups labelled as 'Converted' will be treated as 'Demented'. "
   ]
  },
  {
   "cell_type": "code",
   "execution_count": 9,
   "id": "10ac6063",
   "metadata": {
    "papermill": {
     "duration": 0.047755,
     "end_time": "2024-08-28T20:10:05.913293",
     "exception": false,
     "start_time": "2024-08-28T20:10:05.865538",
     "status": "completed"
    },
    "tags": []
   },
   "outputs": [
    {
     "data": {
      "text/plain": [
       "Group\n",
       "Nondemented    190\n",
       "Demented       144\n",
       "Converted       37\n",
       "Name: count, dtype: int64"
      ]
     },
     "execution_count": 9,
     "metadata": {},
     "output_type": "execute_result"
    }
   ],
   "source": [
    "#find 'converted'\n",
    "data['Group'].value_counts()"
   ]
  },
  {
   "cell_type": "code",
   "execution_count": 10,
   "id": "3975092b",
   "metadata": {
    "papermill": {
     "duration": 0.037731,
     "end_time": "2024-08-28T20:10:05.974709",
     "exception": false,
     "start_time": "2024-08-28T20:10:05.936978",
     "status": "completed"
    },
    "tags": []
   },
   "outputs": [],
   "source": [
    "#Replace 'converted' with 'demented'\n",
    "data['Group'] = data['Group'].replace(['Converted'], ['Demented'])"
   ]
  },
  {
   "cell_type": "code",
   "execution_count": 11,
   "id": "69b83b83",
   "metadata": {
    "papermill": {
     "duration": 0.041335,
     "end_time": "2024-08-28T20:10:06.039608",
     "exception": false,
     "start_time": "2024-08-28T20:10:05.998273",
     "status": "completed"
    },
    "tags": []
   },
   "outputs": [
    {
     "data": {
      "text/plain": [
       "Group\n",
       "Nondemented    190\n",
       "Demented       181\n",
       "Name: count, dtype: int64"
      ]
     },
     "execution_count": 11,
     "metadata": {},
     "output_type": "execute_result"
    }
   ],
   "source": [
    "#count the new classes of our Groups now\n",
    "data['Group'].value_counts()"
   ]
  },
  {
   "cell_type": "markdown",
   "id": "8bba491f",
   "metadata": {
    "papermill": {
     "duration": 0.022487,
     "end_time": "2024-08-28T20:10:06.085457",
     "exception": false,
     "start_time": "2024-08-28T20:10:06.062970",
     "status": "completed"
    },
    "tags": []
   },
   "source": [
    "# Group EDA"
   ]
  },
  {
   "cell_type": "code",
   "execution_count": 12,
   "id": "ecb326b3",
   "metadata": {
    "papermill": {
     "duration": 0.312237,
     "end_time": "2024-08-28T20:10:06.421501",
     "exception": false,
     "start_time": "2024-08-28T20:10:06.109264",
     "status": "completed"
    },
    "tags": []
   },
   "outputs": [
    {
     "data": {
      "text/plain": [
       "<Axes: xlabel='Group', ylabel='count'>"
      ]
     },
     "execution_count": 12,
     "metadata": {},
     "output_type": "execute_result"
    },
    {
     "data": {
      "image/png": "[encoded data removed]",
      "text/plain": [
       "<Figure size 640x480 with 1 Axes>"
      ]
     },
     "metadata": {},
     "output_type": "display_data"
    }
   ],
   "source": [
    "sns.countplot(x = 'Group', data = data)"
   ]
  },
  {
   "cell_type": "code",
   "execution_count": 13,
   "id": "d05cf89c",
   "metadata": {
    "papermill": {
     "duration": 0.554024,
     "end_time": "2024-08-28T20:10:06.997816",
     "exception": false,
     "start_time": "2024-08-28T20:10:06.443792",
     "status": "completed"
    },
    "tags": []
   },
   "outputs": [
    {
     "data": {
      "text/plain": [
       "<seaborn.axisgrid.FacetGrid at 0x1eb9ca36d90>"
      ]
     },
     "execution_count": 13,
     "metadata": {},
     "output_type": "execute_result"
    },
    {
     "data": {
      "image/png": "[encoded data removed]",
      "text/plain": [
       "<Figure size 448.625x300 with 1 Axes>"
      ]
     },
     "metadata": {},
     "output_type": "display_data"
    }
   ],
   "source": [
    "sns.displot(data, x='M/F', hue='Group', multiple='stack', height = 3)"
   ]
  },
  {
   "cell_type": "markdown",
   "id": "11a50e42",
   "metadata": {
    "papermill": {
     "duration": 0.022684,
     "end_time": "2024-08-28T20:10:07.043149",
     "exception": false,
     "start_time": "2024-08-28T20:10:07.020465",
     "status": "completed"
    },
    "tags": []
   },
   "source": [
    "# Label Encoding"
   ]
  },
  {
   "cell_type": "code",
   "execution_count": 14,
   "id": "165f0f32",
   "metadata": {
    "papermill": {
     "duration": 0.05106,
     "end_time": "2024-08-28T20:10:07.117012",
     "exception": false,
     "start_time": "2024-08-28T20:10:07.065952",
     "status": "completed"
    },
    "tags": []
   },
   "outputs": [
    {
     "data": {
      "text/html": [
       "<div>\n",
       "<style scoped>\n",
       "    .dataframe tbody tr th:only-of-type {\n",
       "        vertical-align: middle;\n",
       "    }\n",
       "\n",
       "    .dataframe tbody tr th {\n",
       "        vertical-align: top;\n",
       "    }\n",
       "\n",
       "    .dataframe thead th {\n",
       "        text-align: right;\n",
       "    }\n",
       "</style>\n",
       "<table border=\"1\" class=\"dataframe\">\n",
       "  <thead>\n",
       "    <tr style=\"text-align: right;\">\n",
       "      <th></th>\n",
       "      <th>Subject ID</th>\n",
       "      <th>MRI ID</th>\n",
       "      <th>Group</th>\n",
       "      <th>Visit</th>\n",
       "      <th>MR Delay</th>\n",
       "      <th>M/F</th>\n",
       "      <th>Age</th>\n",
       "      <th>EDUC</th>\n",
       "      <th>SES</th>\n",
       "      <th>MMSE</th>\n",
       "      <th>CDR</th>\n",
       "      <th>eTIV</th>\n",
       "      <th>nWBV</th>\n",
       "      <th>ASF</th>\n",
       "    </tr>\n",
       "  </thead>\n",
       "  <tbody>\n",
       "    <tr>\n",
       "      <th>0</th>\n",
       "      <td>OAS2_0001</td>\n",
       "      <td>OAS2_0001_MR1</td>\n",
       "      <td>1</td>\n",
       "      <td>1</td>\n",
       "      <td>0</td>\n",
       "      <td>1</td>\n",
       "      <td>87</td>\n",
       "      <td>14</td>\n",
       "      <td>2.0</td>\n",
       "      <td>27.0</td>\n",
       "      <td>0.0</td>\n",
       "      <td>1987</td>\n",
       "      <td>0.696</td>\n",
       "      <td>0.883</td>\n",
       "    </tr>\n",
       "    <tr>\n",
       "      <th>1</th>\n",
       "      <td>OAS2_0001</td>\n",
       "      <td>OAS2_0001_MR2</td>\n",
       "      <td>1</td>\n",
       "      <td>2</td>\n",
       "      <td>457</td>\n",
       "      <td>1</td>\n",
       "      <td>88</td>\n",
       "      <td>14</td>\n",
       "      <td>2.0</td>\n",
       "      <td>30.0</td>\n",
       "      <td>0.0</td>\n",
       "      <td>2004</td>\n",
       "      <td>0.681</td>\n",
       "      <td>0.876</td>\n",
       "    </tr>\n",
       "    <tr>\n",
       "      <th>2</th>\n",
       "      <td>OAS2_0002</td>\n",
       "      <td>OAS2_0002_MR1</td>\n",
       "      <td>0</td>\n",
       "      <td>1</td>\n",
       "      <td>0</td>\n",
       "      <td>1</td>\n",
       "      <td>75</td>\n",
       "      <td>12</td>\n",
       "      <td>2.0</td>\n",
       "      <td>23.0</td>\n",
       "      <td>0.5</td>\n",
       "      <td>1678</td>\n",
       "      <td>0.736</td>\n",
       "      <td>1.046</td>\n",
       "    </tr>\n",
       "    <tr>\n",
       "      <th>3</th>\n",
       "      <td>OAS2_0002</td>\n",
       "      <td>OAS2_0002_MR2</td>\n",
       "      <td>0</td>\n",
       "      <td>2</td>\n",
       "      <td>560</td>\n",
       "      <td>1</td>\n",
       "      <td>76</td>\n",
       "      <td>12</td>\n",
       "      <td>2.0</td>\n",
       "      <td>28.0</td>\n",
       "      <td>0.5</td>\n",
       "      <td>1738</td>\n",
       "      <td>0.713</td>\n",
       "      <td>1.010</td>\n",
       "    </tr>\n",
       "    <tr>\n",
       "      <th>4</th>\n",
       "      <td>OAS2_0002</td>\n",
       "      <td>OAS2_0002_MR3</td>\n",
       "      <td>0</td>\n",
       "      <td>3</td>\n",
       "      <td>1895</td>\n",
       "      <td>1</td>\n",
       "      <td>80</td>\n",
       "      <td>12</td>\n",
       "      <td>2.0</td>\n",
       "      <td>22.0</td>\n",
       "      <td>0.5</td>\n",
       "      <td>1698</td>\n",
       "      <td>0.701</td>\n",
       "      <td>1.034</td>\n",
       "    </tr>\n",
       "  </tbody>\n",
       "</table>\n",
       "</div>"
      ],
      "text/plain": [
       "  Subject ID         MRI ID  Group  Visit  MR Delay  M/F  Age  EDUC  SES  \\\n",
       "0  OAS2_0001  OAS2_0001_MR1      1      1         0    1   87    14  2.0   \n",
       "1  OAS2_0001  OAS2_0001_MR2      1      2       457    1   88    14  2.0   \n",
       "2  OAS2_0002  OAS2_0002_MR1      0      1         0    1   75    12  2.0   \n",
       "3  OAS2_0002  OAS2_0002_MR2      0      2       560    1   76    12  2.0   \n",
       "4  OAS2_0002  OAS2_0002_MR3      0      3      1895    1   80    12  2.0   \n",
       "\n",
       "   MMSE  CDR  eTIV   nWBV    ASF  \n",
       "0  27.0  0.0  1987  0.696  0.883  \n",
       "1  30.0  0.0  2004  0.681  0.876  \n",
       "2  23.0  0.5  1678  0.736  1.046  \n",
       "3  28.0  0.5  1738  0.713  1.010  \n",
       "4  22.0  0.5  1698  0.701  1.034  "
      ]
     },
     "execution_count": 14,
     "metadata": {},
     "output_type": "execute_result"
    }
   ],
   "source": [
    "from sklearn.preprocessing import LabelEncoder\n",
    "labelencoder = LabelEncoder()\n",
    "\n",
    "data['M/F'] = labelencoder.fit_transform(data['M/F'])\n",
    "data['Group'] = labelencoder.fit_transform(data['Group'])\n",
    "data.head()"
   ]
  },
  {
   "cell_type": "markdown",
   "id": "762cbe38",
   "metadata": {
    "papermill": {
     "duration": 0.022604,
     "end_time": "2024-08-28T20:10:07.162677",
     "exception": false,
     "start_time": "2024-08-28T20:10:07.140073",
     "status": "completed"
    },
    "tags": []
   },
   "source": [
    "# Class Balancing"
   ]
  },
  {
   "cell_type": "code",
   "execution_count": 15,
   "id": "2d44a726",
   "metadata": {
    "papermill": {
     "duration": 0.274292,
     "end_time": "2024-08-28T20:10:07.459882",
     "exception": false,
     "start_time": "2024-08-28T20:10:07.185590",
     "status": "completed"
    },
    "tags": []
   },
   "outputs": [
    {
     "name": "stdout",
     "output_type": "stream",
     "text": [
      "Group\n",
      "1    190\n",
      "0    181\n",
      "Name: count, dtype: int64\n"
     ]
    },
    {
     "data": {
      "text/plain": [
       "<Axes: xlabel='Group', ylabel='count'>"
      ]
     },
     "execution_count": 15,
     "metadata": {},
     "output_type": "execute_result"
    },
    {
     "data": {
      "image/png": "[encoded data removed]",
      "text/plain": [
       "<Figure size 640x480 with 1 Axes>"
      ]
     },
     "metadata": {},
     "output_type": "display_data"
    }
   ],
   "source": [
    "#before class balancing\n",
    "print(data['Group'].value_counts())\n",
    "sns.countplot(x = 'Group', data = data)"
   ]
  },
  {
   "cell_type": "code",
   "execution_count": 16,
   "id": "4dbe7505",
   "metadata": {
    "papermill": {
     "duration": 0.034921,
     "end_time": "2024-08-28T20:10:07.518609",
     "exception": false,
     "start_time": "2024-08-28T20:10:07.483688",
     "status": "completed"
    },
    "tags": []
   },
   "outputs": [
    {
     "name": "stdout",
     "output_type": "stream",
     "text": [
      "[(0, 181), (1, 190)]\n"
     ]
    }
   ],
   "source": [
    "from collections import Counter\n",
    "print(sorted(Counter(data['Group']).items()))"
   ]
  },
  {
   "cell_type": "code",
   "execution_count": 17,
   "id": "c0406d2c",
   "metadata": {
    "papermill": {
     "duration": 0.034557,
     "end_time": "2024-08-28T20:10:07.576832",
     "exception": false,
     "start_time": "2024-08-28T20:10:07.542275",
     "status": "completed"
    },
    "tags": []
   },
   "outputs": [],
   "source": [
    "#let's split the variables here for easier class balancing\n",
    "x = data[['MR Delay','CDR','M/F', 'Age', 'EDUC','SES', 'MMSE', 'eTIV', 'nWBV', 'ASF']]\n",
    "y = data['Group']"
   ]
  },
  {
   "cell_type": "code",
   "execution_count": 18,
   "id": "e08dfae9",
   "metadata": {
    "papermill": {
     "duration": 0.306233,
     "end_time": "2024-08-28T20:10:07.907302",
     "exception": false,
     "start_time": "2024-08-28T20:10:07.601069",
     "status": "completed"
    },
    "tags": []
   },
   "outputs": [
    {
     "name": "stdout",
     "output_type": "stream",
     "text": [
      "[(0, 181), (1, 181)]\n"
     ]
    }
   ],
   "source": [
    "#perform undersampling\n",
    "\n",
    "from imblearn.under_sampling import NearMiss\n",
    "\n",
    "nearmiss = NearMiss(version=2)\n",
    "X_nearmiss, y_nearmiss = nearmiss.fit_resample(x, y)\n",
    "\n",
    "# Check the number of records after undersampling\n",
    "print(sorted(Counter(y_nearmiss).items()))"
   ]
  },
  {
   "cell_type": "code",
   "execution_count": 19,
   "id": "6530042c",
   "metadata": {
    "papermill": {
     "duration": 0.214274,
     "end_time": "2024-08-28T20:10:08.145011",
     "exception": false,
     "start_time": "2024-08-28T20:10:07.930737",
     "status": "completed"
    },
    "tags": []
   },
   "outputs": [
    {
     "name": "stdout",
     "output_type": "stream",
     "text": [
      "Counter({0: 181, 1: 181})\n"
     ]
    },
    {
     "data": {
      "image/png": "[encoded data removed]",
      "text/plain": [
       "<Figure size 500x500 with 1 Axes>"
      ]
     },
     "metadata": {},
     "output_type": "display_data"
    }
   ],
   "source": [
    "#after class balancing\n",
    "plt.subplots(figsize=(5,5))\n",
    "sns.countplot(x=y_nearmiss)\n",
    "print(Counter(y_nearmiss))"
   ]
  },
  {
   "cell_type": "markdown",
   "id": "12ab0a37",
   "metadata": {
    "papermill": {
     "duration": 0.023452,
     "end_time": "2024-08-28T20:10:08.192279",
     "exception": false,
     "start_time": "2024-08-28T20:10:08.168827",
     "status": "completed"
    },
    "tags": []
   },
   "source": [
    "# Model 1 - Random Forest with GridSearchCV"
   ]
  },
  {
   "cell_type": "code",
   "execution_count": 20,
   "id": "0443b622",
   "metadata": {
    "papermill": {
     "duration": 0.035476,
     "end_time": "2024-08-28T20:10:08.251597",
     "exception": false,
     "start_time": "2024-08-28T20:10:08.216121",
     "status": "completed"
    },
    "tags": []
   },
   "outputs": [],
   "source": [
    "#setting IV and TV - For Random Forest\n",
    "X = data[['MR Delay','CDR','M/F', 'Age', 'EDUC','SES', 'MMSE', 'eTIV', 'nWBV', 'ASF']]\n",
    "y = data['Group']"
   ]
  },
  {
   "cell_type": "code",
   "execution_count": 21,
   "id": "a56e7885",
   "metadata": {
    "papermill": {
     "duration": 0.039173,
     "end_time": "2024-08-28T20:10:08.315579",
     "exception": false,
     "start_time": "2024-08-28T20:10:08.276406",
     "status": "completed"
    },
    "tags": []
   },
   "outputs": [],
   "source": [
    "#data splitting\n",
    "from sklearn.model_selection import train_test_split\n",
    "X_train, X_test, y_train, y_test = train_test_split(X, y, test_size = 0.2, random_state = 1)"
   ]
  },
  {
   "cell_type": "code",
   "execution_count": 22,
   "id": "e57431eb",
   "metadata": {
    "papermill": {
     "duration": 0.038371,
     "end_time": "2024-08-28T20:10:08.378581",
     "exception": false,
     "start_time": "2024-08-28T20:10:08.340210",
     "status": "completed"
    },
    "tags": []
   },
   "outputs": [
    {
     "data": {
      "text/plain": [
       "{'bootstrap': True,\n",
       " 'ccp_alpha': 0.0,\n",
       " 'class_weight': None,\n",
       " 'criterion': 'gini',\n",
       " 'max_depth': None,\n",
       " 'max_features': 'sqrt',\n",
       " 'max_leaf_nodes': None,\n",
       " 'max_samples': None,\n",
       " 'min_impurity_decrease': 0.0,\n",
       " 'min_samples_leaf': 1,\n",
       " 'min_samples_split': 2,\n",
       " 'min_weight_fraction_leaf': 0.0,\n",
       " 'monotonic_cst': None,\n",
       " 'n_estimators': 100,\n",
       " 'n_jobs': None,\n",
       " 'oob_score': False,\n",
       " 'random_state': None,\n",
       " 'verbose': 0,\n",
       " 'warm_start': False}"
      ]
     },
     "execution_count": 22,
     "metadata": {},
     "output_type": "execute_result"
    }
   ],
   "source": [
    "#Base model parameters used\n",
    "from sklearn.ensemble import RandomForestClassifier\n",
    "rf = RandomForestClassifier()\n",
    "rf.get_params()"
   ]
  },
  {
   "cell_type": "code",
   "execution_count": 23,
   "id": "37d48a02",
   "metadata": {
    "papermill": {
     "duration": 0.287672,
     "end_time": "2024-08-28T20:10:08.691529",
     "exception": false,
     "start_time": "2024-08-28T20:10:08.403857",
     "status": "completed"
    },
    "tags": []
   },
   "outputs": [],
   "source": [
    "# Base Model Fitting\n",
    "from sklearn.metrics import classification_report, confusion_matrix, accuracy_score, precision_score, recall_score, f1_score\n",
    "\n",
    "rf.fit(X_train, y_train)\n",
    "y_pred = rf.predict(X_test)"
   ]
  },
  {
   "cell_type": "code",
   "execution_count": 24,
   "id": "d192dd2f",
   "metadata": {
    "papermill": {
     "duration": 0.057212,
     "end_time": "2024-08-28T20:10:08.774911",
     "exception": false,
     "start_time": "2024-08-28T20:10:08.717699",
     "status": "completed"
    },
    "tags": []
   },
   "outputs": [
    {
     "name": "stdout",
     "output_type": "stream",
     "text": [
      "\n",
      "RF - Accuracy: 94.667.\n",
      "RF - Precision: 0.947.\n",
      "RF - Recall: 0.947.\n",
      "RF - F1_Score: 0.947.\n",
      "\n",
      " Clasification Report - Base Model:\n",
      "               precision    recall  f1-score   support\n",
      "\n",
      "           0       1.00      0.89      0.94        36\n",
      "           1       0.91      1.00      0.95        39\n",
      "\n",
      "    accuracy                           0.95        75\n",
      "   macro avg       0.95      0.94      0.95        75\n",
      "weighted avg       0.95      0.95      0.95        75\n",
      "\n"
     ]
    }
   ],
   "source": [
    "#Get metrics\n",
    "rf_acc = accuracy_score(y_test, y_pred)*100\n",
    "rf_pre = precision_score(y_test,y_pred, average='micro')\n",
    "rf_recall = recall_score(y_test, y_pred, average='micro')\n",
    "rf_f1 = f1_score(y_test,y_pred, average='micro')\n",
    "\n",
    "print(\"\\nRF - Accuracy: {:.3f}.\".format(rf_acc))\n",
    "print(\"RF - Precision: {:.3f}.\".format(rf_pre))\n",
    "print(\"RF - Recall: {:.3f}.\".format(rf_recall))\n",
    "print(\"RF - F1_Score: {:.3f}.\".format(rf_f1))\n",
    "print('\\n Clasification Report - Base Model:\\n', classification_report(y_test,y_pred))"
   ]
  },
  {
   "cell_type": "code",
   "execution_count": 25,
   "id": "bb34519a",
   "metadata": {
    "papermill": {
     "duration": 0.038754,
     "end_time": "2024-08-28T20:10:08.838324",
     "exception": false,
     "start_time": "2024-08-28T20:10:08.799570",
     "status": "completed"
    },
    "tags": []
   },
   "outputs": [
    {
     "name": "stdout",
     "output_type": "stream",
     "text": [
      "     Actual  Predicted\n",
      "207       0          0\n",
      "82        0          1\n",
      "185       0          0\n",
      "370       1          1\n",
      "65        1          1\n"
     ]
    }
   ],
   "source": [
    "rf_df = pd.DataFrame({'Actual': y_test, 'Predicted': y_pred.round(2)})\n",
    "print(rf_df.head())"
   ]
  },
  {
   "cell_type": "code",
   "execution_count": 26,
   "id": "9594b802",
   "metadata": {
    "papermill": {
     "duration": 0.038242,
     "end_time": "2024-08-28T20:10:08.902072",
     "exception": false,
     "start_time": "2024-08-28T20:10:08.863830",
     "status": "completed"
    },
    "tags": []
   },
   "outputs": [],
   "source": [
    "#hyperparameter tuning\n",
    "\n",
    "from  numpy import arange\n",
    "\n",
    "parameters = {'criterion': ['gini', 'entropy'],\n",
    "              'class_weight': ['balanced', 'balanced_subsample', None],\n",
    "              'n_estimators': arange(100, 1000, 100), #number of trees in random forest\n",
    "              'max_features': ['sqrt'], \n",
    "              'max_depth': arange(10, 110, 10),\n",
    "              'min_samples_split': [2, 5, 10],\n",
    "              'min_samples_leaf': [1, 2, 4],\n",
    "              'bootstrap': [True, False]}"
   ]
  },
  {
   "cell_type": "code",
   "execution_count": null,
   "id": "987af676",
   "metadata": {
    "papermill": {
     "duration": 566.159891,
     "end_time": "2024-08-28T20:19:35.086829",
     "exception": false,
     "start_time": "2024-08-28T20:10:08.926938",
     "status": "completed"
    },
    "tags": []
   },
   "outputs": [
    {
     "name": "stdout",
     "output_type": "stream",
     "text": [
      "Fitting 5 folds for each of 100 candidates, totalling 500 fits\n",
      "[CV] END bootstrap=True, class_weight=balanced_subsample, criterion=entropy, max_depth=40, max_features=sqrt, min_samples_leaf=4, min_samples_split=10, n_estimators=400; total time=   0.6s\n",
      "[CV] END bootstrap=True, class_weight=balanced_subsample, criterion=entropy, max_depth=40, max_features=sqrt, min_samples_leaf=4, min_samples_split=10, n_estimators=400; total time=   0.5s\n",
      "[CV] END bootstrap=True, class_weight=balanced_subsample, criterion=entropy, max_depth=40, max_features=sqrt, min_samples_leaf=4, min_samples_split=10, n_estimators=400; total time=   0.5s\n",
      "[CV] END bootstrap=True, class_weight=balanced_subsample, criterion=entropy, max_depth=40, max_features=sqrt, min_samples_leaf=4, min_samples_split=10, n_estimators=400; total time=   0.5s\n",
      "[CV] END bootstrap=True, class_weight=balanced_subsample, criterion=entropy, max_depth=40, max_features=sqrt, min_samples_leaf=4, min_samples_split=10, n_estimators=400; total time=   0.5s\n",
      "[CV] END bootstrap=False, class_weight=None, criterion=entropy, max_depth=60, max_features=sqrt, min_samples_leaf=1, min_samples_split=2, n_estimators=900; total time=   0.9s\n",
      "[CV] END bootstrap=False, class_weight=None, criterion=entropy, max_depth=60, max_features=sqrt, min_samples_leaf=1, min_samples_split=2, n_estimators=900; total time=   0.9s\n",
      "[CV] END bootstrap=False, class_weight=None, criterion=entropy, max_depth=60, max_features=sqrt, min_samples_leaf=1, min_samples_split=2, n_estimators=900; total time=   0.9s\n",
      "[CV] END bootstrap=False, class_weight=None, criterion=entropy, max_depth=60, max_features=sqrt, min_samples_leaf=1, min_samples_split=2, n_estimators=900; total time=   0.9s\n",
      "[CV] END bootstrap=False, class_weight=None, criterion=entropy, max_depth=60, max_features=sqrt, min_samples_leaf=1, min_samples_split=2, n_estimators=900; total time=   0.9s\n",
      "[CV] END bootstrap=False, class_weight=balanced, criterion=gini, max_depth=80, max_features=sqrt, min_samples_leaf=1, min_samples_split=5, n_estimators=200; total time=   0.1s\n",
      "[CV] END bootstrap=False, class_weight=balanced, criterion=gini, max_depth=80, max_features=sqrt, min_samples_leaf=1, min_samples_split=5, n_estimators=200; total time=   0.1s\n",
      "[CV] END bootstrap=False, class_weight=balanced, criterion=gini, max_depth=80, max_features=sqrt, min_samples_leaf=1, min_samples_split=5, n_estimators=200; total time=   0.1s\n",
      "[CV] END bootstrap=False, class_weight=balanced, criterion=gini, max_depth=80, max_features=sqrt, min_samples_leaf=1, min_samples_split=5, n_estimators=200; total time=   0.1s\n",
      "[CV] END bootstrap=False, class_weight=balanced, criterion=gini, max_depth=80, max_features=sqrt, min_samples_leaf=1, min_samples_split=5, n_estimators=200; total time=   0.1s\n",
      "[CV] END bootstrap=False, class_weight=balanced, criterion=gini, max_depth=60, max_features=sqrt, min_samples_leaf=2, min_samples_split=2, n_estimators=200; total time=   0.1s\n",
      "[CV] END bootstrap=False, class_weight=balanced, criterion=gini, max_depth=60, max_features=sqrt, min_samples_leaf=2, min_samples_split=2, n_estimators=200; total time=   0.1s\n",
      "[CV] END bootstrap=False, class_weight=balanced, criterion=gini, max_depth=60, max_features=sqrt, min_samples_leaf=2, min_samples_split=2, n_estimators=200; total time=   0.1s\n",
      "[CV] END bootstrap=False, class_weight=balanced, criterion=gini, max_depth=60, max_features=sqrt, min_samples_leaf=2, min_samples_split=2, n_estimators=200; total time=   0.1s\n",
      "[CV] END bootstrap=False, class_weight=balanced, criterion=gini, max_depth=60, max_features=sqrt, min_samples_leaf=2, min_samples_split=2, n_estimators=200; total time=   0.1s\n",
      "[CV] END bootstrap=True, class_weight=balanced, criterion=gini, max_depth=50, max_features=sqrt, min_samples_leaf=1, min_samples_split=2, n_estimators=500; total time=   0.5s\n",
      "[CV] END bootstrap=True, class_weight=balanced, criterion=gini, max_depth=50, max_features=sqrt, min_samples_leaf=1, min_samples_split=2, n_estimators=500; total time=   0.5s\n",
      "[CV] END bootstrap=True, class_weight=balanced, criterion=gini, max_depth=50, max_features=sqrt, min_samples_leaf=1, min_samples_split=2, n_estimators=500; total time=   0.5s\n",
      "[CV] END bootstrap=True, class_weight=balanced, criterion=gini, max_depth=50, max_features=sqrt, min_samples_leaf=1, min_samples_split=2, n_estimators=500; total time=   0.5s\n",
      "[CV] END bootstrap=True, class_weight=balanced, criterion=gini, max_depth=50, max_features=sqrt, min_samples_leaf=1, min_samples_split=2, n_estimators=500; total time=   0.5s\n",
      "[CV] END bootstrap=True, class_weight=balanced, criterion=entropy, max_depth=50, max_features=sqrt, min_samples_leaf=4, min_samples_split=5, n_estimators=900; total time=   1.1s\n",
      "[CV] END bootstrap=True, class_weight=balanced, criterion=entropy, max_depth=50, max_features=sqrt, min_samples_leaf=4, min_samples_split=5, n_estimators=900; total time=   1.0s\n",
      "[CV] END bootstrap=True, class_weight=balanced, criterion=entropy, max_depth=50, max_features=sqrt, min_samples_leaf=4, min_samples_split=5, n_estimators=900; total time=   1.1s\n",
      "[CV] END bootstrap=True, class_weight=balanced, criterion=entropy, max_depth=50, max_features=sqrt, min_samples_leaf=4, min_samples_split=5, n_estimators=900; total time=   1.2s\n",
      "[CV] END bootstrap=True, class_weight=balanced, criterion=entropy, max_depth=50, max_features=sqrt, min_samples_leaf=4, min_samples_split=5, n_estimators=900; total time=   1.0s\n",
      "[CV] END bootstrap=True, class_weight=balanced, criterion=entropy, max_depth=80, max_features=sqrt, min_samples_leaf=1, min_samples_split=2, n_estimators=700; total time=   0.8s\n",
      "[CV] END bootstrap=True, class_weight=balanced, criterion=entropy, max_depth=80, max_features=sqrt, min_samples_leaf=1, min_samples_split=2, n_estimators=700; total time=   0.8s\n",
      "[CV] END bootstrap=True, class_weight=balanced, criterion=entropy, max_depth=80, max_features=sqrt, min_samples_leaf=1, min_samples_split=2, n_estimators=700; total time=   0.8s\n",
      "[CV] END bootstrap=True, class_weight=balanced, criterion=entropy, max_depth=80, max_features=sqrt, min_samples_leaf=1, min_samples_split=2, n_estimators=700; total time=   0.9s\n",
      "[CV] END bootstrap=True, class_weight=balanced, criterion=entropy, max_depth=80, max_features=sqrt, min_samples_leaf=1, min_samples_split=2, n_estimators=700; total time=   0.8s\n",
      "[CV] END bootstrap=False, class_weight=None, criterion=entropy, max_depth=10, max_features=sqrt, min_samples_leaf=1, min_samples_split=5, n_estimators=700; total time=   0.7s\n",
      "[CV] END bootstrap=False, class_weight=None, criterion=entropy, max_depth=10, max_features=sqrt, min_samples_leaf=1, min_samples_split=5, n_estimators=700; total time=   0.7s\n",
      "[CV] END bootstrap=False, class_weight=None, criterion=entropy, max_depth=10, max_features=sqrt, min_samples_leaf=1, min_samples_split=5, n_estimators=700; total time=   0.7s\n",
      "[CV] END bootstrap=False, class_weight=None, criterion=entropy, max_depth=10, max_features=sqrt, min_samples_leaf=1, min_samples_split=5, n_estimators=700; total time=   0.7s\n",
      "[CV] END bootstrap=False, class_weight=None, criterion=entropy, max_depth=10, max_features=sqrt, min_samples_leaf=1, min_samples_split=5, n_estimators=700; total time=   0.7s\n",
      "[CV] END bootstrap=False, class_weight=balanced_subsample, criterion=gini, max_depth=90, max_features=sqrt, min_samples_leaf=4, min_samples_split=2, n_estimators=200; total time=   0.1s\n",
      "[CV] END bootstrap=False, class_weight=balanced_subsample, criterion=gini, max_depth=90, max_features=sqrt, min_samples_leaf=4, min_samples_split=2, n_estimators=200; total time=   0.1s\n",
      "[CV] END bootstrap=False, class_weight=balanced_subsample, criterion=gini, max_depth=90, max_features=sqrt, min_samples_leaf=4, min_samples_split=2, n_estimators=200; total time=   0.1s\n",
      "[CV] END bootstrap=False, class_weight=balanced_subsample, criterion=gini, max_depth=90, max_features=sqrt, min_samples_leaf=4, min_samples_split=2, n_estimators=200; total time=   0.1s\n",
      "[CV] END bootstrap=False, class_weight=balanced_subsample, criterion=gini, max_depth=90, max_features=sqrt, min_samples_leaf=4, min_samples_split=2, n_estimators=200; total time=   0.1s\n",
      "[CV] END bootstrap=False, class_weight=None, criterion=entropy, max_depth=70, max_features=sqrt, min_samples_leaf=4, min_samples_split=10, n_estimators=100; total time=   0.0s\n",
      "[CV] END bootstrap=False, class_weight=None, criterion=entropy, max_depth=70, max_features=sqrt, min_samples_leaf=4, min_samples_split=10, n_estimators=100; total time=   0.0s\n",
      "[CV] END bootstrap=False, class_weight=None, criterion=entropy, max_depth=70, max_features=sqrt, min_samples_leaf=4, min_samples_split=10, n_estimators=100; total time=   0.0s\n",
      "[CV] END bootstrap=False, class_weight=None, criterion=entropy, max_depth=70, max_features=sqrt, min_samples_leaf=4, min_samples_split=10, n_estimators=100; total time=   0.0s\n",
      "[CV] END bootstrap=False, class_weight=None, criterion=entropy, max_depth=70, max_features=sqrt, min_samples_leaf=4, min_samples_split=10, n_estimators=100; total time=   0.0s\n",
      "[CV] END bootstrap=True, class_weight=balanced_subsample, criterion=gini, max_depth=70, max_features=sqrt, min_samples_leaf=2, min_samples_split=10, n_estimators=500; total time=   0.7s\n",
      "[CV] END bootstrap=True, class_weight=balanced_subsample, criterion=gini, max_depth=70, max_features=sqrt, min_samples_leaf=2, min_samples_split=10, n_estimators=500; total time=   0.7s\n",
      "[CV] END bootstrap=True, class_weight=balanced_subsample, criterion=gini, max_depth=70, max_features=sqrt, min_samples_leaf=2, min_samples_split=10, n_estimators=500; total time=   0.7s\n",
      "[CV] END bootstrap=True, class_weight=balanced_subsample, criterion=gini, max_depth=70, max_features=sqrt, min_samples_leaf=2, min_samples_split=10, n_estimators=500; total time=   0.7s\n",
      "[CV] END bootstrap=True, class_weight=balanced_subsample, criterion=gini, max_depth=70, max_features=sqrt, min_samples_leaf=2, min_samples_split=10, n_estimators=500; total time=   0.7s\n",
      "[CV] END bootstrap=False, class_weight=None, criterion=gini, max_depth=20, max_features=sqrt, min_samples_leaf=4, min_samples_split=5, n_estimators=200; total time=   0.1s\n",
      "[CV] END bootstrap=False, class_weight=None, criterion=gini, max_depth=20, max_features=sqrt, min_samples_leaf=4, min_samples_split=5, n_estimators=200; total time=   0.1s\n",
      "[CV] END bootstrap=False, class_weight=None, criterion=gini, max_depth=20, max_features=sqrt, min_samples_leaf=4, min_samples_split=5, n_estimators=200; total time=   0.1s\n",
      "[CV] END bootstrap=False, class_weight=None, criterion=gini, max_depth=20, max_features=sqrt, min_samples_leaf=4, min_samples_split=5, n_estimators=200; total time=   0.1s\n",
      "[CV] END bootstrap=False, class_weight=None, criterion=gini, max_depth=20, max_features=sqrt, min_samples_leaf=4, min_samples_split=5, n_estimators=200; total time=   0.1s\n",
      "[CV] END bootstrap=False, class_weight=balanced_subsample, criterion=gini, max_depth=100, max_features=sqrt, min_samples_leaf=1, min_samples_split=5, n_estimators=700; total time=   0.7s\n",
      "[CV] END bootstrap=False, class_weight=balanced_subsample, criterion=gini, max_depth=100, max_features=sqrt, min_samples_leaf=1, min_samples_split=5, n_estimators=700; total time=   0.7s\n",
      "[CV] END bootstrap=False, class_weight=balanced_subsample, criterion=gini, max_depth=100, max_features=sqrt, min_samples_leaf=1, min_samples_split=5, n_estimators=700; total time=   0.7s\n",
      "[CV] END bootstrap=False, class_weight=balanced_subsample, criterion=gini, max_depth=100, max_features=sqrt, min_samples_leaf=1, min_samples_split=5, n_estimators=700; total time=   0.7s\n",
      "[CV] END bootstrap=False, class_weight=balanced_subsample, criterion=gini, max_depth=100, max_features=sqrt, min_samples_leaf=1, min_samples_split=5, n_estimators=700; total time=   0.7s\n",
      "[CV] END bootstrap=False, class_weight=None, criterion=gini, max_depth=40, max_features=sqrt, min_samples_leaf=1, min_samples_split=2, n_estimators=700; total time=   0.6s\n",
      "[CV] END bootstrap=False, class_weight=None, criterion=gini, max_depth=40, max_features=sqrt, min_samples_leaf=1, min_samples_split=2, n_estimators=700; total time=   0.6s\n",
      "[CV] END bootstrap=False, class_weight=None, criterion=gini, max_depth=40, max_features=sqrt, min_samples_leaf=1, min_samples_split=2, n_estimators=700; total time=   0.6s\n",
      "[CV] END bootstrap=False, class_weight=None, criterion=gini, max_depth=40, max_features=sqrt, min_samples_leaf=1, min_samples_split=2, n_estimators=700; total time=   0.6s\n",
      "[CV] END bootstrap=False, class_weight=None, criterion=gini, max_depth=40, max_features=sqrt, min_samples_leaf=1, min_samples_split=2, n_estimators=700; total time=   0.6s\n",
      "[CV] END bootstrap=False, class_weight=None, criterion=gini, max_depth=10, max_features=sqrt, min_samples_leaf=4, min_samples_split=2, n_estimators=600; total time=   0.5s\n",
      "[CV] END bootstrap=False, class_weight=None, criterion=gini, max_depth=10, max_features=sqrt, min_samples_leaf=4, min_samples_split=2, n_estimators=600; total time=   0.5s\n",
      "[CV] END bootstrap=False, class_weight=None, criterion=gini, max_depth=10, max_features=sqrt, min_samples_leaf=4, min_samples_split=2, n_estimators=600; total time=   0.5s\n",
      "[CV] END bootstrap=False, class_weight=None, criterion=gini, max_depth=10, max_features=sqrt, min_samples_leaf=4, min_samples_split=2, n_estimators=600; total time=   0.5s\n",
      "[CV] END bootstrap=False, class_weight=None, criterion=gini, max_depth=10, max_features=sqrt, min_samples_leaf=4, min_samples_split=2, n_estimators=600; total time=   0.5s\n",
      "[CV] END bootstrap=False, class_weight=balanced, criterion=gini, max_depth=80, max_features=sqrt, min_samples_leaf=2, min_samples_split=2, n_estimators=100; total time=   0.0s\n",
      "[CV] END bootstrap=False, class_weight=balanced, criterion=gini, max_depth=80, max_features=sqrt, min_samples_leaf=2, min_samples_split=2, n_estimators=100; total time=   0.0s\n",
      "[CV] END bootstrap=False, class_weight=balanced, criterion=gini, max_depth=80, max_features=sqrt, min_samples_leaf=2, min_samples_split=2, n_estimators=100; total time=   0.0s\n",
      "[CV] END bootstrap=False, class_weight=balanced, criterion=gini, max_depth=80, max_features=sqrt, min_samples_leaf=2, min_samples_split=2, n_estimators=100; total time=   0.0s\n",
      "[CV] END bootstrap=False, class_weight=balanced, criterion=gini, max_depth=80, max_features=sqrt, min_samples_leaf=2, min_samples_split=2, n_estimators=100; total time=   0.0s\n",
      "[CV] END bootstrap=True, class_weight=balanced, criterion=entropy, max_depth=90, max_features=sqrt, min_samples_leaf=1, min_samples_split=5, n_estimators=400; total time=   0.4s\n",
      "[CV] END bootstrap=True, class_weight=balanced, criterion=entropy, max_depth=90, max_features=sqrt, min_samples_leaf=1, min_samples_split=5, n_estimators=400; total time=   0.4s\n",
      "[CV] END bootstrap=True, class_weight=balanced, criterion=entropy, max_depth=90, max_features=sqrt, min_samples_leaf=1, min_samples_split=5, n_estimators=400; total time=   0.4s\n",
      "[CV] END bootstrap=True, class_weight=balanced, criterion=entropy, max_depth=90, max_features=sqrt, min_samples_leaf=1, min_samples_split=5, n_estimators=400; total time=   0.4s\n",
      "[CV] END bootstrap=True, class_weight=balanced, criterion=entropy, max_depth=90, max_features=sqrt, min_samples_leaf=1, min_samples_split=5, n_estimators=400; total time=   0.4s\n",
      "[CV] END bootstrap=False, class_weight=balanced_subsample, criterion=gini, max_depth=100, max_features=sqrt, min_samples_leaf=2, min_samples_split=10, n_estimators=100; total time=   0.0s\n",
      "[CV] END bootstrap=False, class_weight=balanced_subsample, criterion=gini, max_depth=100, max_features=sqrt, min_samples_leaf=2, min_samples_split=10, n_estimators=100; total time=   0.0s\n",
      "[CV] END bootstrap=False, class_weight=balanced_subsample, criterion=gini, max_depth=100, max_features=sqrt, min_samples_leaf=2, min_samples_split=10, n_estimators=100; total time=   0.0s\n",
      "[CV] END bootstrap=False, class_weight=balanced_subsample, criterion=gini, max_depth=100, max_features=sqrt, min_samples_leaf=2, min_samples_split=10, n_estimators=100; total time=   0.0s\n",
      "[CV] END bootstrap=False, class_weight=balanced_subsample, criterion=gini, max_depth=100, max_features=sqrt, min_samples_leaf=2, min_samples_split=10, n_estimators=100; total time=   0.0s\n",
      "[CV] END bootstrap=True, class_weight=balanced_subsample, criterion=entropy, max_depth=30, max_features=sqrt, min_samples_leaf=2, min_samples_split=5, n_estimators=200; total time=   0.2s\n",
      "[CV] END bootstrap=True, class_weight=balanced_subsample, criterion=entropy, max_depth=30, max_features=sqrt, min_samples_leaf=2, min_samples_split=5, n_estimators=200; total time=   0.2s\n",
      "[CV] END bootstrap=True, class_weight=balanced_subsample, criterion=entropy, max_depth=30, max_features=sqrt, min_samples_leaf=2, min_samples_split=5, n_estimators=200; total time=   0.3s\n",
      "[CV] END bootstrap=True, class_weight=balanced_subsample, criterion=entropy, max_depth=30, max_features=sqrt, min_samples_leaf=2, min_samples_split=5, n_estimators=200; total time=   0.3s\n",
      "[CV] END bootstrap=True, class_weight=balanced_subsample, criterion=entropy, max_depth=30, max_features=sqrt, min_samples_leaf=2, min_samples_split=5, n_estimators=200; total time=   0.2s\n",
      "[CV] END bootstrap=False, class_weight=None, criterion=entropy, max_depth=70, max_features=sqrt, min_samples_leaf=2, min_samples_split=10, n_estimators=200; total time=   0.1s\n",
      "[CV] END bootstrap=False, class_weight=None, criterion=entropy, max_depth=70, max_features=sqrt, min_samples_leaf=2, min_samples_split=10, n_estimators=200; total time=   0.1s\n",
      "[CV] END bootstrap=False, class_weight=None, criterion=entropy, max_depth=70, max_features=sqrt, min_samples_leaf=2, min_samples_split=10, n_estimators=200; total time=   0.1s\n",
      "[CV] END bootstrap=False, class_weight=None, criterion=entropy, max_depth=70, max_features=sqrt, min_samples_leaf=2, min_samples_split=10, n_estimators=200; total time=   0.1s\n",
      "[CV] END bootstrap=False, class_weight=None, criterion=entropy, max_depth=70, max_features=sqrt, min_samples_leaf=2, min_samples_split=10, n_estimators=200; total time=   0.1s\n",
      "[CV] END bootstrap=True, class_weight=balanced, criterion=entropy, max_depth=70, max_features=sqrt, min_samples_leaf=1, min_samples_split=10, n_estimators=200; total time=   0.1s\n",
      "[CV] END bootstrap=True, class_weight=balanced, criterion=entropy, max_depth=70, max_features=sqrt, min_samples_leaf=1, min_samples_split=10, n_estimators=200; total time=   0.2s\n",
      "[CV] END bootstrap=True, class_weight=balanced, criterion=entropy, max_depth=70, max_features=sqrt, min_samples_leaf=1, min_samples_split=10, n_estimators=200; total time=   0.2s\n",
      "[CV] END bootstrap=True, class_weight=balanced, criterion=entropy, max_depth=70, max_features=sqrt, min_samples_leaf=1, min_samples_split=10, n_estimators=200; total time=   0.2s\n",
      "[CV] END bootstrap=True, class_weight=balanced, criterion=entropy, max_depth=70, max_features=sqrt, min_samples_leaf=1, min_samples_split=10, n_estimators=200; total time=   0.2s\n",
      "[CV] END bootstrap=False, class_weight=None, criterion=gini, max_depth=40, max_features=sqrt, min_samples_leaf=4, min_samples_split=5, n_estimators=400; total time=   0.3s\n",
      "[CV] END bootstrap=False, class_weight=None, criterion=gini, max_depth=40, max_features=sqrt, min_samples_leaf=4, min_samples_split=5, n_estimators=400; total time=   0.3s\n",
      "[CV] END bootstrap=False, class_weight=None, criterion=gini, max_depth=40, max_features=sqrt, min_samples_leaf=4, min_samples_split=5, n_estimators=400; total time=   0.3s\n",
      "[CV] END bootstrap=False, class_weight=None, criterion=gini, max_depth=40, max_features=sqrt, min_samples_leaf=4, min_samples_split=5, n_estimators=400; total time=   0.3s\n",
      "[CV] END bootstrap=False, class_weight=None, criterion=gini, max_depth=40, max_features=sqrt, min_samples_leaf=4, min_samples_split=5, n_estimators=400; total time=   0.3s\n",
      "[CV] END bootstrap=True, class_weight=None, criterion=entropy, max_depth=30, max_features=sqrt, min_samples_leaf=2, min_samples_split=2, n_estimators=100; total time=   0.0s\n",
      "[CV] END bootstrap=True, class_weight=None, criterion=entropy, max_depth=30, max_features=sqrt, min_samples_leaf=2, min_samples_split=2, n_estimators=100; total time=   0.0s\n",
      "[CV] END bootstrap=True, class_weight=None, criterion=entropy, max_depth=30, max_features=sqrt, min_samples_leaf=2, min_samples_split=2, n_estimators=100; total time=   0.0s\n",
      "[CV] END bootstrap=True, class_weight=None, criterion=entropy, max_depth=30, max_features=sqrt, min_samples_leaf=2, min_samples_split=2, n_estimators=100; total time=   0.0s\n",
      "[CV] END bootstrap=True, class_weight=None, criterion=entropy, max_depth=30, max_features=sqrt, min_samples_leaf=2, min_samples_split=2, n_estimators=100; total time=   0.0s\n",
      "[CV] END bootstrap=True, class_weight=balanced_subsample, criterion=gini, max_depth=90, max_features=sqrt, min_samples_leaf=1, min_samples_split=5, n_estimators=700; total time=   1.0s\n",
      "[CV] END bootstrap=True, class_weight=balanced_subsample, criterion=gini, max_depth=90, max_features=sqrt, min_samples_leaf=1, min_samples_split=5, n_estimators=700; total time=   1.0s\n",
      "[CV] END bootstrap=True, class_weight=balanced_subsample, criterion=gini, max_depth=90, max_features=sqrt, min_samples_leaf=1, min_samples_split=5, n_estimators=700; total time=   1.0s\n",
      "[CV] END bootstrap=True, class_weight=balanced_subsample, criterion=gini, max_depth=90, max_features=sqrt, min_samples_leaf=1, min_samples_split=5, n_estimators=700; total time=   1.1s\n",
      "[CV] END bootstrap=True, class_weight=balanced_subsample, criterion=gini, max_depth=90, max_features=sqrt, min_samples_leaf=1, min_samples_split=5, n_estimators=700; total time=   1.0s\n",
      "[CV] END bootstrap=True, class_weight=None, criterion=entropy, max_depth=90, max_features=sqrt, min_samples_leaf=4, min_samples_split=5, n_estimators=200; total time=   0.2s\n",
      "[CV] END bootstrap=True, class_weight=None, criterion=entropy, max_depth=90, max_features=sqrt, min_samples_leaf=4, min_samples_split=5, n_estimators=200; total time=   0.2s\n",
      "[CV] END bootstrap=True, class_weight=None, criterion=entropy, max_depth=90, max_features=sqrt, min_samples_leaf=4, min_samples_split=5, n_estimators=200; total time=   0.2s\n",
      "[CV] END bootstrap=True, class_weight=None, criterion=entropy, max_depth=90, max_features=sqrt, min_samples_leaf=4, min_samples_split=5, n_estimators=200; total time=   0.1s\n",
      "[CV] END bootstrap=True, class_weight=None, criterion=entropy, max_depth=90, max_features=sqrt, min_samples_leaf=4, min_samples_split=5, n_estimators=200; total time=   0.2s\n",
      "[CV] END bootstrap=False, class_weight=balanced_subsample, criterion=entropy, max_depth=50, max_features=sqrt, min_samples_leaf=4, min_samples_split=5, n_estimators=800; total time=   0.9s\n",
      "[CV] END bootstrap=False, class_weight=balanced_subsample, criterion=entropy, max_depth=50, max_features=sqrt, min_samples_leaf=4, min_samples_split=5, n_estimators=800; total time=   0.8s\n",
      "[CV] END bootstrap=False, class_weight=balanced_subsample, criterion=entropy, max_depth=50, max_features=sqrt, min_samples_leaf=4, min_samples_split=5, n_estimators=800; total time=   0.8s\n",
      "[CV] END bootstrap=False, class_weight=balanced_subsample, criterion=entropy, max_depth=50, max_features=sqrt, min_samples_leaf=4, min_samples_split=5, n_estimators=800; total time=   0.9s\n",
      "[CV] END bootstrap=False, class_weight=balanced_subsample, criterion=entropy, max_depth=50, max_features=sqrt, min_samples_leaf=4, min_samples_split=5, n_estimators=800; total time=   0.9s\n",
      "[CV] END bootstrap=True, class_weight=balanced, criterion=entropy, max_depth=10, max_features=sqrt, min_samples_leaf=1, min_samples_split=5, n_estimators=500; total time=   0.5s\n",
      "[CV] END bootstrap=True, class_weight=balanced, criterion=entropy, max_depth=10, max_features=sqrt, min_samples_leaf=1, min_samples_split=5, n_estimators=500; total time=   0.6s\n",
      "[CV] END bootstrap=True, class_weight=balanced, criterion=entropy, max_depth=10, max_features=sqrt, min_samples_leaf=1, min_samples_split=5, n_estimators=500; total time=   0.6s\n",
      "[CV] END bootstrap=True, class_weight=balanced, criterion=entropy, max_depth=10, max_features=sqrt, min_samples_leaf=1, min_samples_split=5, n_estimators=500; total time=   0.6s\n",
      "[CV] END bootstrap=True, class_weight=balanced, criterion=entropy, max_depth=10, max_features=sqrt, min_samples_leaf=1, min_samples_split=5, n_estimators=500; total time=   0.6s\n",
      "[CV] END bootstrap=False, class_weight=balanced, criterion=gini, max_depth=90, max_features=sqrt, min_samples_leaf=1, min_samples_split=10, n_estimators=200; total time=   0.1s\n",
      "[CV] END bootstrap=False, class_weight=balanced, criterion=gini, max_depth=90, max_features=sqrt, min_samples_leaf=1, min_samples_split=10, n_estimators=200; total time=   0.1s\n",
      "[CV] END bootstrap=False, class_weight=balanced, criterion=gini, max_depth=90, max_features=sqrt, min_samples_leaf=1, min_samples_split=10, n_estimators=200; total time=   0.2s\n",
      "[CV] END bootstrap=False, class_weight=balanced, criterion=gini, max_depth=90, max_features=sqrt, min_samples_leaf=1, min_samples_split=10, n_estimators=200; total time=   0.1s\n",
      "[CV] END bootstrap=False, class_weight=balanced, criterion=gini, max_depth=90, max_features=sqrt, min_samples_leaf=1, min_samples_split=10, n_estimators=200; total time=   0.1s\n",
      "[CV] END bootstrap=False, class_weight=balanced_subsample, criterion=gini, max_depth=80, max_features=sqrt, min_samples_leaf=1, min_samples_split=5, n_estimators=100; total time=   0.0s\n",
      "[CV] END bootstrap=False, class_weight=balanced_subsample, criterion=gini, max_depth=80, max_features=sqrt, min_samples_leaf=1, min_samples_split=5, n_estimators=100; total time=   0.0s\n",
      "[CV] END bootstrap=False, class_weight=balanced_subsample, criterion=gini, max_depth=80, max_features=sqrt, min_samples_leaf=1, min_samples_split=5, n_estimators=100; total time=   0.0s\n",
      "[CV] END bootstrap=False, class_weight=balanced_subsample, criterion=gini, max_depth=80, max_features=sqrt, min_samples_leaf=1, min_samples_split=5, n_estimators=100; total time=   0.0s\n",
      "[CV] END bootstrap=False, class_weight=balanced_subsample, criterion=gini, max_depth=80, max_features=sqrt, min_samples_leaf=1, min_samples_split=5, n_estimators=100; total time=   0.0s\n",
      "[CV] END bootstrap=True, class_weight=balanced, criterion=gini, max_depth=60, max_features=sqrt, min_samples_leaf=2, min_samples_split=2, n_estimators=300; total time=   0.3s\n",
      "[CV] END bootstrap=True, class_weight=balanced, criterion=gini, max_depth=60, max_features=sqrt, min_samples_leaf=2, min_samples_split=2, n_estimators=300; total time=   0.3s\n",
      "[CV] END bootstrap=True, class_weight=balanced, criterion=gini, max_depth=60, max_features=sqrt, min_samples_leaf=2, min_samples_split=2, n_estimators=300; total time=   0.3s\n",
      "[CV] END bootstrap=True, class_weight=balanced, criterion=gini, max_depth=60, max_features=sqrt, min_samples_leaf=2, min_samples_split=2, n_estimators=300; total time=   0.3s\n",
      "[CV] END bootstrap=True, class_weight=balanced, criterion=gini, max_depth=60, max_features=sqrt, min_samples_leaf=2, min_samples_split=2, n_estimators=300; total time=   0.3s\n",
      "[CV] END bootstrap=False, class_weight=None, criterion=entropy, max_depth=60, max_features=sqrt, min_samples_leaf=4, min_samples_split=10, n_estimators=200; total time=   0.1s\n",
      "[CV] END bootstrap=False, class_weight=None, criterion=entropy, max_depth=60, max_features=sqrt, min_samples_leaf=4, min_samples_split=10, n_estimators=200; total time=   0.1s\n",
      "[CV] END bootstrap=False, class_weight=None, criterion=entropy, max_depth=60, max_features=sqrt, min_samples_leaf=4, min_samples_split=10, n_estimators=200; total time=   0.1s\n",
      "[CV] END bootstrap=False, class_weight=None, criterion=entropy, max_depth=60, max_features=sqrt, min_samples_leaf=4, min_samples_split=10, n_estimators=200; total time=   0.1s\n",
      "[CV] END bootstrap=False, class_weight=None, criterion=entropy, max_depth=60, max_features=sqrt, min_samples_leaf=4, min_samples_split=10, n_estimators=200; total time=   0.1s\n",
      "[CV] END bootstrap=False, class_weight=None, criterion=entropy, max_depth=60, max_features=sqrt, min_samples_leaf=4, min_samples_split=5, n_estimators=900; total time=   0.9s\n",
      "[CV] END bootstrap=False, class_weight=None, criterion=entropy, max_depth=60, max_features=sqrt, min_samples_leaf=4, min_samples_split=5, n_estimators=900; total time=   0.9s\n",
      "[CV] END bootstrap=False, class_weight=None, criterion=entropy, max_depth=60, max_features=sqrt, min_samples_leaf=4, min_samples_split=5, n_estimators=900; total time=   0.9s\n",
      "[CV] END bootstrap=False, class_weight=None, criterion=entropy, max_depth=60, max_features=sqrt, min_samples_leaf=4, min_samples_split=5, n_estimators=900; total time=   0.9s\n",
      "[CV] END bootstrap=False, class_weight=None, criterion=entropy, max_depth=60, max_features=sqrt, min_samples_leaf=4, min_samples_split=5, n_estimators=900; total time=   0.9s\n",
      "[CV] END bootstrap=False, class_weight=balanced_subsample, criterion=gini, max_depth=10, max_features=sqrt, min_samples_leaf=2, min_samples_split=10, n_estimators=300; total time=   0.2s\n",
      "[CV] END bootstrap=False, class_weight=balanced_subsample, criterion=gini, max_depth=10, max_features=sqrt, min_samples_leaf=2, min_samples_split=10, n_estimators=300; total time=   0.2s\n",
      "[CV] END bootstrap=False, class_weight=balanced_subsample, criterion=gini, max_depth=10, max_features=sqrt, min_samples_leaf=2, min_samples_split=10, n_estimators=300; total time=   0.2s\n",
      "[CV] END bootstrap=False, class_weight=balanced_subsample, criterion=gini, max_depth=10, max_features=sqrt, min_samples_leaf=2, min_samples_split=10, n_estimators=300; total time=   0.2s\n",
      "[CV] END bootstrap=False, class_weight=balanced_subsample, criterion=gini, max_depth=10, max_features=sqrt, min_samples_leaf=2, min_samples_split=10, n_estimators=300; total time=   0.3s\n",
      "[CV] END bootstrap=True, class_weight=None, criterion=entropy, max_depth=70, max_features=sqrt, min_samples_leaf=1, min_samples_split=2, n_estimators=300; total time=   0.3s\n",
      "[CV] END bootstrap=True, class_weight=None, criterion=entropy, max_depth=70, max_features=sqrt, min_samples_leaf=1, min_samples_split=2, n_estimators=300; total time=   0.3s\n",
      "[CV] END bootstrap=True, class_weight=None, criterion=entropy, max_depth=70, max_features=sqrt, min_samples_leaf=1, min_samples_split=2, n_estimators=300; total time=   0.3s\n",
      "[CV] END bootstrap=True, class_weight=None, criterion=entropy, max_depth=70, max_features=sqrt, min_samples_leaf=1, min_samples_split=2, n_estimators=300; total time=   0.3s\n",
      "[CV] END bootstrap=True, class_weight=None, criterion=entropy, max_depth=70, max_features=sqrt, min_samples_leaf=1, min_samples_split=2, n_estimators=300; total time=   0.3s\n",
      "[CV] END bootstrap=True, class_weight=balanced_subsample, criterion=entropy, max_depth=40, max_features=sqrt, min_samples_leaf=2, min_samples_split=10, n_estimators=300; total time=   0.4s\n",
      "[CV] END bootstrap=True, class_weight=balanced_subsample, criterion=entropy, max_depth=40, max_features=sqrt, min_samples_leaf=2, min_samples_split=10, n_estimators=300; total time=   0.4s\n",
      "[CV] END bootstrap=True, class_weight=balanced_subsample, criterion=entropy, max_depth=40, max_features=sqrt, min_samples_leaf=2, min_samples_split=10, n_estimators=300; total time=   0.4s\n",
      "[CV] END bootstrap=True, class_weight=balanced_subsample, criterion=entropy, max_depth=40, max_features=sqrt, min_samples_leaf=2, min_samples_split=10, n_estimators=300; total time=   0.4s\n",
      "[CV] END bootstrap=True, class_weight=balanced_subsample, criterion=entropy, max_depth=40, max_features=sqrt, min_samples_leaf=2, min_samples_split=10, n_estimators=300; total time=   0.4s\n",
      "[CV] END bootstrap=True, class_weight=balanced_subsample, criterion=entropy, max_depth=90, max_features=sqrt, min_samples_leaf=1, min_samples_split=5, n_estimators=200; total time=   0.3s\n",
      "[CV] END bootstrap=True, class_weight=balanced_subsample, criterion=entropy, max_depth=90, max_features=sqrt, min_samples_leaf=1, min_samples_split=5, n_estimators=200; total time=   0.2s\n",
      "[CV] END bootstrap=True, class_weight=balanced_subsample, criterion=entropy, max_depth=90, max_features=sqrt, min_samples_leaf=1, min_samples_split=5, n_estimators=200; total time=   0.2s\n",
      "[CV] END bootstrap=True, class_weight=balanced_subsample, criterion=entropy, max_depth=90, max_features=sqrt, min_samples_leaf=1, min_samples_split=5, n_estimators=200; total time=   0.2s\n",
      "[CV] END bootstrap=True, class_weight=balanced_subsample, criterion=entropy, max_depth=90, max_features=sqrt, min_samples_leaf=1, min_samples_split=5, n_estimators=200; total time=   0.2s\n",
      "[CV] END bootstrap=False, class_weight=balanced_subsample, criterion=entropy, max_depth=60, max_features=sqrt, min_samples_leaf=1, min_samples_split=10, n_estimators=500; total time=   0.5s\n",
      "[CV] END bootstrap=False, class_weight=balanced_subsample, criterion=entropy, max_depth=60, max_features=sqrt, min_samples_leaf=1, min_samples_split=10, n_estimators=500; total time=   0.4s\n",
      "[CV] END bootstrap=False, class_weight=balanced_subsample, criterion=entropy, max_depth=60, max_features=sqrt, min_samples_leaf=1, min_samples_split=10, n_estimators=500; total time=   0.5s\n",
      "[CV] END bootstrap=False, class_weight=balanced_subsample, criterion=entropy, max_depth=60, max_features=sqrt, min_samples_leaf=1, min_samples_split=10, n_estimators=500; total time=   0.5s\n",
      "[CV] END bootstrap=False, class_weight=balanced_subsample, criterion=entropy, max_depth=60, max_features=sqrt, min_samples_leaf=1, min_samples_split=10, n_estimators=500; total time=   0.5s\n",
      "[CV] END bootstrap=True, class_weight=None, criterion=gini, max_depth=20, max_features=sqrt, min_samples_leaf=4, min_samples_split=5, n_estimators=300; total time=   0.3s\n",
      "[CV] END bootstrap=True, class_weight=None, criterion=gini, max_depth=20, max_features=sqrt, min_samples_leaf=4, min_samples_split=5, n_estimators=300; total time=   0.3s\n",
      "[CV] END bootstrap=True, class_weight=None, criterion=gini, max_depth=20, max_features=sqrt, min_samples_leaf=4, min_samples_split=5, n_estimators=300; total time=   0.3s\n",
      "[CV] END bootstrap=True, class_weight=None, criterion=gini, max_depth=20, max_features=sqrt, min_samples_leaf=4, min_samples_split=5, n_estimators=300; total time=   0.3s\n",
      "[CV] END bootstrap=True, class_weight=None, criterion=gini, max_depth=20, max_features=sqrt, min_samples_leaf=4, min_samples_split=5, n_estimators=300; total time=   0.3s\n",
      "[CV] END bootstrap=True, class_weight=balanced, criterion=entropy, max_depth=80, max_features=sqrt, min_samples_leaf=4, min_samples_split=10, n_estimators=800; total time=   0.9s\n",
      "[CV] END bootstrap=True, class_weight=balanced, criterion=entropy, max_depth=80, max_features=sqrt, min_samples_leaf=4, min_samples_split=10, n_estimators=800; total time=   0.9s\n",
      "[CV] END bootstrap=True, class_weight=balanced, criterion=entropy, max_depth=80, max_features=sqrt, min_samples_leaf=4, min_samples_split=10, n_estimators=800; total time=   0.9s\n",
      "[CV] END bootstrap=True, class_weight=balanced, criterion=entropy, max_depth=80, max_features=sqrt, min_samples_leaf=4, min_samples_split=10, n_estimators=800; total time=   1.0s\n",
      "[CV] END bootstrap=True, class_weight=balanced, criterion=entropy, max_depth=80, max_features=sqrt, min_samples_leaf=4, min_samples_split=10, n_estimators=800; total time=   0.9s\n",
      "[CV] END bootstrap=True, class_weight=None, criterion=gini, max_depth=100, max_features=sqrt, min_samples_leaf=2, min_samples_split=2, n_estimators=100; total time=   0.0s\n",
      "[CV] END bootstrap=True, class_weight=None, criterion=gini, max_depth=100, max_features=sqrt, min_samples_leaf=2, min_samples_split=2, n_estimators=100; total time=   0.0s\n",
      "[CV] END bootstrap=True, class_weight=None, criterion=gini, max_depth=100, max_features=sqrt, min_samples_leaf=2, min_samples_split=2, n_estimators=100; total time=   0.0s\n",
      "[CV] END bootstrap=True, class_weight=None, criterion=gini, max_depth=100, max_features=sqrt, min_samples_leaf=2, min_samples_split=2, n_estimators=100; total time=   0.0s\n",
      "[CV] END bootstrap=True, class_weight=None, criterion=gini, max_depth=100, max_features=sqrt, min_samples_leaf=2, min_samples_split=2, n_estimators=100; total time=   0.0s\n",
      "[CV] END bootstrap=True, class_weight=balanced, criterion=entropy, max_depth=40, max_features=sqrt, min_samples_leaf=4, min_samples_split=5, n_estimators=700; total time=   0.8s\n",
      "[CV] END bootstrap=True, class_weight=balanced, criterion=entropy, max_depth=40, max_features=sqrt, min_samples_leaf=4, min_samples_split=5, n_estimators=700; total time=   0.8s\n",
      "[CV] END bootstrap=True, class_weight=balanced, criterion=entropy, max_depth=40, max_features=sqrt, min_samples_leaf=4, min_samples_split=5, n_estimators=700; total time=   0.8s\n",
      "[CV] END bootstrap=True, class_weight=balanced, criterion=entropy, max_depth=40, max_features=sqrt, min_samples_leaf=4, min_samples_split=5, n_estimators=700; total time=   0.8s\n",
      "[CV] END bootstrap=True, class_weight=balanced, criterion=entropy, max_depth=40, max_features=sqrt, min_samples_leaf=4, min_samples_split=5, n_estimators=700; total time=   0.8s\n",
      "[CV] END bootstrap=False, class_weight=balanced, criterion=entropy, max_depth=20, max_features=sqrt, min_samples_leaf=2, min_samples_split=10, n_estimators=500; total time=   0.5s\n",
      "[CV] END bootstrap=False, class_weight=balanced, criterion=entropy, max_depth=20, max_features=sqrt, min_samples_leaf=2, min_samples_split=10, n_estimators=500; total time=   0.5s\n",
      "[CV] END bootstrap=False, class_weight=balanced, criterion=entropy, max_depth=20, max_features=sqrt, min_samples_leaf=2, min_samples_split=10, n_estimators=500; total time=   0.5s\n",
      "[CV] END bootstrap=False, class_weight=balanced, criterion=entropy, max_depth=20, max_features=sqrt, min_samples_leaf=2, min_samples_split=10, n_estimators=500; total time=   0.5s\n",
      "[CV] END bootstrap=False, class_weight=balanced, criterion=entropy, max_depth=20, max_features=sqrt, min_samples_leaf=2, min_samples_split=10, n_estimators=500; total time=   0.5s\n",
      "[CV] END bootstrap=True, class_weight=balanced_subsample, criterion=entropy, max_depth=10, max_features=sqrt, min_samples_leaf=4, min_samples_split=5, n_estimators=100; total time=   0.1s\n",
      "[CV] END bootstrap=True, class_weight=balanced_subsample, criterion=entropy, max_depth=10, max_features=sqrt, min_samples_leaf=4, min_samples_split=5, n_estimators=100; total time=   0.1s\n",
      "[CV] END bootstrap=True, class_weight=balanced_subsample, criterion=entropy, max_depth=10, max_features=sqrt, min_samples_leaf=4, min_samples_split=5, n_estimators=100; total time=   0.1s\n",
      "[CV] END bootstrap=True, class_weight=balanced_subsample, criterion=entropy, max_depth=10, max_features=sqrt, min_samples_leaf=4, min_samples_split=5, n_estimators=100; total time=   0.1s\n",
      "[CV] END bootstrap=True, class_weight=balanced_subsample, criterion=entropy, max_depth=10, max_features=sqrt, min_samples_leaf=4, min_samples_split=5, n_estimators=100; total time=   0.1s\n",
      "[CV] END bootstrap=True, class_weight=balanced_subsample, criterion=entropy, max_depth=90, max_features=sqrt, min_samples_leaf=1, min_samples_split=5, n_estimators=900; total time=   1.8s\n",
      "[CV] END bootstrap=True, class_weight=balanced_subsample, criterion=entropy, max_depth=90, max_features=sqrt, min_samples_leaf=1, min_samples_split=5, n_estimators=900; total time=   1.4s\n",
      "[CV] END bootstrap=True, class_weight=balanced_subsample, criterion=entropy, max_depth=90, max_features=sqrt, min_samples_leaf=1, min_samples_split=5, n_estimators=900; total time=   1.4s\n",
      "[CV] END bootstrap=True, class_weight=balanced_subsample, criterion=entropy, max_depth=90, max_features=sqrt, min_samples_leaf=1, min_samples_split=5, n_estimators=900; total time=   1.4s\n",
      "[CV] END bootstrap=True, class_weight=balanced_subsample, criterion=entropy, max_depth=90, max_features=sqrt, min_samples_leaf=1, min_samples_split=5, n_estimators=900; total time=   1.4s\n",
      "[CV] END bootstrap=False, class_weight=balanced_subsample, criterion=gini, max_depth=40, max_features=sqrt, min_samples_leaf=2, min_samples_split=10, n_estimators=700; total time=   0.7s\n",
      "[CV] END bootstrap=False, class_weight=balanced_subsample, criterion=gini, max_depth=40, max_features=sqrt, min_samples_leaf=2, min_samples_split=10, n_estimators=700; total time=   0.7s\n",
      "[CV] END bootstrap=False, class_weight=balanced_subsample, criterion=gini, max_depth=40, max_features=sqrt, min_samples_leaf=2, min_samples_split=10, n_estimators=700; total time=   0.7s\n",
      "[CV] END bootstrap=False, class_weight=balanced_subsample, criterion=gini, max_depth=40, max_features=sqrt, min_samples_leaf=2, min_samples_split=10, n_estimators=700; total time=   0.7s\n",
      "[CV] END bootstrap=False, class_weight=balanced_subsample, criterion=gini, max_depth=40, max_features=sqrt, min_samples_leaf=2, min_samples_split=10, n_estimators=700; total time=   0.7s\n",
      "[CV] END bootstrap=False, class_weight=balanced, criterion=entropy, max_depth=30, max_features=sqrt, min_samples_leaf=4, min_samples_split=10, n_estimators=600; total time=   0.6s\n",
      "[CV] END bootstrap=False, class_weight=balanced, criterion=entropy, max_depth=30, max_features=sqrt, min_samples_leaf=4, min_samples_split=10, n_estimators=600; total time=   0.6s\n",
      "[CV] END bootstrap=False, class_weight=balanced, criterion=entropy, max_depth=30, max_features=sqrt, min_samples_leaf=4, min_samples_split=10, n_estimators=600; total time=   0.6s\n",
      "[CV] END bootstrap=False, class_weight=balanced, criterion=entropy, max_depth=30, max_features=sqrt, min_samples_leaf=4, min_samples_split=10, n_estimators=600; total time=   0.6s\n",
      "[CV] END bootstrap=False, class_weight=balanced, criterion=entropy, max_depth=30, max_features=sqrt, min_samples_leaf=4, min_samples_split=10, n_estimators=600; total time=   0.6s\n",
      "[CV] END bootstrap=True, class_weight=balanced, criterion=entropy, max_depth=40, max_features=sqrt, min_samples_leaf=4, min_samples_split=5, n_estimators=900; total time=   1.1s\n",
      "[CV] END bootstrap=True, class_weight=balanced, criterion=entropy, max_depth=40, max_features=sqrt, min_samples_leaf=4, min_samples_split=5, n_estimators=900; total time=   1.1s\n",
      "[CV] END bootstrap=True, class_weight=balanced, criterion=entropy, max_depth=40, max_features=sqrt, min_samples_leaf=4, min_samples_split=5, n_estimators=900; total time=   1.1s\n",
      "[CV] END bootstrap=True, class_weight=balanced, criterion=entropy, max_depth=40, max_features=sqrt, min_samples_leaf=4, min_samples_split=5, n_estimators=900; total time=   1.1s\n",
      "[CV] END bootstrap=True, class_weight=balanced, criterion=entropy, max_depth=40, max_features=sqrt, min_samples_leaf=4, min_samples_split=5, n_estimators=900; total time=   1.1s\n",
      "[CV] END bootstrap=True, class_weight=balanced, criterion=entropy, max_depth=90, max_features=sqrt, min_samples_leaf=1, min_samples_split=2, n_estimators=100; total time=   0.0s\n",
      "[CV] END bootstrap=True, class_weight=balanced, criterion=entropy, max_depth=90, max_features=sqrt, min_samples_leaf=1, min_samples_split=2, n_estimators=100; total time=   0.0s\n",
      "[CV] END bootstrap=True, class_weight=balanced, criterion=entropy, max_depth=90, max_features=sqrt, min_samples_leaf=1, min_samples_split=2, n_estimators=100; total time=   0.0s\n",
      "[CV] END bootstrap=True, class_weight=balanced, criterion=entropy, max_depth=90, max_features=sqrt, min_samples_leaf=1, min_samples_split=2, n_estimators=100; total time=   0.0s\n",
      "[CV] END bootstrap=True, class_weight=balanced, criterion=entropy, max_depth=90, max_features=sqrt, min_samples_leaf=1, min_samples_split=2, n_estimators=100; total time=   0.0s\n",
      "[CV] END bootstrap=False, class_weight=balanced, criterion=gini, max_depth=80, max_features=sqrt, min_samples_leaf=2, min_samples_split=2, n_estimators=400; total time=   0.4s\n",
      "[CV] END bootstrap=False, class_weight=balanced, criterion=gini, max_depth=80, max_features=sqrt, min_samples_leaf=2, min_samples_split=2, n_estimators=400; total time=   0.4s\n",
      "[CV] END bootstrap=False, class_weight=balanced, criterion=gini, max_depth=80, max_features=sqrt, min_samples_leaf=2, min_samples_split=2, n_estimators=400; total time=   0.3s\n",
      "[CV] END bootstrap=False, class_weight=balanced, criterion=gini, max_depth=80, max_features=sqrt, min_samples_leaf=2, min_samples_split=2, n_estimators=400; total time=   0.4s\n",
      "[CV] END bootstrap=False, class_weight=balanced, criterion=gini, max_depth=80, max_features=sqrt, min_samples_leaf=2, min_samples_split=2, n_estimators=400; total time=   0.4s\n",
      "[CV] END bootstrap=True, class_weight=balanced_subsample, criterion=gini, max_depth=30, max_features=sqrt, min_samples_leaf=1, min_samples_split=10, n_estimators=100; total time=   0.1s\n",
      "[CV] END bootstrap=True, class_weight=balanced_subsample, criterion=gini, max_depth=30, max_features=sqrt, min_samples_leaf=1, min_samples_split=10, n_estimators=100; total time=   0.1s\n",
      "[CV] END bootstrap=True, class_weight=balanced_subsample, criterion=gini, max_depth=30, max_features=sqrt, min_samples_leaf=1, min_samples_split=10, n_estimators=100; total time=   0.1s\n",
      "[CV] END bootstrap=True, class_weight=balanced_subsample, criterion=gini, max_depth=30, max_features=sqrt, min_samples_leaf=1, min_samples_split=10, n_estimators=100; total time=   0.1s\n",
      "[CV] END bootstrap=True, class_weight=balanced_subsample, criterion=gini, max_depth=30, max_features=sqrt, min_samples_leaf=1, min_samples_split=10, n_estimators=100; total time=   0.1s\n",
      "[CV] END bootstrap=False, class_weight=None, criterion=gini, max_depth=90, max_features=sqrt, min_samples_leaf=2, min_samples_split=2, n_estimators=700; total time=   0.6s\n",
      "[CV] END bootstrap=False, class_weight=None, criterion=gini, max_depth=90, max_features=sqrt, min_samples_leaf=2, min_samples_split=2, n_estimators=700; total time=   0.6s\n",
      "[CV] END bootstrap=False, class_weight=None, criterion=gini, max_depth=90, max_features=sqrt, min_samples_leaf=2, min_samples_split=2, n_estimators=700; total time=   0.6s\n",
      "[CV] END bootstrap=False, class_weight=None, criterion=gini, max_depth=90, max_features=sqrt, min_samples_leaf=2, min_samples_split=2, n_estimators=700; total time=   0.6s\n",
      "[CV] END bootstrap=False, class_weight=None, criterion=gini, max_depth=90, max_features=sqrt, min_samples_leaf=2, min_samples_split=2, n_estimators=700; total time=   0.6s\n",
      "[CV] END bootstrap=True, class_weight=None, criterion=entropy, max_depth=10, max_features=sqrt, min_samples_leaf=4, min_samples_split=5, n_estimators=200; total time=   0.1s\n",
      "[CV] END bootstrap=True, class_weight=None, criterion=entropy, max_depth=10, max_features=sqrt, min_samples_leaf=4, min_samples_split=5, n_estimators=200; total time=   0.2s\n",
      "[CV] END bootstrap=True, class_weight=None, criterion=entropy, max_depth=10, max_features=sqrt, min_samples_leaf=4, min_samples_split=5, n_estimators=200; total time=   0.2s\n",
      "[CV] END bootstrap=True, class_weight=None, criterion=entropy, max_depth=10, max_features=sqrt, min_samples_leaf=4, min_samples_split=5, n_estimators=200; total time=   0.1s\n",
      "[CV] END bootstrap=True, class_weight=None, criterion=entropy, max_depth=10, max_features=sqrt, min_samples_leaf=4, min_samples_split=5, n_estimators=200; total time=   0.2s\n",
      "[CV] END bootstrap=False, class_weight=balanced, criterion=gini, max_depth=100, max_features=sqrt, min_samples_leaf=2, min_samples_split=5, n_estimators=800; total time=   0.8s\n",
      "[CV] END bootstrap=False, class_weight=balanced, criterion=gini, max_depth=100, max_features=sqrt, min_samples_leaf=2, min_samples_split=5, n_estimators=800; total time=   0.8s\n",
      "[CV] END bootstrap=False, class_weight=balanced, criterion=gini, max_depth=100, max_features=sqrt, min_samples_leaf=2, min_samples_split=5, n_estimators=800; total time=   0.8s\n",
      "[CV] END bootstrap=False, class_weight=balanced, criterion=gini, max_depth=100, max_features=sqrt, min_samples_leaf=2, min_samples_split=5, n_estimators=800; total time=   0.8s\n",
      "[CV] END bootstrap=False, class_weight=balanced, criterion=gini, max_depth=100, max_features=sqrt, min_samples_leaf=2, min_samples_split=5, n_estimators=800; total time=   0.8s\n",
      "[CV] END bootstrap=True, class_weight=None, criterion=entropy, max_depth=100, max_features=sqrt, min_samples_leaf=4, min_samples_split=2, n_estimators=100; total time=   0.0s\n",
      "[CV] END bootstrap=True, class_weight=None, criterion=entropy, max_depth=100, max_features=sqrt, min_samples_leaf=4, min_samples_split=2, n_estimators=100; total time=   0.0s\n",
      "[CV] END bootstrap=True, class_weight=None, criterion=entropy, max_depth=100, max_features=sqrt, min_samples_leaf=4, min_samples_split=2, n_estimators=100; total time=   0.0s\n",
      "[CV] END bootstrap=True, class_weight=None, criterion=entropy, max_depth=100, max_features=sqrt, min_samples_leaf=4, min_samples_split=2, n_estimators=100; total time=   0.0s\n",
      "[CV] END bootstrap=True, class_weight=None, criterion=entropy, max_depth=100, max_features=sqrt, min_samples_leaf=4, min_samples_split=2, n_estimators=100; total time=   0.0s\n",
      "[CV] END bootstrap=False, class_weight=None, criterion=gini, max_depth=70, max_features=sqrt, min_samples_leaf=4, min_samples_split=5, n_estimators=500; total time=   0.4s\n",
      "[CV] END bootstrap=False, class_weight=None, criterion=gini, max_depth=70, max_features=sqrt, min_samples_leaf=4, min_samples_split=5, n_estimators=500; total time=   0.4s\n",
      "[CV] END bootstrap=False, class_weight=None, criterion=gini, max_depth=70, max_features=sqrt, min_samples_leaf=4, min_samples_split=5, n_estimators=500; total time=   0.4s\n",
      "[CV] END bootstrap=False, class_weight=None, criterion=gini, max_depth=70, max_features=sqrt, min_samples_leaf=4, min_samples_split=5, n_estimators=500; total time=   0.4s\n",
      "[CV] END bootstrap=False, class_weight=None, criterion=gini, max_depth=70, max_features=sqrt, min_samples_leaf=4, min_samples_split=5, n_estimators=500; total time=   0.4s\n",
      "[CV] END bootstrap=True, class_weight=balanced_subsample, criterion=entropy, max_depth=10, max_features=sqrt, min_samples_leaf=2, min_samples_split=10, n_estimators=900; total time=   1.4s\n",
      "[CV] END bootstrap=True, class_weight=balanced_subsample, criterion=entropy, max_depth=10, max_features=sqrt, min_samples_leaf=2, min_samples_split=10, n_estimators=900; total time=   1.3s\n",
      "[CV] END bootstrap=True, class_weight=balanced_subsample, criterion=entropy, max_depth=10, max_features=sqrt, min_samples_leaf=2, min_samples_split=10, n_estimators=900; total time=   1.4s\n",
      "[CV] END bootstrap=True, class_weight=balanced_subsample, criterion=entropy, max_depth=10, max_features=sqrt, min_samples_leaf=2, min_samples_split=10, n_estimators=900; total time=   1.4s\n",
      "[CV] END bootstrap=True, class_weight=balanced_subsample, criterion=entropy, max_depth=10, max_features=sqrt, min_samples_leaf=2, min_samples_split=10, n_estimators=900; total time=   1.4s\n",
      "[CV] END bootstrap=True, class_weight=balanced_subsample, criterion=gini, max_depth=20, max_features=sqrt, min_samples_leaf=2, min_samples_split=10, n_estimators=600; total time=   0.9s\n",
      "[CV] END bootstrap=True, class_weight=balanced_subsample, criterion=gini, max_depth=20, max_features=sqrt, min_samples_leaf=2, min_samples_split=10, n_estimators=600; total time=   0.9s\n",
      "[CV] END bootstrap=True, class_weight=balanced_subsample, criterion=gini, max_depth=20, max_features=sqrt, min_samples_leaf=2, min_samples_split=10, n_estimators=600; total time=   0.9s\n",
      "[CV] END bootstrap=True, class_weight=balanced_subsample, criterion=gini, max_depth=20, max_features=sqrt, min_samples_leaf=2, min_samples_split=10, n_estimators=600; total time=   0.8s\n",
      "[CV] END bootstrap=True, class_weight=balanced_subsample, criterion=gini, max_depth=20, max_features=sqrt, min_samples_leaf=2, min_samples_split=10, n_estimators=600; total time=   0.9s\n",
      "[CV] END bootstrap=True, class_weight=balanced_subsample, criterion=gini, max_depth=80, max_features=sqrt, min_samples_leaf=4, min_samples_split=2, n_estimators=200; total time=   0.2s\n",
      "[CV] END bootstrap=True, class_weight=balanced_subsample, criterion=gini, max_depth=80, max_features=sqrt, min_samples_leaf=4, min_samples_split=2, n_estimators=200; total time=   0.3s\n",
      "[CV] END bootstrap=True, class_weight=balanced_subsample, criterion=gini, max_depth=80, max_features=sqrt, min_samples_leaf=4, min_samples_split=2, n_estimators=200; total time=   0.3s\n",
      "[CV] END bootstrap=True, class_weight=balanced_subsample, criterion=gini, max_depth=80, max_features=sqrt, min_samples_leaf=4, min_samples_split=2, n_estimators=200; total time=   0.2s\n",
      "[CV] END bootstrap=True, class_weight=balanced_subsample, criterion=gini, max_depth=80, max_features=sqrt, min_samples_leaf=4, min_samples_split=2, n_estimators=200; total time=   0.3s\n",
      "[CV] END bootstrap=False, class_weight=balanced_subsample, criterion=entropy, max_depth=90, max_features=sqrt, min_samples_leaf=1, min_samples_split=5, n_estimators=900; total time=   1.0s\n",
      "[CV] END bootstrap=False, class_weight=balanced_subsample, criterion=entropy, max_depth=90, max_features=sqrt, min_samples_leaf=1, min_samples_split=5, n_estimators=900; total time=   1.0s\n",
      "[CV] END bootstrap=False, class_weight=balanced_subsample, criterion=entropy, max_depth=90, max_features=sqrt, min_samples_leaf=1, min_samples_split=5, n_estimators=900; total time=   1.0s\n",
      "[CV] END bootstrap=False, class_weight=balanced_subsample, criterion=entropy, max_depth=90, max_features=sqrt, min_samples_leaf=1, min_samples_split=5, n_estimators=900; total time=   1.0s\n",
      "[CV] END bootstrap=False, class_weight=balanced_subsample, criterion=entropy, max_depth=90, max_features=sqrt, min_samples_leaf=1, min_samples_split=5, n_estimators=900; total time=   1.0s\n",
      "[CV] END bootstrap=False, class_weight=balanced_subsample, criterion=gini, max_depth=60, max_features=sqrt, min_samples_leaf=2, min_samples_split=10, n_estimators=300; total time=   0.2s\n",
      "[CV] END bootstrap=False, class_weight=balanced_subsample, criterion=gini, max_depth=60, max_features=sqrt, min_samples_leaf=2, min_samples_split=10, n_estimators=300; total time=   0.2s\n",
      "[CV] END bootstrap=False, class_weight=balanced_subsample, criterion=gini, max_depth=60, max_features=sqrt, min_samples_leaf=2, min_samples_split=10, n_estimators=300; total time=   0.3s\n",
      "[CV] END bootstrap=False, class_weight=balanced_subsample, criterion=gini, max_depth=60, max_features=sqrt, min_samples_leaf=2, min_samples_split=10, n_estimators=300; total time=   0.3s\n",
      "[CV] END bootstrap=False, class_weight=balanced_subsample, criterion=gini, max_depth=60, max_features=sqrt, min_samples_leaf=2, min_samples_split=10, n_estimators=300; total time=   0.2s\n",
      "[CV] END bootstrap=True, class_weight=None, criterion=gini, max_depth=10, max_features=sqrt, min_samples_leaf=2, min_samples_split=2, n_estimators=700; total time=   0.8s\n",
      "[CV] END bootstrap=True, class_weight=None, criterion=gini, max_depth=10, max_features=sqrt, min_samples_leaf=2, min_samples_split=2, n_estimators=700; total time=   0.8s\n",
      "[CV] END bootstrap=True, class_weight=None, criterion=gini, max_depth=10, max_features=sqrt, min_samples_leaf=2, min_samples_split=2, n_estimators=700; total time=   0.8s\n",
      "[CV] END bootstrap=True, class_weight=None, criterion=gini, max_depth=10, max_features=sqrt, min_samples_leaf=2, min_samples_split=2, n_estimators=700; total time=   0.8s\n",
      "[CV] END bootstrap=True, class_weight=None, criterion=gini, max_depth=10, max_features=sqrt, min_samples_leaf=2, min_samples_split=2, n_estimators=700; total time=   0.8s\n",
      "[CV] END bootstrap=False, class_weight=None, criterion=entropy, max_depth=80, max_features=sqrt, min_samples_leaf=1, min_samples_split=5, n_estimators=700; total time=   0.7s\n",
      "[CV] END bootstrap=False, class_weight=None, criterion=entropy, max_depth=80, max_features=sqrt, min_samples_leaf=1, min_samples_split=5, n_estimators=700; total time=   0.7s\n",
      "[CV] END bootstrap=False, class_weight=None, criterion=entropy, max_depth=80, max_features=sqrt, min_samples_leaf=1, min_samples_split=5, n_estimators=700; total time=   0.7s\n",
      "[CV] END bootstrap=False, class_weight=None, criterion=entropy, max_depth=80, max_features=sqrt, min_samples_leaf=1, min_samples_split=5, n_estimators=700; total time=   0.7s\n",
      "[CV] END bootstrap=False, class_weight=None, criterion=entropy, max_depth=80, max_features=sqrt, min_samples_leaf=1, min_samples_split=5, n_estimators=700; total time=   0.7s\n",
      "[CV] END bootstrap=False, class_weight=None, criterion=gini, max_depth=50, max_features=sqrt, min_samples_leaf=1, min_samples_split=10, n_estimators=500; total time=   0.4s\n",
      "[CV] END bootstrap=False, class_weight=None, criterion=gini, max_depth=50, max_features=sqrt, min_samples_leaf=1, min_samples_split=10, n_estimators=500; total time=   0.4s\n",
      "[CV] END bootstrap=False, class_weight=None, criterion=gini, max_depth=50, max_features=sqrt, min_samples_leaf=1, min_samples_split=10, n_estimators=500; total time=   0.4s\n",
      "[CV] END bootstrap=False, class_weight=None, criterion=gini, max_depth=50, max_features=sqrt, min_samples_leaf=1, min_samples_split=10, n_estimators=500; total time=   0.4s\n",
      "[CV] END bootstrap=False, class_weight=None, criterion=gini, max_depth=50, max_features=sqrt, min_samples_leaf=1, min_samples_split=10, n_estimators=500; total time=   0.4s\n",
      "[CV] END bootstrap=False, class_weight=None, criterion=entropy, max_depth=50, max_features=sqrt, min_samples_leaf=2, min_samples_split=2, n_estimators=700; total time=   0.7s\n",
      "[CV] END bootstrap=False, class_weight=None, criterion=entropy, max_depth=50, max_features=sqrt, min_samples_leaf=2, min_samples_split=2, n_estimators=700; total time=   0.7s\n",
      "[CV] END bootstrap=False, class_weight=None, criterion=entropy, max_depth=50, max_features=sqrt, min_samples_leaf=2, min_samples_split=2, n_estimators=700; total time=   0.7s\n",
      "[CV] END bootstrap=False, class_weight=None, criterion=entropy, max_depth=50, max_features=sqrt, min_samples_leaf=2, min_samples_split=2, n_estimators=700; total time=   0.7s\n",
      "[CV] END bootstrap=False, class_weight=None, criterion=entropy, max_depth=50, max_features=sqrt, min_samples_leaf=2, min_samples_split=2, n_estimators=700; total time=   0.7s\n",
      "[CV] END bootstrap=True, class_weight=None, criterion=gini, max_depth=70, max_features=sqrt, min_samples_leaf=2, min_samples_split=5, n_estimators=500; total time=   0.5s\n",
      "[CV] END bootstrap=True, class_weight=None, criterion=gini, max_depth=70, max_features=sqrt, min_samples_leaf=2, min_samples_split=5, n_estimators=500; total time=   0.5s\n",
      "[CV] END bootstrap=True, class_weight=None, criterion=gini, max_depth=70, max_features=sqrt, min_samples_leaf=2, min_samples_split=5, n_estimators=500; total time=   0.5s\n",
      "[CV] END bootstrap=True, class_weight=None, criterion=gini, max_depth=70, max_features=sqrt, min_samples_leaf=2, min_samples_split=5, n_estimators=500; total time=   0.5s\n",
      "[CV] END bootstrap=True, class_weight=None, criterion=gini, max_depth=70, max_features=sqrt, min_samples_leaf=2, min_samples_split=5, n_estimators=500; total time=   0.5s\n",
      "[CV] END bootstrap=False, class_weight=balanced_subsample, criterion=entropy, max_depth=30, max_features=sqrt, min_samples_leaf=4, min_samples_split=10, n_estimators=400; total time=   0.4s\n",
      "[CV] END bootstrap=False, class_weight=balanced_subsample, criterion=entropy, max_depth=30, max_features=sqrt, min_samples_leaf=4, min_samples_split=10, n_estimators=400; total time=   0.4s\n",
      "[CV] END bootstrap=False, class_weight=balanced_subsample, criterion=entropy, max_depth=30, max_features=sqrt, min_samples_leaf=4, min_samples_split=10, n_estimators=400; total time=   0.4s\n",
      "[CV] END bootstrap=False, class_weight=balanced_subsample, criterion=entropy, max_depth=30, max_features=sqrt, min_samples_leaf=4, min_samples_split=10, n_estimators=400; total time=   0.4s\n",
      "[CV] END bootstrap=False, class_weight=balanced_subsample, criterion=entropy, max_depth=30, max_features=sqrt, min_samples_leaf=4, min_samples_split=10, n_estimators=400; total time=   0.4s\n",
      "[CV] END bootstrap=False, class_weight=balanced_subsample, criterion=gini, max_depth=10, max_features=sqrt, min_samples_leaf=2, min_samples_split=10, n_estimators=700; total time=   0.8s\n",
      "[CV] END bootstrap=False, class_weight=balanced_subsample, criterion=gini, max_depth=10, max_features=sqrt, min_samples_leaf=2, min_samples_split=10, n_estimators=700; total time=   0.7s\n",
      "[CV] END bootstrap=False, class_weight=balanced_subsample, criterion=gini, max_depth=10, max_features=sqrt, min_samples_leaf=2, min_samples_split=10, n_estimators=700; total time=   0.7s\n",
      "[CV] END bootstrap=False, class_weight=balanced_subsample, criterion=gini, max_depth=10, max_features=sqrt, min_samples_leaf=2, min_samples_split=10, n_estimators=700; total time=   0.7s\n",
      "[CV] END bootstrap=False, class_weight=balanced_subsample, criterion=gini, max_depth=10, max_features=sqrt, min_samples_leaf=2, min_samples_split=10, n_estimators=700; total time=   0.7s\n",
      "[CV] END bootstrap=False, class_weight=None, criterion=entropy, max_depth=30, max_features=sqrt, min_samples_leaf=1, min_samples_split=2, n_estimators=400; total time=   0.4s\n",
      "[CV] END bootstrap=False, class_weight=None, criterion=entropy, max_depth=30, max_features=sqrt, min_samples_leaf=1, min_samples_split=2, n_estimators=400; total time=   0.3s\n",
      "[CV] END bootstrap=False, class_weight=None, criterion=entropy, max_depth=30, max_features=sqrt, min_samples_leaf=1, min_samples_split=2, n_estimators=400; total time=   0.3s\n",
      "[CV] END bootstrap=False, class_weight=None, criterion=entropy, max_depth=30, max_features=sqrt, min_samples_leaf=1, min_samples_split=2, n_estimators=400; total time=   0.3s\n",
      "[CV] END bootstrap=False, class_weight=None, criterion=entropy, max_depth=30, max_features=sqrt, min_samples_leaf=1, min_samples_split=2, n_estimators=400; total time=   0.3s\n",
      "[CV] END bootstrap=False, class_weight=None, criterion=entropy, max_depth=10, max_features=sqrt, min_samples_leaf=2, min_samples_split=5, n_estimators=600; total time=   0.6s\n",
      "[CV] END bootstrap=False, class_weight=None, criterion=entropy, max_depth=10, max_features=sqrt, min_samples_leaf=2, min_samples_split=5, n_estimators=600; total time=   0.6s\n",
      "[CV] END bootstrap=False, class_weight=None, criterion=entropy, max_depth=10, max_features=sqrt, min_samples_leaf=2, min_samples_split=5, n_estimators=600; total time=   0.6s\n",
      "[CV] END bootstrap=False, class_weight=None, criterion=entropy, max_depth=10, max_features=sqrt, min_samples_leaf=2, min_samples_split=5, n_estimators=600; total time=   0.6s\n",
      "[CV] END bootstrap=False, class_weight=None, criterion=entropy, max_depth=10, max_features=sqrt, min_samples_leaf=2, min_samples_split=5, n_estimators=600; total time=   0.6s\n",
      "[CV] END bootstrap=False, class_weight=balanced_subsample, criterion=entropy, max_depth=90, max_features=sqrt, min_samples_leaf=2, min_samples_split=5, n_estimators=800; total time=   0.9s\n",
      "[CV] END bootstrap=False, class_weight=balanced_subsample, criterion=entropy, max_depth=90, max_features=sqrt, min_samples_leaf=2, min_samples_split=5, n_estimators=800; total time=   0.9s\n",
      "[CV] END bootstrap=False, class_weight=balanced_subsample, criterion=entropy, max_depth=90, max_features=sqrt, min_samples_leaf=2, min_samples_split=5, n_estimators=800; total time=   0.9s\n",
      "[CV] END bootstrap=False, class_weight=balanced_subsample, criterion=entropy, max_depth=90, max_features=sqrt, min_samples_leaf=2, min_samples_split=5, n_estimators=800; total time=   0.9s\n",
      "[CV] END bootstrap=False, class_weight=balanced_subsample, criterion=entropy, max_depth=90, max_features=sqrt, min_samples_leaf=2, min_samples_split=5, n_estimators=800; total time=   0.9s\n",
      "[CV] END bootstrap=True, class_weight=balanced_subsample, criterion=gini, max_depth=30, max_features=sqrt, min_samples_leaf=4, min_samples_split=10, n_estimators=900; total time=   1.3s\n",
      "[CV] END bootstrap=True, class_weight=balanced_subsample, criterion=gini, max_depth=30, max_features=sqrt, min_samples_leaf=4, min_samples_split=10, n_estimators=900; total time=   1.3s\n",
      "[CV] END bootstrap=True, class_weight=balanced_subsample, criterion=gini, max_depth=30, max_features=sqrt, min_samples_leaf=4, min_samples_split=10, n_estimators=900; total time=   1.3s\n",
      "[CV] END bootstrap=True, class_weight=balanced_subsample, criterion=gini, max_depth=30, max_features=sqrt, min_samples_leaf=4, min_samples_split=10, n_estimators=900; total time=   1.2s\n",
      "[CV] END bootstrap=True, class_weight=balanced_subsample, criterion=gini, max_depth=30, max_features=sqrt, min_samples_leaf=4, min_samples_split=10, n_estimators=900; total time=   1.3s\n",
      "[CV] END bootstrap=False, class_weight=balanced_subsample, criterion=entropy, max_depth=100, max_features=sqrt, min_samples_leaf=4, min_samples_split=10, n_estimators=200; total time=   0.2s\n",
      "[CV] END bootstrap=False, class_weight=balanced_subsample, criterion=entropy, max_depth=100, max_features=sqrt, min_samples_leaf=4, min_samples_split=10, n_estimators=200; total time=   0.1s\n",
      "[CV] END bootstrap=False, class_weight=balanced_subsample, criterion=entropy, max_depth=100, max_features=sqrt, min_samples_leaf=4, min_samples_split=10, n_estimators=200; total time=   0.1s\n",
      "[CV] END bootstrap=False, class_weight=balanced_subsample, criterion=entropy, max_depth=100, max_features=sqrt, min_samples_leaf=4, min_samples_split=10, n_estimators=200; total time=   0.1s\n",
      "[CV] END bootstrap=False, class_weight=balanced_subsample, criterion=entropy, max_depth=100, max_features=sqrt, min_samples_leaf=4, min_samples_split=10, n_estimators=200; total time=   0.1s\n",
      "[CV] END bootstrap=False, class_weight=None, criterion=entropy, max_depth=80, max_features=sqrt, min_samples_leaf=2, min_samples_split=10, n_estimators=900; total time=   0.8s\n",
      "[CV] END bootstrap=False, class_weight=None, criterion=entropy, max_depth=80, max_features=sqrt, min_samples_leaf=2, min_samples_split=10, n_estimators=900; total time=   0.8s\n",
      "[CV] END bootstrap=False, class_weight=None, criterion=entropy, max_depth=80, max_features=sqrt, min_samples_leaf=2, min_samples_split=10, n_estimators=900; total time=   0.9s\n",
      "[CV] END bootstrap=False, class_weight=None, criterion=entropy, max_depth=80, max_features=sqrt, min_samples_leaf=2, min_samples_split=10, n_estimators=900; total time=   0.8s\n",
      "[CV] END bootstrap=False, class_weight=None, criterion=entropy, max_depth=80, max_features=sqrt, min_samples_leaf=2, min_samples_split=10, n_estimators=900; total time=   0.9s\n",
      "[CV] END bootstrap=True, class_weight=balanced, criterion=gini, max_depth=90, max_features=sqrt, min_samples_leaf=1, min_samples_split=10, n_estimators=500; total time=   0.5s\n",
      "[CV] END bootstrap=True, class_weight=balanced, criterion=gini, max_depth=90, max_features=sqrt, min_samples_leaf=1, min_samples_split=10, n_estimators=500; total time=   0.5s\n",
      "[CV] END bootstrap=True, class_weight=balanced, criterion=gini, max_depth=90, max_features=sqrt, min_samples_leaf=1, min_samples_split=10, n_estimators=500; total time=   0.5s\n",
      "[CV] END bootstrap=True, class_weight=balanced, criterion=gini, max_depth=90, max_features=sqrt, min_samples_leaf=1, min_samples_split=10, n_estimators=500; total time=   0.5s\n",
      "[CV] END bootstrap=True, class_weight=balanced, criterion=gini, max_depth=90, max_features=sqrt, min_samples_leaf=1, min_samples_split=10, n_estimators=500; total time=   0.5s\n",
      "[CV] END bootstrap=True, class_weight=balanced_subsample, criterion=entropy, max_depth=80, max_features=sqrt, min_samples_leaf=1, min_samples_split=2, n_estimators=800; total time=   1.3s\n",
      "[CV] END bootstrap=True, class_weight=balanced_subsample, criterion=entropy, max_depth=80, max_features=sqrt, min_samples_leaf=1, min_samples_split=2, n_estimators=800; total time=   1.2s\n",
      "[CV] END bootstrap=True, class_weight=balanced_subsample, criterion=entropy, max_depth=80, max_features=sqrt, min_samples_leaf=1, min_samples_split=2, n_estimators=800; total time=   1.2s\n",
      "[CV] END bootstrap=True, class_weight=balanced_subsample, criterion=entropy, max_depth=80, max_features=sqrt, min_samples_leaf=1, min_samples_split=2, n_estimators=800; total time=   1.2s\n",
      "[CV] END bootstrap=True, class_weight=balanced_subsample, criterion=entropy, max_depth=80, max_features=sqrt, min_samples_leaf=1, min_samples_split=2, n_estimators=800; total time=   1.2s\n",
      "[CV] END bootstrap=False, class_weight=None, criterion=entropy, max_depth=60, max_features=sqrt, min_samples_leaf=4, min_samples_split=2, n_estimators=600; total time=   0.6s\n",
      "[CV] END bootstrap=False, class_weight=None, criterion=entropy, max_depth=60, max_features=sqrt, min_samples_leaf=4, min_samples_split=2, n_estimators=600; total time=   0.5s\n",
      "[CV] END bootstrap=False, class_weight=None, criterion=entropy, max_depth=60, max_features=sqrt, min_samples_leaf=4, min_samples_split=2, n_estimators=600; total time=   0.6s\n"
     ]
    }
   ],
   "source": [
    "#RF - Random Search CV with Class Balancing\n",
    "from sklearn.model_selection import RandomizedSearchCV\n",
    "\n",
    "rf_random = RandomizedSearchCV(estimator = rf, param_distributions = parameters, n_iter = 100, cv = 5, verbose = 2)\n",
    "\n",
    "#Fit the random search model\n",
    "rf_random.fit(X_train, y_train)\n",
    "\n",
    "print(\"\\nBest Parameters: \", rf_random.best_params_)\n",
    "print(\"Best Scores: \", rf_random.best_score_)\n",
    "\n",
    "y_pred_random = rf_random.predict(X_test)\n"
   ]
  },
  {
   "cell_type": "code",
   "execution_count": null,
   "id": "ca5b57f0",
   "metadata": {
    "papermill": {
     "duration": 0.109003,
     "end_time": "2024-08-28T20:19:35.266720",
     "exception": false,
     "start_time": "2024-08-28T20:19:35.157717",
     "status": "completed"
    },
    "tags": []
   },
   "outputs": [],
   "source": [
    "#Get accuracy score\n",
    "rf_acc_random = accuracy_score(y_test, y_pred_random)*100\n",
    "rf_pre_random = precision_score(y_test, y_pred_random, average='micro')\n",
    "rf_recall_random = recall_score(y_test, y_pred_random, average='micro')\n",
    "rf_f1_random = f1_score(y_test, y_pred_random, average='micro')\n",
    "\n",
    "print(\"\\nRF - Accuracy: {:.3f}.\".format(rf_acc_random))\n",
    "print(\"RF - Precision: {:.3f}.\".format(rf_pre_random))\n",
    "print(\"RF - Recall: {:.3f}.\".format(rf_recall_random))\n",
    "print(\"RF - F1_Score: {:.3f}.\".format(rf_f1_random))\n",
    "print('\\n Clasification Report:\\n', classification_report(y_test,y_pred_random))\n",
    "print()\n",
    "\n",
    "df_random = pd.DataFrame({'Actual': y_test, 'Predicted': y_pred_random.round(2)})\n",
    "print(df_random.head())"
   ]
  },
  {
   "cell_type": "code",
   "execution_count": null,
   "id": "2606facf",
   "metadata": {
    "papermill": {
     "duration": 1.6095,
     "end_time": "2024-08-28T20:19:36.947652",
     "exception": false,
     "start_time": "2024-08-28T20:19:35.338152",
     "status": "completed"
    },
    "tags": []
   },
   "outputs": [],
   "source": [
    "#fit random forest model with best parameters\n",
    "best_rf_model = RandomForestClassifier(n_estimators= 800, min_samples_split= 5, min_samples_leaf= 2, max_features= 'sqrt', max_depth= 30, criterion='gini', class_weight=None, bootstrap=False)\n",
    "best_rf_model.fit(X_train, y_train)\n",
    "y_pred = best_rf_model.predict(X_test)\n",
    "\n",
    "# Get the accuracy score\n",
    "rf_t_acc = accuracy_score(y_test, y_pred)*100\n",
    "rf_t_pre = precision_score(y_test, y_pred, average='micro')\n",
    "rf_t_recall = recall_score(y_test, y_pred, average='micro')\n",
    "rf_t_f1_ = f1_score(y_test, y_pred, average='micro')\n",
    "\n",
    "print(\"\\nRF - Accuracy: {:.3f}.\".format(rf_t_acc))\n",
    "print(\"RF - Precision: {:.3f}.\".format(rf_t_pre))\n",
    "print(\"RF - Recall: {:.3f}.\".format(rf_t_recall))\n",
    "print(\"RF - F1_Score: {:.3f}.\".format(rf_t_f1_))\n",
    "print ('\\n Clasification Report:\\n', classification_report(y_test,y_pred))"
   ]
  },
  {
   "cell_type": "code",
   "execution_count": null,
   "id": "1f215936",
   "metadata": {
    "papermill": {
     "duration": 0.085888,
     "end_time": "2024-08-28T20:19:37.103661",
     "exception": false,
     "start_time": "2024-08-28T20:19:37.017773",
     "status": "completed"
    },
    "tags": []
   },
   "outputs": [],
   "source": [
    "#let's compare RF model results before and after tuning\n",
    "rf_metrics = {'metric': ['accuracy','precision','recall','f1'],\n",
    "          'Base RF model': [rf_acc,rf_pre, rf_recall, rf_f1],\n",
    "          'Tuned RF model': [rf_t_acc,rf_t_pre,rf_t_recall,rf_t_f1_]}\n",
    "\n",
    "rf_compare_df = pd.DataFrame(rf_metrics)\n",
    "print(rf_compare_df)"
   ]
  },
  {
   "cell_type": "markdown",
   "id": "5429401a",
   "metadata": {
    "papermill": {
     "duration": 0.071448,
     "end_time": "2024-08-28T20:19:37.247255",
     "exception": false,
     "start_time": "2024-08-28T20:19:37.175807",
     "status": "completed"
    },
    "tags": []
   },
   "source": [
    "# Identifying the important features"
   ]
  },
  {
   "cell_type": "code",
   "execution_count": null,
   "id": "3ecad7af",
   "metadata": {
    "papermill": {
     "duration": 0.500571,
     "end_time": "2024-08-28T20:19:37.818547",
     "exception": false,
     "start_time": "2024-08-28T20:19:37.317976",
     "status": "completed"
    },
    "tags": []
   },
   "outputs": [],
   "source": [
    "importance = best_rf_model.feature_importances_\n",
    "importance_df = pd.DataFrame(importance, index=X_train.columns,columns=[\"Importance\"])\n",
    "print(importance_df)\n",
    "\n",
    "import matplotlib.pyplot as plt\n",
    "feature_imp = pd.Series(best_rf_model.feature_importances_, index=X_train.columns).sort_values(ascending=False)\n",
    "\n",
    "# Creating a bar plot, displaying only the top k features\n",
    "sns.barplot(x=feature_imp[:10], y=feature_imp.index[:10])\n",
    "# Add labels to your graph\n",
    "plt.xlabel('Feature Importance Score')\n",
    "plt.ylabel('Features')\n",
    "plt.title(\"Important Features\")\n",
    "plt.show()"
   ]
  },
  {
   "cell_type": "markdown",
   "id": "64dfd456",
   "metadata": {
    "papermill": {
     "duration": 0.070931,
     "end_time": "2024-08-28T20:19:37.961206",
     "exception": false,
     "start_time": "2024-08-28T20:19:37.890275",
     "status": "completed"
    },
    "tags": []
   },
   "source": [
    "# Model 2 - MLP Classifier with GridSearchCV\n",
    "This time, the data is also normalized to see what effects it has on model performance."
   ]
  },
  {
   "cell_type": "code",
   "execution_count": null,
   "id": "8d6d7388",
   "metadata": {
    "papermill": {
     "duration": 0.083917,
     "end_time": "2024-08-28T20:19:38.116444",
     "exception": false,
     "start_time": "2024-08-28T20:19:38.032527",
     "status": "completed"
    },
    "tags": []
   },
   "outputs": [],
   "source": [
    "#setting IV and TV - for ANN and XGBoost\n",
    "X = data[['MR Delay','CDR','M/F', 'Age', 'EDUC','SES', 'MMSE', 'eTIV', 'nWBV', 'ASF']]\n",
    "y = data['Group']"
   ]
  },
  {
   "cell_type": "code",
   "execution_count": null,
   "id": "09df3ac8",
   "metadata": {
    "papermill": {
     "duration": 0.087705,
     "end_time": "2024-08-28T20:19:38.275576",
     "exception": false,
     "start_time": "2024-08-28T20:19:38.187871",
     "status": "completed"
    },
    "tags": []
   },
   "outputs": [],
   "source": [
    "#normalize data\n",
    "from sklearn.preprocessing import normalize\n",
    "\n",
    "X = normalize(X, axis=0)\n",
    "print(\"Examples of X Normalised\\n\", X[:3])"
   ]
  },
  {
   "cell_type": "code",
   "execution_count": null,
   "id": "fcdd1284",
   "metadata": {
    "papermill": {
     "duration": 0.084211,
     "end_time": "2024-08-28T20:19:38.433662",
     "exception": false,
     "start_time": "2024-08-28T20:19:38.349451",
     "status": "completed"
    },
    "tags": []
   },
   "outputs": [],
   "source": [
    "#data splitting\n",
    "X_train, X_test, y_train, y_test = train_test_split(X, y, test_size = 0.2, random_state = 1)"
   ]
  },
  {
   "cell_type": "code",
   "execution_count": null,
   "id": "d95259f4",
   "metadata": {
    "papermill": {
     "duration": 2.668364,
     "end_time": "2024-08-28T20:19:41.173371",
     "exception": false,
     "start_time": "2024-08-28T20:19:38.505007",
     "status": "completed"
    },
    "tags": []
   },
   "outputs": [],
   "source": [
    "#Base Model Building - MLP with 1 layer\n",
    "from sklearn.neural_network import MLPClassifier\n",
    "mlp = MLPClassifier(max_iter=2000)\n",
    "\n",
    "mlp.fit(X_train,y_train)\n",
    "y_pred = mlp.predict(X_test)"
   ]
  },
  {
   "cell_type": "code",
   "execution_count": null,
   "id": "ea46e784",
   "metadata": {
    "papermill": {
     "duration": 0.106864,
     "end_time": "2024-08-28T20:19:41.410662",
     "exception": false,
     "start_time": "2024-08-28T20:19:41.303798",
     "status": "completed"
    },
    "tags": []
   },
   "outputs": [],
   "source": [
    "mlp_acc = accuracy_score(y_test, y_pred)*100\n",
    "mlp_pre = precision_score(y_test, y_pred, average='micro')\n",
    "mlp_recall = recall_score(y_test, y_pred, average='micro')\n",
    "mlp_f1 = f1_score(y_test, y_pred, average='micro')\n",
    "\n",
    "print(\"MLP - Accuracy: {:.3f}.\".format(mlp_acc))\n",
    "print(\"MLP - Precision: {:.3f}.\".format(mlp_pre))\n",
    "print(\"MLP - Recall: {:.3f}.\".format(mlp_recall))\n",
    "print(\"MLP - F1_Score: {:.3f}.\".format(mlp_f1))\n",
    "print(\"\\nConfusion Matrix: \\n\", confusion_matrix(y_test, y_pred))\n",
    "print ('\\n Clasification Report:\\n', classification_report(y_test,y_pred))"
   ]
  },
  {
   "cell_type": "code",
   "execution_count": null,
   "id": "9489680a",
   "metadata": {
    "papermill": {
     "duration": 2.794502,
     "end_time": "2024-08-28T20:19:44.276592",
     "exception": false,
     "start_time": "2024-08-28T20:19:41.482090",
     "status": "completed"
    },
    "tags": []
   },
   "outputs": [],
   "source": [
    "#Base Model Fitting - MLP with 2 Hidden Layers\n",
    "mlp2 = MLPClassifier(max_iter= 2000, hidden_layer_sizes=(200, 600)) #specfies the number of neurons in each layer\n",
    "\n",
    "mlp2.fit(X_train,y_train)\n",
    "y_pred2 = mlp2.predict(X_test)\n",
    "\n",
    "mlp2_acc = accuracy_score(y_test, y_pred2)*100\n",
    "mlp2_pre = precision_score(y_test, y_pred2, average='micro')\n",
    "mlp2_recall = recall_score(y_test, y_pred2, average='micro')\n",
    "mlp2_f1 = f1_score(y_test, y_pred2, average='micro')\n",
    "\n",
    "print(\"MLP - Accuracy: {:.3f}.\".format(mlp2_acc))\n",
    "print(\"MLP - Precision: {:.3f}.\".format(mlp2_pre))\n",
    "print(\"MLP - Recall: {:.3f}.\".format(mlp2_recall))\n",
    "print(\"MLP - F1_Score: {:.3f}.\".format(mlp2_f1))\n",
    "print(\"\\nConfusion Matrix: \\n\", confusion_matrix(y_test, y_pred2))\n",
    "print ('\\n Clasification Report:\\n', classification_report(y_test,y_pred2))"
   ]
  },
  {
   "cell_type": "code",
   "execution_count": null,
   "id": "ab35689f",
   "metadata": {
    "papermill": {
     "duration": 17.765516,
     "end_time": "2024-08-28T20:20:02.158114",
     "exception": false,
     "start_time": "2024-08-28T20:19:44.392598",
     "status": "completed"
    },
    "tags": []
   },
   "outputs": [],
   "source": [
    "#no difference if it's 1 or 2 hidden layers\n",
    "#to keep it simple, we'll use 1 hidden layer MLP for hyperparameter tuning\n",
    "#This time with use SKLearn Tuner from Keras Tuner  \n",
    "\n",
    "from sklearn.neural_network import MLPClassifier\n",
    "import keras_tuner as kt\n",
    "from sklearn.model_selection import StratifiedKFold"
   ]
  },
  {
   "cell_type": "code",
   "execution_count": null,
   "id": "1c1ad552",
   "metadata": {
    "papermill": {
     "duration": 76.918804,
     "end_time": "2024-08-28T20:21:19.154022",
     "exception": false,
     "start_time": "2024-08-28T20:20:02.235218",
     "status": "completed"
    },
    "tags": []
   },
   "outputs": [],
   "source": [
    "# Define the build_model function\n",
    "def build_model(hp):\n",
    "    model = MLPClassifier(\n",
    "        hidden_layer_sizes=(100,),  # Keeping it fixed as you may want to tune it later\n",
    "        max_iter=2500,\n",
    "        activation=hp.Choice('activation', ['identity', 'logistic', 'tanh', 'relu']),\n",
    "        solver=hp.Choice('solver', ['lbfgs', 'sgd', 'adam']),\n",
    "        learning_rate=hp.Choice('learning_rate', ['constant', 'invscaling', 'adaptive']),\n",
    "        random_state=hp.Int('random_state', min_value=0, max_value=10, step=1)\n",
    "    )\n",
    "    return model\n",
    "\n",
    "X_train = np.array(X_train) if not isinstance(X_train, (np.ndarray, pd.DataFrame)) else X_train\n",
    "y_train = np.array(y_train) if not isinstance(y_train, (np.ndarray, pd.DataFrame)) else y_train\n",
    "\n",
    "# Initialize the tuner\n",
    "tuner = kt.SklearnTuner(\n",
    "    oracle=kt.oracles.BayesianOptimizationOracle(\n",
    "        objective=kt.Objective('score', 'max'),\n",
    "        max_trials=3\n",
    "    ),\n",
    "    hypermodel=build_model,\n",
    "    cv=StratifiedKFold(5),\n",
    "    overwrite=True\n",
    ")\n",
    "\n",
    "# Perform the search\n",
    "tuner.search(X_train, y_train)\n",
    "\n",
    "# Get the best model\n",
    "best_model = tuner.get_best_models(num_models=1)[0]\n",
    "print(best_model)"
   ]
  },
  {
   "cell_type": "code",
   "execution_count": null,
   "id": "26da13cb",
   "metadata": {
    "papermill": {
     "duration": 1.149377,
     "end_time": "2024-08-28T20:21:20.421057",
     "exception": false,
     "start_time": "2024-08-28T20:21:19.271680",
     "status": "completed"
    },
    "tags": []
   },
   "outputs": [],
   "source": [
    "#Tuned MLP-ANN Classifier with best parameters\n",
    "best_mlp_model = MLPClassifier(learning_rate='invscaling', max_iter=2500, random_state=8,solver='lbfgs')\n",
    "\n",
    "best_mlp_model.fit(X_train,y_train)\n",
    "y_pred_best = best_mlp_model.predict(X_test)\n",
    "\n",
    "mlp_t_acc = accuracy_score(y_test, y_pred_best)*100\n",
    "mlp_t_pre = precision_score(y_test, y_pred_best, average='micro')\n",
    "mlp_t_recall = recall_score(y_test, y_pred_best, average='micro')\n",
    "mlp_t_f1 = f1_score(y_test, y_pred_best, average='micro')\n",
    "\n",
    "print(\"MLP - Accuracy: {:.3f}.\".format(mlp_t_acc))\n",
    "print(\"MLP - Precision: {:.3f}.\".format(mlp_t_pre))\n",
    "print(\"MLP - Recall: {:.3f}.\".format(mlp_t_recall))\n",
    "print(\"MLP - F1_Score: {:.3f}.\".format(mlp_t_f1))\n",
    "print(\"\\nConfusion Matrix: \\n\", confusion_matrix(y_test, y_pred_best))\n",
    "print('\\n Clasification Report:\\n', classification_report(y_test,y_pred_best))"
   ]
  },
  {
   "cell_type": "code",
   "execution_count": null,
   "id": "644034a6",
   "metadata": {
    "papermill": {
     "duration": 0.087191,
     "end_time": "2024-08-28T20:21:20.621729",
     "exception": false,
     "start_time": "2024-08-28T20:21:20.534538",
     "status": "completed"
    },
    "tags": []
   },
   "outputs": [],
   "source": [
    "#let's compare MLP-ANN model results before and after tuning\n",
    "mlp_metrics = {'metric': ['accuracy','precision','recall','f1'],\n",
    "          'Base MLP model': [mlp_acc,mlp_pre, mlp_recall, mlp_f1],\n",
    "          'Tuned MLP model': [mlp_t_acc,mlp_t_pre,mlp_t_recall,mlp_t_f1]}\n",
    "\n",
    "mlp_compare_df = pd.DataFrame(mlp_metrics)\n",
    "print(mlp_compare_df)"
   ]
  },
  {
   "cell_type": "markdown",
   "id": "dcd1582b",
   "metadata": {
    "papermill": {
     "duration": 0.072079,
     "end_time": "2024-08-28T20:21:20.767686",
     "exception": false,
     "start_time": "2024-08-28T20:21:20.695607",
     "status": "completed"
    },
    "tags": []
   },
   "source": [
    "# Model 3 - XGBoost with GridSearchCV"
   ]
  },
  {
   "cell_type": "code",
   "execution_count": null,
   "id": "41e7e723",
   "metadata": {
    "papermill": {
     "duration": 0.088478,
     "end_time": "2024-08-28T20:21:20.928471",
     "exception": false,
     "start_time": "2024-08-28T20:21:20.839993",
     "status": "completed"
    },
    "tags": []
   },
   "outputs": [],
   "source": [
    "X = data[['MR Delay','CDR','M/F', 'Age', 'EDUC','SES', 'MMSE', 'eTIV', 'nWBV', 'ASF']]\n",
    "y = data['Group']"
   ]
  },
  {
   "cell_type": "code",
   "execution_count": null,
   "id": "fba902ad",
   "metadata": {
    "papermill": {
     "duration": 0.08779,
     "end_time": "2024-08-28T20:21:21.088763",
     "exception": false,
     "start_time": "2024-08-28T20:21:21.000973",
     "status": "completed"
    },
    "tags": []
   },
   "outputs": [],
   "source": [
    "X_train, X_test, y_train, y_test = train_test_split(X, y, test_size = 0.2, random_state = 1)"
   ]
  },
  {
   "cell_type": "code",
   "execution_count": null,
   "id": "d39c1205",
   "metadata": {
    "papermill": {
     "duration": 0.091757,
     "end_time": "2024-08-28T20:21:21.252711",
     "exception": false,
     "start_time": "2024-08-28T20:21:21.160954",
     "status": "completed"
    },
    "tags": []
   },
   "outputs": [],
   "source": [
    "#normalize data again\n",
    "from sklearn.preprocessing import normalize\n",
    "X = normalize(X, axis=0)\n",
    "print(\"Examples of X Normalised\\n\", X[:3])"
   ]
  },
  {
   "cell_type": "code",
   "execution_count": null,
   "id": "3404e4a0",
   "metadata": {
    "papermill": {
     "duration": 0.094099,
     "end_time": "2024-08-28T20:21:21.422748",
     "exception": false,
     "start_time": "2024-08-28T20:21:21.328649",
     "status": "completed"
    },
    "tags": []
   },
   "outputs": [],
   "source": [
    "X_train = np.array(X_train) if not isinstance(X_train, (np.ndarray, pd.DataFrame)) else X_train\n",
    "y_train = np.array(y_train) if not isinstance(y_train, (np.ndarray, pd.DataFrame)) else y_train"
   ]
  },
  {
   "cell_type": "code",
   "execution_count": null,
   "id": "95ea37fe",
   "metadata": {
    "papermill": {
     "duration": 0.441531,
     "end_time": "2024-08-28T20:21:21.947084",
     "exception": false,
     "start_time": "2024-08-28T20:21:21.505553",
     "status": "completed"
    },
    "tags": []
   },
   "outputs": [],
   "source": [
    "#base model fitting\n",
    "from xgboost import XGBClassifier\n",
    "XGB = XGBClassifier()\n",
    "\n",
    "XGB.fit(X_train,y_train)\n",
    "y_pred = XGB.predict(X_test)\n",
    "\n",
    "# Get the accuracy score\n",
    "XGB_acc = accuracy_score(y_test, y_pred)*100\n",
    "XGB_pre = precision_score(y_test, y_pred, average='micro')\n",
    "XGB_recall = recall_score(y_test, y_pred, average='micro')\n",
    "XGB_f1 = f1_score(y_test, y_pred, average='micro')\n",
    "\n",
    "print(\"XGB - Accuracy: {:.3f}.\".format(XGB_acc))\n",
    "print(\"XGB - Precision: {:.3f}.\".format(XGB_pre))\n",
    "print(\"XGB - Recall: {:.3f}.\".format(XGB_recall))\n",
    "print(\"XGB - F1_Score: {:.3f}.\".format(XGB_f1))"
   ]
  },
  {
   "cell_type": "code",
   "execution_count": null,
   "id": "2a329d3c",
   "metadata": {
    "papermill": {
     "duration": 387.261925,
     "end_time": "2024-08-28T20:27:49.290702",
     "exception": false,
     "start_time": "2024-08-28T20:21:22.028777",
     "status": "completed"
    },
    "tags": []
   },
   "outputs": [],
   "source": [
    "#hyperparameter tuning with GridSearchCV\n",
    "from sklearn.model_selection import GridSearchCV\n",
    "\n",
    "parameters = {\n",
    "    'max_depth':range(3,10,2),\n",
    "    'min_child_weight':range(1,6,2),\n",
    "    'gamma':[i/10.0 for i in range(0,5)],\n",
    "    'subsample':[i/10.0 for i in range(6,10)],\n",
    "    'colsample_bytree':[i/10.0 for i in range(6,10)],\n",
    "    'reg_alpha':[0, 0.001, 0.005, 0.01, 0.05],\n",
    "}\n",
    "\n",
    "XGB_SE = GridSearchCV(estimator=XGB, param_grid=parameters, scoring='accuracy', cv=5, n_jobs=-1, verbose=1)\n",
    "XGB_SE.fit(X_train,y_train)\n",
    "best_parameters = XGB_SE.best_params_\n",
    "best_score = XGB_SE.best_score_\n",
    "print(best_parameters)\n",
    "print(best_score)\n",
    "\n",
    "#test acc\n",
    "y_pred = XGB_SE.predict(X_test)\n",
    "\n",
    "# Get the accuracy score\n",
    "XGB_acc = accuracy_score(y_test, y_pred)\n",
    "XGB_pre = precision_score(y_test, y_pred, average='micro')\n",
    "XGB_recall = recall_score(y_test, y_pred, average='micro')\n",
    "XGB_f1 = f1_score(y_test, y_pred, average='micro')\n",
    "\n",
    "print(\"XGB - Accuracy: {:.3f}.\".format(XGB_acc))\n",
    "print(\"XGB - Precision: {:.3f}.\".format(XGB_pre))\n",
    "print(\"XGB - Recall: {:.3f}.\".format(XGB_recall))\n",
    "print(\"XGB - F1_Score: {:.3f}.\".format(XGB_f1))"
   ]
  },
  {
   "cell_type": "code",
   "execution_count": null,
   "id": "9689ab36",
   "metadata": {
    "papermill": {
     "duration": 0.157166,
     "end_time": "2024-08-28T20:27:49.519692",
     "exception": false,
     "start_time": "2024-08-28T20:27:49.362526",
     "status": "completed"
    },
    "tags": []
   },
   "outputs": [],
   "source": [
    "#let's fit the best parameters to the XGBoost model\n",
    "best_XGB_model = XGBClassifier(colsample_bytree= 0.6, gamma= 0.2, max_depth= 5, min_child_weight= 1, reg_alpha= 0.005, subsample= 0.9)\n",
    "\n",
    "best_XGB_model.fit(X_train,y_train)\n",
    "y_pred_best = best_XGB_model.predict(X_test)\n",
    "\n",
    "# Get the accuracy score\n",
    "XGB_t_acc = accuracy_score(y_test, y_pred_best)*100\n",
    "XGB_t_pre = precision_score(y_test, y_pred_best, average='micro')\n",
    "XGB_t_recall = recall_score(y_test, y_pred_best, average='micro')\n",
    "XGB_t_f1 = f1_score(y_test, y_pred_best, average='micro')\n",
    "\n",
    "print(\"XGB - Accuracy: {:.3f}.\".format(XGB_t_acc))\n",
    "print(\"XGB - Precision: {:.3f}.\".format(XGB_t_pre))\n",
    "print(\"XGB - Recall: {:.3f}.\".format(XGB_t_recall))\n",
    "print(\"XGB - F1_Score: {:.3f}.\".format(XGB_t_f1))"
   ]
  },
  {
   "cell_type": "code",
   "execution_count": null,
   "id": "9d7714bc",
   "metadata": {
    "papermill": {
     "duration": 0.088295,
     "end_time": "2024-08-28T20:27:49.682313",
     "exception": false,
     "start_time": "2024-08-28T20:27:49.594018",
     "status": "completed"
    },
    "tags": []
   },
   "outputs": [],
   "source": [
    "#let's compare XG-Boost model results before and after tuning\n",
    "xgb_metrics = {'metric': ['accuracy','precision','recall','f1'],\n",
    "          'Base XGB model': [XGB_acc,XGB_pre, XGB_recall, XGB_f1],\n",
    "          'Tuned XBG model': [XGB_t_acc,XGB_t_pre,XGB_t_recall,XGB_t_f1]}\n",
    "\n",
    "xgb_compare_df = pd.DataFrame(xgb_metrics)\n",
    "print(xgb_compare_df)"
   ]
  },
  {
   "cell_type": "markdown",
   "id": "4f32e777",
   "metadata": {
    "papermill": {
     "duration": 0.072631,
     "end_time": "2024-08-28T20:27:49.830198",
     "exception": false,
     "start_time": "2024-08-28T20:27:49.757567",
     "status": "completed"
    },
    "tags": []
   },
   "source": [
    "# Summary of Models"
   ]
  },
  {
   "cell_type": "code",
   "execution_count": null,
   "id": "d87b6fd9",
   "metadata": {
    "papermill": {
     "duration": 0.192776,
     "end_time": "2024-08-28T20:27:50.095602",
     "exception": false,
     "start_time": "2024-08-28T20:27:49.902826",
     "status": "completed"
    },
    "tags": []
   },
   "outputs": [],
   "source": [
    "results = [['Random Forest', rf_t_acc], ['MLP Classifier', mlp_t_acc], ['XGBoost', XGB_t_acc]]\n",
    "\n",
    "# Create the pandas DataFrame\n",
    "df = pd.DataFrame(results, columns=['Model', 'Accuracy'])\n",
    "\n",
    "# print dataframe.\n",
    "df.style.set_caption('Best Model Summary')"
   ]
  },
  {
   "cell_type": "code",
   "execution_count": 2,
   "id": "293fa383-b8b6-4e9b-af9d-83eba3d9555b",
   "metadata": {
    "papermill": {
     "duration": 0.192776,
     "end_time": "2024-08-28T20:27:50.095602",
     "exception": false,
     "start_time": "2024-08-28T20:27:49.902826",
     "status": "completed"
    },
    "tags": []
   },
   "outputs": [
    {
     "ename": "Py4JJavaError",
     "evalue": "An error occurred while calling o279.fit.\n: org.apache.spark.SparkException: Job aborted due to stage failure: Task 0 in stage 18.0 failed 1 times, most recent failure: Lost task 0.0 in stage 18.0 (TID 14) (10.104.0.110 executor driver): org.apache.spark.SparkException: [FAILED_EXECUTE_UDF] Failed to execute user defined function (`VectorAssembler$$Lambda$3754/0x000001ac02015710`: (struct<Age_double_VectorAssembler_8a080273acde:double,EDUC_double_VectorAssembler_8a080273acde:double,SES_double_VectorAssembler_8a080273acde:double,MMSE_double_VectorAssembler_8a080273acde:double,eTIV_double_VectorAssembler_8a080273acde:double,nWBV:double,ASF:double,M/F_index:double>) => struct<type:tinyint,size:int,indices:array<int>,values:array<double>>).\r\n\tat org.apache.spark.sql.errors.QueryExecutionErrors$.failedExecuteUserDefinedFunctionError(QueryExecutionErrors.scala:198)\r\n\tat org.apache.spark.sql.errors.QueryExecutionErrors.failedExecuteUserDefinedFunctionError(QueryExecutionErrors.scala)\r\n\tat org.apache.spark.sql.catalyst.expressions.GeneratedClass$GeneratedIteratorForCodegenStage1.sort_addToSorter_0$(Unknown Source)\r\n\tat org.apache.spark.sql.catalyst.expressions.GeneratedClass$GeneratedIteratorForCodegenStage1.processNext(Unknown Source)\r\n\tat org.apache.spark.sql.execution.BufferedRowIterator.hasNext(BufferedRowIterator.java:43)\r\n\tat org.apache.spark.sql.execution.WholeStageCodegenEvaluatorFactory$WholeStageCodegenPartitionEvaluator$$anon$1.hasNext(WholeStageCodegenEvaluatorFactory.scala:43)\r\n\tat scala.collection.Iterator$$anon$10.hasNext(Iterator.scala:460)\r\n\tat scala.collection.Iterator$$anon$10.hasNext(Iterator.scala:460)\r\n\tat scala.collection.Iterator$$anon$10.hasNext(Iterator.scala:460)\r\n\tat scala.collection.Iterator$$anon$10.hasNext(Iterator.scala:460)\r\n\tat scala.collection.Iterator$SliceIterator.hasNext(Iterator.scala:268)\r\n\tat scala.collection.Iterator.foreach(Iterator.scala:943)\r\n\tat scala.collection.Iterator.foreach$(Iterator.scala:943)\r\n\tat scala.collection.AbstractIterator.foreach(Iterator.scala:1431)\r\n\tat scala.collection.generic.Growable.$plus$plus$eq(Growable.scala:62)\r\n\tat scala.collection.generic.Growable.$plus$plus$eq$(Growable.scala:53)\r\n\tat scala.collection.mutable.ArrayBuffer.$plus$plus$eq(ArrayBuffer.scala:105)\r\n\tat scala.collection.mutable.ArrayBuffer.$plus$plus$eq(ArrayBuffer.scala:49)\r\n\tat scala.collection.TraversableOnce.to(TraversableOnce.scala:366)\r\n\tat scala.collection.TraversableOnce.to$(TraversableOnce.scala:364)\r\n\tat scala.collection.AbstractIterator.to(Iterator.scala:1431)\r\n\tat scala.collection.TraversableOnce.toBuffer(TraversableOnce.scala:358)\r\n\tat scala.collection.TraversableOnce.toBuffer$(TraversableOnce.scala:358)\r\n\tat scala.collection.AbstractIterator.toBuffer(Iterator.scala:1431)\r\n\tat scala.collection.TraversableOnce.toArray(TraversableOnce.scala:345)\r\n\tat scala.collection.TraversableOnce.toArray$(TraversableOnce.scala:339)\r\n\tat scala.collection.AbstractIterator.toArray(Iterator.scala:1431)\r\n\tat org.apache.spark.rdd.RDD.$anonfun$take$2(RDD.scala:1492)\r\n\tat org.apache.spark.SparkContext.$anonfun$runJob$5(SparkContext.scala:2433)\r\n\tat org.apache.spark.scheduler.ResultTask.runTask(ResultTask.scala:93)\r\n\tat org.apache.spark.TaskContext.runTaskWithListeners(TaskContext.scala:166)\r\n\tat org.apache.spark.scheduler.Task.run(Task.scala:141)\r\n\tat org.apache.spark.executor.Executor$TaskRunner.$anonfun$run$4(Executor.scala:620)\r\n\tat org.apache.spark.util.SparkErrorUtils.tryWithSafeFinally(SparkErrorUtils.scala:64)\r\n\tat org.apache.spark.util.SparkErrorUtils.tryWithSafeFinally$(SparkErrorUtils.scala:61)\r\n\tat org.apache.spark.util.Utils$.tryWithSafeFinally(Utils.scala:94)\r\n\tat org.apache.spark.executor.Executor$TaskRunner.run(Executor.scala:623)\r\n\tat java.base/java.util.concurrent.ThreadPoolExecutor.runWorker(ThreadPoolExecutor.java:1136)\r\n\tat java.base/java.util.concurrent.ThreadPoolExecutor$Worker.run(ThreadPoolExecutor.java:635)\r\n\tat java.base/java.lang.Thread.run(Thread.java:842)\r\nCaused by: org.apache.spark.SparkException: Encountered null while assembling a row with handleInvalid = \"error\". Consider\nremoving nulls from dataset or using handleInvalid = \"keep\" or \"skip\".\r\n\tat org.apache.spark.ml.feature.VectorAssembler$.$anonfun$assemble$1(VectorAssembler.scala:291)\r\n\tat org.apache.spark.ml.feature.VectorAssembler$.$anonfun$assemble$1$adapted(VectorAssembler.scala:260)\r\n\tat scala.collection.IndexedSeqOptimized.foreach(IndexedSeqOptimized.scala:36)\r\n\tat scala.collection.IndexedSeqOptimized.foreach$(IndexedSeqOptimized.scala:33)\r\n\tat scala.collection.mutable.WrappedArray.foreach(WrappedArray.scala:38)\r\n\tat org.apache.spark.ml.feature.VectorAssembler$.assemble(VectorAssembler.scala:260)\r\n\tat org.apache.spark.ml.feature.VectorAssembler.$anonfun$transform$6(VectorAssembler.scala:143)\r\n\t... 38 more\r\n\nDriver stacktrace:\r\n\tat org.apache.spark.scheduler.DAGScheduler.failJobAndIndependentStages(DAGScheduler.scala:2856)\r\n\tat org.apache.spark.scheduler.DAGScheduler.$anonfun$abortStage$2(DAGScheduler.scala:2792)\r\n\tat org.apache.spark.scheduler.DAGScheduler.$anonfun$abortStage$2$adapted(DAGScheduler.scala:2791)\r\n\tat scala.collection.mutable.ResizableArray.foreach(ResizableArray.scala:62)\r\n\tat scala.collection.mutable.ResizableArray.foreach$(ResizableArray.scala:55)\r\n\tat scala.collection.mutable.ArrayBuffer.foreach(ArrayBuffer.scala:49)\r\n\tat org.apache.spark.scheduler.DAGScheduler.abortStage(DAGScheduler.scala:2791)\r\n\tat org.apache.spark.scheduler.DAGScheduler.$anonfun$handleTaskSetFailed$1(DAGScheduler.scala:1247)\r\n\tat org.apache.spark.scheduler.DAGScheduler.$anonfun$handleTaskSetFailed$1$adapted(DAGScheduler.scala:1247)\r\n\tat scala.Option.foreach(Option.scala:407)\r\n\tat org.apache.spark.scheduler.DAGScheduler.handleTaskSetFailed(DAGScheduler.scala:1247)\r\n\tat org.apache.spark.scheduler.DAGSchedulerEventProcessLoop.doOnReceive(DAGScheduler.scala:3060)\r\n\tat org.apache.spark.scheduler.DAGSchedulerEventProcessLoop.onReceive(DAGScheduler.scala:2994)\r\n\tat org.apache.spark.scheduler.DAGSchedulerEventProcessLoop.onReceive(DAGScheduler.scala:2983)\r\n\tat org.apache.spark.util.EventLoop$$anon$1.run(EventLoop.scala:49)\r\n\tat org.apache.spark.scheduler.DAGScheduler.runJob(DAGScheduler.scala:989)\r\n\tat org.apache.spark.SparkContext.runJob(SparkContext.scala:2393)\r\n\tat org.apache.spark.SparkContext.runJob(SparkContext.scala:2414)\r\n\tat org.apache.spark.SparkContext.runJob(SparkContext.scala:2433)\r\n\tat org.apache.spark.rdd.RDD.$anonfun$take$1(RDD.scala:1492)\r\n\tat org.apache.spark.rdd.RDDOperationScope$.withScope(RDDOperationScope.scala:151)\r\n\tat org.apache.spark.rdd.RDDOperationScope$.withScope(RDDOperationScope.scala:112)\r\n\tat org.apache.spark.rdd.RDD.withScope(RDD.scala:410)\r\n\tat org.apache.spark.rdd.RDD.take(RDD.scala:1465)\r\n\tat org.apache.spark.ml.tree.impl.DecisionTreeMetadata$.buildMetadata(DecisionTreeMetadata.scala:119)\r\n\tat org.apache.spark.ml.tree.impl.RandomForest$.run(RandomForest.scala:274)\r\n\tat org.apache.spark.ml.classification.RandomForestClassifier.$anonfun$train$1(RandomForestClassifier.scala:168)\r\n\tat org.apache.spark.ml.util.Instrumentation$.$anonfun$instrumented$1(Instrumentation.scala:191)\r\n\tat scala.util.Try$.apply(Try.scala:213)\r\n\tat org.apache.spark.ml.util.Instrumentation$.instrumented(Instrumentation.scala:191)\r\n\tat org.apache.spark.ml.classification.RandomForestClassifier.train(RandomForestClassifier.scala:139)\r\n\tat org.apache.spark.ml.classification.RandomForestClassifier.train(RandomForestClassifier.scala:47)\r\n\tat org.apache.spark.ml.Predictor.fit(Predictor.scala:114)\r\n\tat org.apache.spark.ml.Predictor.fit(Predictor.scala:78)\r\n\tat java.base/jdk.internal.reflect.NativeMethodAccessorImpl.invoke0(Native Method)\r\n\tat java.base/jdk.internal.reflect.NativeMethodAccessorImpl.invoke(NativeMethodAccessorImpl.java:77)\r\n\tat java.base/jdk.internal.reflect.DelegatingMethodAccessorImpl.invoke(DelegatingMethodAccessorImpl.java:43)\r\n\tat java.base/java.lang.reflect.Method.invoke(Method.java:568)\r\n\tat py4j.reflection.MethodInvoker.invoke(MethodInvoker.java:244)\r\n\tat py4j.reflection.ReflectionEngine.invoke(ReflectionEngine.java:374)\r\n\tat py4j.Gateway.invoke(Gateway.java:282)\r\n\tat py4j.commands.AbstractCommand.invokeMethod(AbstractCommand.java:132)\r\n\tat py4j.commands.CallCommand.execute(CallCommand.java:79)\r\n\tat py4j.ClientServerConnection.waitForCommands(ClientServerConnection.java:182)\r\n\tat py4j.ClientServerConnection.run(ClientServerConnection.java:106)\r\n\tat java.base/java.lang.Thread.run(Thread.java:842)\r\nCaused by: org.apache.spark.SparkException: [FAILED_EXECUTE_UDF] Failed to execute user defined function (`VectorAssembler$$Lambda$3754/0x000001ac02015710`: (struct<Age_double_VectorAssembler_8a080273acde:double,EDUC_double_VectorAssembler_8a080273acde:double,SES_double_VectorAssembler_8a080273acde:double,MMSE_double_VectorAssembler_8a080273acde:double,eTIV_double_VectorAssembler_8a080273acde:double,nWBV:double,ASF:double,M/F_index:double>) => struct<type:tinyint,size:int,indices:array<int>,values:array<double>>).\r\n\tat org.apache.spark.sql.errors.QueryExecutionErrors$.failedExecuteUserDefinedFunctionError(QueryExecutionErrors.scala:198)\r\n\tat org.apache.spark.sql.errors.QueryExecutionErrors.failedExecuteUserDefinedFunctionError(QueryExecutionErrors.scala)\r\n\tat org.apache.spark.sql.catalyst.expressions.GeneratedClass$GeneratedIteratorForCodegenStage1.sort_addToSorter_0$(Unknown Source)\r\n\tat org.apache.spark.sql.catalyst.expressions.GeneratedClass$GeneratedIteratorForCodegenStage1.processNext(Unknown Source)\r\n\tat org.apache.spark.sql.execution.BufferedRowIterator.hasNext(BufferedRowIterator.java:43)\r\n\tat org.apache.spark.sql.execution.WholeStageCodegenEvaluatorFactory$WholeStageCodegenPartitionEvaluator$$anon$1.hasNext(WholeStageCodegenEvaluatorFactory.scala:43)\r\n\tat scala.collection.Iterator$$anon$10.hasNext(Iterator.scala:460)\r\n\tat scala.collection.Iterator$$anon$10.hasNext(Iterator.scala:460)\r\n\tat scala.collection.Iterator$$anon$10.hasNext(Iterator.scala:460)\r\n\tat scala.collection.Iterator$$anon$10.hasNext(Iterator.scala:460)\r\n\tat scala.collection.Iterator$SliceIterator.hasNext(Iterator.scala:268)\r\n\tat scala.collection.Iterator.foreach(Iterator.scala:943)\r\n\tat scala.collection.Iterator.foreach$(Iterator.scala:943)\r\n\tat scala.collection.AbstractIterator.foreach(Iterator.scala:1431)\r\n\tat scala.collection.generic.Growable.$plus$plus$eq(Growable.scala:62)\r\n\tat scala.collection.generic.Growable.$plus$plus$eq$(Growable.scala:53)\r\n\tat scala.collection.mutable.ArrayBuffer.$plus$plus$eq(ArrayBuffer.scala:105)\r\n\tat scala.collection.mutable.ArrayBuffer.$plus$plus$eq(ArrayBuffer.scala:49)\r\n\tat scala.collection.TraversableOnce.to(TraversableOnce.scala:366)\r\n\tat scala.collection.TraversableOnce.to$(TraversableOnce.scala:364)\r\n\tat scala.collection.AbstractIterator.to(Iterator.scala:1431)\r\n\tat scala.collection.TraversableOnce.toBuffer(TraversableOnce.scala:358)\r\n\tat scala.collection.TraversableOnce.toBuffer$(TraversableOnce.scala:358)\r\n\tat scala.collection.AbstractIterator.toBuffer(Iterator.scala:1431)\r\n\tat scala.collection.TraversableOnce.toArray(TraversableOnce.scala:345)\r\n\tat scala.collection.TraversableOnce.toArray$(TraversableOnce.scala:339)\r\n\tat scala.collection.AbstractIterator.toArray(Iterator.scala:1431)\r\n\tat org.apache.spark.rdd.RDD.$anonfun$take$2(RDD.scala:1492)\r\n\tat org.apache.spark.SparkContext.$anonfun$runJob$5(SparkContext.scala:2433)\r\n\tat org.apache.spark.scheduler.ResultTask.runTask(ResultTask.scala:93)\r\n\tat org.apache.spark.TaskContext.runTaskWithListeners(TaskContext.scala:166)\r\n\tat org.apache.spark.scheduler.Task.run(Task.scala:141)\r\n\tat org.apache.spark.executor.Executor$TaskRunner.$anonfun$run$4(Executor.scala:620)\r\n\tat org.apache.spark.util.SparkErrorUtils.tryWithSafeFinally(SparkErrorUtils.scala:64)\r\n\tat org.apache.spark.util.SparkErrorUtils.tryWithSafeFinally$(SparkErrorUtils.scala:61)\r\n\tat org.apache.spark.util.Utils$.tryWithSafeFinally(Utils.scala:94)\r\n\tat org.apache.spark.executor.Executor$TaskRunner.run(Executor.scala:623)\r\n\tat java.base/java.util.concurrent.ThreadPoolExecutor.runWorker(ThreadPoolExecutor.java:1136)\r\n\tat java.base/java.util.concurrent.ThreadPoolExecutor$Worker.run(ThreadPoolExecutor.java:635)\r\n\t... 1 more\r\nCaused by: org.apache.spark.SparkException: Encountered null while assembling a row with handleInvalid = \"error\". Consider\nremoving nulls from dataset or using handleInvalid = \"keep\" or \"skip\".\r\n\tat org.apache.spark.ml.feature.VectorAssembler$.$anonfun$assemble$1(VectorAssembler.scala:291)\r\n\tat org.apache.spark.ml.feature.VectorAssembler$.$anonfun$assemble$1$adapted(VectorAssembler.scala:260)\r\n\tat scala.collection.IndexedSeqOptimized.foreach(IndexedSeqOptimized.scala:36)\r\n\tat scala.collection.IndexedSeqOptimized.foreach$(IndexedSeqOptimized.scala:33)\r\n\tat scala.collection.mutable.WrappedArray.foreach(WrappedArray.scala:38)\r\n\tat org.apache.spark.ml.feature.VectorAssembler$.assemble(VectorAssembler.scala:260)\r\n\tat org.apache.spark.ml.feature.VectorAssembler.$anonfun$transform$6(VectorAssembler.scala:143)\r\n\t... 38 more\r\n",
     "output_type": "error",
     "traceback": [
      "\u001b[1;31m---------------------------------------------------------------------------\u001b[0m",
      "\u001b[1;31mPy4JJavaError\u001b[0m                             Traceback (most recent call last)",
      "Cell \u001b[1;32mIn[2], line 40\u001b[0m\n\u001b[0;32m     38\u001b[0m \u001b[38;5;66;03m# Train Random Forest Model\u001b[39;00m\n\u001b[0;32m     39\u001b[0m rf \u001b[38;5;241m=\u001b[39m RandomForestClassifier(featuresCol\u001b[38;5;241m=\u001b[39m\u001b[38;5;124m\"\u001b[39m\u001b[38;5;124mfeatures\u001b[39m\u001b[38;5;124m\"\u001b[39m, labelCol\u001b[38;5;241m=\u001b[39m\u001b[38;5;124m\"\u001b[39m\u001b[38;5;124mlabel\u001b[39m\u001b[38;5;124m\"\u001b[39m, numTrees\u001b[38;5;241m=\u001b[39m\u001b[38;5;241m100\u001b[39m)\n\u001b[1;32m---> 40\u001b[0m model \u001b[38;5;241m=\u001b[39m \u001b[43mrf\u001b[49m\u001b[38;5;241;43m.\u001b[39;49m\u001b[43mfit\u001b[49m\u001b[43m(\u001b[49m\u001b[43mtrain_df\u001b[49m\u001b[43m)\u001b[49m\n\u001b[0;32m     42\u001b[0m \u001b[38;5;66;03m# Make Predictions\u001b[39;00m\n\u001b[0;32m     43\u001b[0m predictions \u001b[38;5;241m=\u001b[39m model\u001b[38;5;241m.\u001b[39mtransform(test_df)\n",
      "File \u001b[1;32m~\\AppData\\Local\\Programs\\Python\\Python311\\Lib\\site-packages\\pyspark\\ml\\base.py:205\u001b[0m, in \u001b[0;36mEstimator.fit\u001b[1;34m(self, dataset, params)\u001b[0m\n\u001b[0;32m    203\u001b[0m         \u001b[38;5;28;01mreturn\u001b[39;00m \u001b[38;5;28mself\u001b[39m\u001b[38;5;241m.\u001b[39mcopy(params)\u001b[38;5;241m.\u001b[39m_fit(dataset)\n\u001b[0;32m    204\u001b[0m     \u001b[38;5;28;01melse\u001b[39;00m:\n\u001b[1;32m--> 205\u001b[0m         \u001b[38;5;28;01mreturn\u001b[39;00m \u001b[38;5;28;43mself\u001b[39;49m\u001b[38;5;241;43m.\u001b[39;49m\u001b[43m_fit\u001b[49m\u001b[43m(\u001b[49m\u001b[43mdataset\u001b[49m\u001b[43m)\u001b[49m\n\u001b[0;32m    206\u001b[0m \u001b[38;5;28;01melse\u001b[39;00m:\n\u001b[0;32m    207\u001b[0m     \u001b[38;5;28;01mraise\u001b[39;00m \u001b[38;5;167;01mTypeError\u001b[39;00m(\n\u001b[0;32m    208\u001b[0m         \u001b[38;5;124m\"\u001b[39m\u001b[38;5;124mParams must be either a param map or a list/tuple of param maps, \u001b[39m\u001b[38;5;124m\"\u001b[39m\n\u001b[0;32m    209\u001b[0m         \u001b[38;5;124m\"\u001b[39m\u001b[38;5;124mbut got \u001b[39m\u001b[38;5;132;01m%s\u001b[39;00m\u001b[38;5;124m.\u001b[39m\u001b[38;5;124m\"\u001b[39m \u001b[38;5;241m%\u001b[39m \u001b[38;5;28mtype\u001b[39m(params)\n\u001b[0;32m    210\u001b[0m     )\n",
      "File \u001b[1;32m~\\AppData\\Local\\Programs\\Python\\Python311\\Lib\\site-packages\\pyspark\\ml\\wrapper.py:381\u001b[0m, in \u001b[0;36mJavaEstimator._fit\u001b[1;34m(self, dataset)\u001b[0m\n\u001b[0;32m    380\u001b[0m \u001b[38;5;28;01mdef\u001b[39;00m \u001b[38;5;21m_fit\u001b[39m(\u001b[38;5;28mself\u001b[39m, dataset: DataFrame) \u001b[38;5;241m-\u001b[39m\u001b[38;5;241m>\u001b[39m JM:\n\u001b[1;32m--> 381\u001b[0m     java_model \u001b[38;5;241m=\u001b[39m \u001b[38;5;28;43mself\u001b[39;49m\u001b[38;5;241;43m.\u001b[39;49m\u001b[43m_fit_java\u001b[49m\u001b[43m(\u001b[49m\u001b[43mdataset\u001b[49m\u001b[43m)\u001b[49m\n\u001b[0;32m    382\u001b[0m     model \u001b[38;5;241m=\u001b[39m \u001b[38;5;28mself\u001b[39m\u001b[38;5;241m.\u001b[39m_create_model(java_model)\n\u001b[0;32m    383\u001b[0m     \u001b[38;5;28;01mreturn\u001b[39;00m \u001b[38;5;28mself\u001b[39m\u001b[38;5;241m.\u001b[39m_copyValues(model)\n",
      "File \u001b[1;32m~\\AppData\\Local\\Programs\\Python\\Python311\\Lib\\site-packages\\pyspark\\ml\\wrapper.py:378\u001b[0m, in \u001b[0;36mJavaEstimator._fit_java\u001b[1;34m(self, dataset)\u001b[0m\n\u001b[0;32m    375\u001b[0m \u001b[38;5;28;01massert\u001b[39;00m \u001b[38;5;28mself\u001b[39m\u001b[38;5;241m.\u001b[39m_java_obj \u001b[38;5;129;01mis\u001b[39;00m \u001b[38;5;129;01mnot\u001b[39;00m \u001b[38;5;28;01mNone\u001b[39;00m\n\u001b[0;32m    377\u001b[0m \u001b[38;5;28mself\u001b[39m\u001b[38;5;241m.\u001b[39m_transfer_params_to_java()\n\u001b[1;32m--> 378\u001b[0m \u001b[38;5;28;01mreturn\u001b[39;00m \u001b[38;5;28;43mself\u001b[39;49m\u001b[38;5;241;43m.\u001b[39;49m\u001b[43m_java_obj\u001b[49m\u001b[38;5;241;43m.\u001b[39;49m\u001b[43mfit\u001b[49m\u001b[43m(\u001b[49m\u001b[43mdataset\u001b[49m\u001b[38;5;241;43m.\u001b[39;49m\u001b[43m_jdf\u001b[49m\u001b[43m)\u001b[49m\n",
      "File \u001b[1;32m~\\AppData\\Local\\Programs\\Python\\Python311\\Lib\\site-packages\\py4j\\java_gateway.py:1322\u001b[0m, in \u001b[0;36mJavaMember.__call__\u001b[1;34m(self, *args)\u001b[0m\n\u001b[0;32m   1316\u001b[0m command \u001b[38;5;241m=\u001b[39m proto\u001b[38;5;241m.\u001b[39mCALL_COMMAND_NAME \u001b[38;5;241m+\u001b[39m\\\n\u001b[0;32m   1317\u001b[0m     \u001b[38;5;28mself\u001b[39m\u001b[38;5;241m.\u001b[39mcommand_header \u001b[38;5;241m+\u001b[39m\\\n\u001b[0;32m   1318\u001b[0m     args_command \u001b[38;5;241m+\u001b[39m\\\n\u001b[0;32m   1319\u001b[0m     proto\u001b[38;5;241m.\u001b[39mEND_COMMAND_PART\n\u001b[0;32m   1321\u001b[0m answer \u001b[38;5;241m=\u001b[39m \u001b[38;5;28mself\u001b[39m\u001b[38;5;241m.\u001b[39mgateway_client\u001b[38;5;241m.\u001b[39msend_command(command)\n\u001b[1;32m-> 1322\u001b[0m return_value \u001b[38;5;241m=\u001b[39m \u001b[43mget_return_value\u001b[49m\u001b[43m(\u001b[49m\n\u001b[0;32m   1323\u001b[0m \u001b[43m    \u001b[49m\u001b[43manswer\u001b[49m\u001b[43m,\u001b[49m\u001b[43m \u001b[49m\u001b[38;5;28;43mself\u001b[39;49m\u001b[38;5;241;43m.\u001b[39;49m\u001b[43mgateway_client\u001b[49m\u001b[43m,\u001b[49m\u001b[43m \u001b[49m\u001b[38;5;28;43mself\u001b[39;49m\u001b[38;5;241;43m.\u001b[39;49m\u001b[43mtarget_id\u001b[49m\u001b[43m,\u001b[49m\u001b[43m \u001b[49m\u001b[38;5;28;43mself\u001b[39;49m\u001b[38;5;241;43m.\u001b[39;49m\u001b[43mname\u001b[49m\u001b[43m)\u001b[49m\n\u001b[0;32m   1325\u001b[0m \u001b[38;5;28;01mfor\u001b[39;00m temp_arg \u001b[38;5;129;01min\u001b[39;00m temp_args:\n\u001b[0;32m   1326\u001b[0m     \u001b[38;5;28;01mif\u001b[39;00m \u001b[38;5;28mhasattr\u001b[39m(temp_arg, \u001b[38;5;124m\"\u001b[39m\u001b[38;5;124m_detach\u001b[39m\u001b[38;5;124m\"\u001b[39m):\n",
      "File \u001b[1;32m~\\AppData\\Local\\Programs\\Python\\Python311\\Lib\\site-packages\\pyspark\\errors\\exceptions\\captured.py:179\u001b[0m, in \u001b[0;36mcapture_sql_exception.<locals>.deco\u001b[1;34m(*a, **kw)\u001b[0m\n\u001b[0;32m    177\u001b[0m \u001b[38;5;28;01mdef\u001b[39;00m \u001b[38;5;21mdeco\u001b[39m(\u001b[38;5;241m*\u001b[39ma: Any, \u001b[38;5;241m*\u001b[39m\u001b[38;5;241m*\u001b[39mkw: Any) \u001b[38;5;241m-\u001b[39m\u001b[38;5;241m>\u001b[39m Any:\n\u001b[0;32m    178\u001b[0m     \u001b[38;5;28;01mtry\u001b[39;00m:\n\u001b[1;32m--> 179\u001b[0m         \u001b[38;5;28;01mreturn\u001b[39;00m \u001b[43mf\u001b[49m\u001b[43m(\u001b[49m\u001b[38;5;241;43m*\u001b[39;49m\u001b[43ma\u001b[49m\u001b[43m,\u001b[49m\u001b[43m \u001b[49m\u001b[38;5;241;43m*\u001b[39;49m\u001b[38;5;241;43m*\u001b[39;49m\u001b[43mkw\u001b[49m\u001b[43m)\u001b[49m\n\u001b[0;32m    180\u001b[0m     \u001b[38;5;28;01mexcept\u001b[39;00m Py4JJavaError \u001b[38;5;28;01mas\u001b[39;00m e:\n\u001b[0;32m    181\u001b[0m         converted \u001b[38;5;241m=\u001b[39m convert_exception(e\u001b[38;5;241m.\u001b[39mjava_exception)\n",
      "File \u001b[1;32m~\\AppData\\Local\\Programs\\Python\\Python311\\Lib\\site-packages\\py4j\\protocol.py:326\u001b[0m, in \u001b[0;36mget_return_value\u001b[1;34m(answer, gateway_client, target_id, name)\u001b[0m\n\u001b[0;32m    324\u001b[0m value \u001b[38;5;241m=\u001b[39m OUTPUT_CONVERTER[\u001b[38;5;28mtype\u001b[39m](answer[\u001b[38;5;241m2\u001b[39m:], gateway_client)\n\u001b[0;32m    325\u001b[0m \u001b[38;5;28;01mif\u001b[39;00m answer[\u001b[38;5;241m1\u001b[39m] \u001b[38;5;241m==\u001b[39m REFERENCE_TYPE:\n\u001b[1;32m--> 326\u001b[0m     \u001b[38;5;28;01mraise\u001b[39;00m Py4JJavaError(\n\u001b[0;32m    327\u001b[0m         \u001b[38;5;124m\"\u001b[39m\u001b[38;5;124mAn error occurred while calling \u001b[39m\u001b[38;5;132;01m{0}\u001b[39;00m\u001b[38;5;132;01m{1}\u001b[39;00m\u001b[38;5;132;01m{2}\u001b[39;00m\u001b[38;5;124m.\u001b[39m\u001b[38;5;130;01m\\n\u001b[39;00m\u001b[38;5;124m\"\u001b[39m\u001b[38;5;241m.\u001b[39m\n\u001b[0;32m    328\u001b[0m         \u001b[38;5;28mformat\u001b[39m(target_id, \u001b[38;5;124m\"\u001b[39m\u001b[38;5;124m.\u001b[39m\u001b[38;5;124m\"\u001b[39m, name), value)\n\u001b[0;32m    329\u001b[0m \u001b[38;5;28;01melse\u001b[39;00m:\n\u001b[0;32m    330\u001b[0m     \u001b[38;5;28;01mraise\u001b[39;00m Py4JError(\n\u001b[0;32m    331\u001b[0m         \u001b[38;5;124m\"\u001b[39m\u001b[38;5;124mAn error occurred while calling \u001b[39m\u001b[38;5;132;01m{0}\u001b[39;00m\u001b[38;5;132;01m{1}\u001b[39;00m\u001b[38;5;132;01m{2}\u001b[39;00m\u001b[38;5;124m. Trace:\u001b[39m\u001b[38;5;130;01m\\n\u001b[39;00m\u001b[38;5;132;01m{3}\u001b[39;00m\u001b[38;5;130;01m\\n\u001b[39;00m\u001b[38;5;124m\"\u001b[39m\u001b[38;5;241m.\u001b[39m\n\u001b[0;32m    332\u001b[0m         \u001b[38;5;28mformat\u001b[39m(target_id, \u001b[38;5;124m\"\u001b[39m\u001b[38;5;124m.\u001b[39m\u001b[38;5;124m\"\u001b[39m, name, value))\n",
      "\u001b[1;31mPy4JJavaError\u001b[0m: An error occurred while calling o279.fit.\n: org.apache.spark.SparkException: Job aborted due to stage failure: Task 0 in stage 18.0 failed 1 times, most recent failure: Lost task 0.0 in stage 18.0 (TID 14) (10.104.0.110 executor driver): org.apache.spark.SparkException: [FAILED_EXECUTE_UDF] Failed to execute user defined function (`VectorAssembler$$Lambda$3754/0x000001ac02015710`: (struct<Age_double_VectorAssembler_8a080273acde:double,EDUC_double_VectorAssembler_8a080273acde:double,SES_double_VectorAssembler_8a080273acde:double,MMSE_double_VectorAssembler_8a080273acde:double,eTIV_double_VectorAssembler_8a080273acde:double,nWBV:double,ASF:double,M/F_index:double>) => struct<type:tinyint,size:int,indices:array<int>,values:array<double>>).\r\n\tat org.apache.spark.sql.errors.QueryExecutionErrors$.failedExecuteUserDefinedFunctionError(QueryExecutionErrors.scala:198)\r\n\tat org.apache.spark.sql.errors.QueryExecutionErrors.failedExecuteUserDefinedFunctionError(QueryExecutionErrors.scala)\r\n\tat org.apache.spark.sql.catalyst.expressions.GeneratedClass$GeneratedIteratorForCodegenStage1.sort_addToSorter_0$(Unknown Source)\r\n\tat org.apache.spark.sql.catalyst.expressions.GeneratedClass$GeneratedIteratorForCodegenStage1.processNext(Unknown Source)\r\n\tat org.apache.spark.sql.execution.BufferedRowIterator.hasNext(BufferedRowIterator.java:43)\r\n\tat org.apache.spark.sql.execution.WholeStageCodegenEvaluatorFactory$WholeStageCodegenPartitionEvaluator$$anon$1.hasNext(WholeStageCodegenEvaluatorFactory.scala:43)\r\n\tat scala.collection.Iterator$$anon$10.hasNext(Iterator.scala:460)\r\n\tat scala.collection.Iterator$$anon$10.hasNext(Iterator.scala:460)\r\n\tat scala.collection.Iterator$$anon$10.hasNext(Iterator.scala:460)\r\n\tat scala.collection.Iterator$$anon$10.hasNext(Iterator.scala:460)\r\n\tat scala.collection.Iterator$SliceIterator.hasNext(Iterator.scala:268)\r\n\tat scala.collection.Iterator.foreach(Iterator.scala:943)\r\n\tat scala.collection.Iterator.foreach$(Iterator.scala:943)\r\n\tat scala.collection.AbstractIterator.foreach(Iterator.scala:1431)\r\n\tat scala.collection.generic.Growable.$plus$plus$eq(Growable.scala:62)\r\n\tat scala.collection.generic.Growable.$plus$plus$eq$(Growable.scala:53)\r\n\tat scala.collection.mutable.ArrayBuffer.$plus$plus$eq(ArrayBuffer.scala:105)\r\n\tat scala.collection.mutable.ArrayBuffer.$plus$plus$eq(ArrayBuffer.scala:49)\r\n\tat scala.collection.TraversableOnce.to(TraversableOnce.scala:366)\r\n\tat scala.collection.TraversableOnce.to$(TraversableOnce.scala:364)\r\n\tat scala.collection.AbstractIterator.to(Iterator.scala:1431)\r\n\tat scala.collection.TraversableOnce.toBuffer(TraversableOnce.scala:358)\r\n\tat scala.collection.TraversableOnce.toBuffer$(TraversableOnce.scala:358)\r\n\tat scala.collection.AbstractIterator.toBuffer(Iterator.scala:1431)\r\n\tat scala.collection.TraversableOnce.toArray(TraversableOnce.scala:345)\r\n\tat scala.collection.TraversableOnce.toArray$(TraversableOnce.scala:339)\r\n\tat scala.collection.AbstractIterator.toArray(Iterator.scala:1431)\r\n\tat org.apache.spark.rdd.RDD.$anonfun$take$2(RDD.scala:1492)\r\n\tat org.apache.spark.SparkContext.$anonfun$runJob$5(SparkContext.scala:2433)\r\n\tat org.apache.spark.scheduler.ResultTask.runTask(ResultTask.scala:93)\r\n\tat org.apache.spark.TaskContext.runTaskWithListeners(TaskContext.scala:166)\r\n\tat org.apache.spark.scheduler.Task.run(Task.scala:141)\r\n\tat org.apache.spark.executor.Executor$TaskRunner.$anonfun$run$4(Executor.scala:620)\r\n\tat org.apache.spark.util.SparkErrorUtils.tryWithSafeFinally(SparkErrorUtils.scala:64)\r\n\tat org.apache.spark.util.SparkErrorUtils.tryWithSafeFinally$(SparkErrorUtils.scala:61)\r\n\tat org.apache.spark.util.Utils$.tryWithSafeFinally(Utils.scala:94)\r\n\tat org.apache.spark.executor.Executor$TaskRunner.run(Executor.scala:623)\r\n\tat java.base/java.util.concurrent.ThreadPoolExecutor.runWorker(ThreadPoolExecutor.java:1136)\r\n\tat java.base/java.util.concurrent.ThreadPoolExecutor$Worker.run(ThreadPoolExecutor.java:635)\r\n\tat java.base/java.lang.Thread.run(Thread.java:842)\r\nCaused by: org.apache.spark.SparkException: Encountered null while assembling a row with handleInvalid = \"error\". Consider\nremoving nulls from dataset or using handleInvalid = \"keep\" or \"skip\".\r\n\tat org.apache.spark.ml.feature.VectorAssembler$.$anonfun$assemble$1(VectorAssembler.scala:291)\r\n\tat org.apache.spark.ml.feature.VectorAssembler$.$anonfun$assemble$1$adapted(VectorAssembler.scala:260)\r\n\tat scala.collection.IndexedSeqOptimized.foreach(IndexedSeqOptimized.scala:36)\r\n\tat scala.collection.IndexedSeqOptimized.foreach$(IndexedSeqOptimized.scala:33)\r\n\tat scala.collection.mutable.WrappedArray.foreach(WrappedArray.scala:38)\r\n\tat org.apache.spark.ml.feature.VectorAssembler$.assemble(VectorAssembler.scala:260)\r\n\tat org.apache.spark.ml.feature.VectorAssembler.$anonfun$transform$6(VectorAssembler.scala:143)\r\n\t... 38 more\r\n\nDriver stacktrace:\r\n\tat org.apache.spark.scheduler.DAGScheduler.failJobAndIndependentStages(DAGScheduler.scala:2856)\r\n\tat org.apache.spark.scheduler.DAGScheduler.$anonfun$abortStage$2(DAGScheduler.scala:2792)\r\n\tat org.apache.spark.scheduler.DAGScheduler.$anonfun$abortStage$2$adapted(DAGScheduler.scala:2791)\r\n\tat scala.collection.mutable.ResizableArray.foreach(ResizableArray.scala:62)\r\n\tat scala.collection.mutable.ResizableArray.foreach$(ResizableArray.scala:55)\r\n\tat scala.collection.mutable.ArrayBuffer.foreach(ArrayBuffer.scala:49)\r\n\tat org.apache.spark.scheduler.DAGScheduler.abortStage(DAGScheduler.scala:2791)\r\n\tat org.apache.spark.scheduler.DAGScheduler.$anonfun$handleTaskSetFailed$1(DAGScheduler.scala:1247)\r\n\tat org.apache.spark.scheduler.DAGScheduler.$anonfun$handleTaskSetFailed$1$adapted(DAGScheduler.scala:1247)\r\n\tat scala.Option.foreach(Option.scala:407)\r\n\tat org.apache.spark.scheduler.DAGScheduler.handleTaskSetFailed(DAGScheduler.scala:1247)\r\n\tat org.apache.spark.scheduler.DAGSchedulerEventProcessLoop.doOnReceive(DAGScheduler.scala:3060)\r\n\tat org.apache.spark.scheduler.DAGSchedulerEventProcessLoop.onReceive(DAGScheduler.scala:2994)\r\n\tat org.apache.spark.scheduler.DAGSchedulerEventProcessLoop.onReceive(DAGScheduler.scala:2983)\r\n\tat org.apache.spark.util.EventLoop$$anon$1.run(EventLoop.scala:49)\r\n\tat org.apache.spark.scheduler.DAGScheduler.runJob(DAGScheduler.scala:989)\r\n\tat org.apache.spark.SparkContext.runJob(SparkContext.scala:2393)\r\n\tat org.apache.spark.SparkContext.runJob(SparkContext.scala:2414)\r\n\tat org.apache.spark.SparkContext.runJob(SparkContext.scala:2433)\r\n\tat org.apache.spark.rdd.RDD.$anonfun$take$1(RDD.scala:1492)\r\n\tat org.apache.spark.rdd.RDDOperationScope$.withScope(RDDOperationScope.scala:151)\r\n\tat org.apache.spark.rdd.RDDOperationScope$.withScope(RDDOperationScope.scala:112)\r\n\tat org.apache.spark.rdd.RDD.withScope(RDD.scala:410)\r\n\tat org.apache.spark.rdd.RDD.take(RDD.scala:1465)\r\n\tat org.apache.spark.ml.tree.impl.DecisionTreeMetadata$.buildMetadata(DecisionTreeMetadata.scala:119)\r\n\tat org.apache.spark.ml.tree.impl.RandomForest$.run(RandomForest.scala:274)\r\n\tat org.apache.spark.ml.classification.RandomForestClassifier.$anonfun$train$1(RandomForestClassifier.scala:168)\r\n\tat org.apache.spark.ml.util.Instrumentation$.$anonfun$instrumented$1(Instrumentation.scala:191)\r\n\tat scala.util.Try$.apply(Try.scala:213)\r\n\tat org.apache.spark.ml.util.Instrumentation$.instrumented(Instrumentation.scala:191)\r\n\tat org.apache.spark.ml.classification.RandomForestClassifier.train(RandomForestClassifier.scala:139)\r\n\tat org.apache.spark.ml.classification.RandomForestClassifier.train(RandomForestClassifier.scala:47)\r\n\tat org.apache.spark.ml.Predictor.fit(Predictor.scala:114)\r\n\tat org.apache.spark.ml.Predictor.fit(Predictor.scala:78)\r\n\tat java.base/jdk.internal.reflect.NativeMethodAccessorImpl.invoke0(Native Method)\r\n\tat java.base/jdk.internal.reflect.NativeMethodAccessorImpl.invoke(NativeMethodAccessorImpl.java:77)\r\n\tat java.base/jdk.internal.reflect.DelegatingMethodAccessorImpl.invoke(DelegatingMethodAccessorImpl.java:43)\r\n\tat java.base/java.lang.reflect.Method.invoke(Method.java:568)\r\n\tat py4j.reflection.MethodInvoker.invoke(MethodInvoker.java:244)\r\n\tat py4j.reflection.ReflectionEngine.invoke(ReflectionEngine.java:374)\r\n\tat py4j.Gateway.invoke(Gateway.java:282)\r\n\tat py4j.commands.AbstractCommand.invokeMethod(AbstractCommand.java:132)\r\n\tat py4j.commands.CallCommand.execute(CallCommand.java:79)\r\n\tat py4j.ClientServerConnection.waitForCommands(ClientServerConnection.java:182)\r\n\tat py4j.ClientServerConnection.run(ClientServerConnection.java:106)\r\n\tat java.base/java.lang.Thread.run(Thread.java:842)\r\nCaused by: org.apache.spark.SparkException: [FAILED_EXECUTE_UDF] Failed to execute user defined function (`VectorAssembler$$Lambda$3754/0x000001ac02015710`: (struct<Age_double_VectorAssembler_8a080273acde:double,EDUC_double_VectorAssembler_8a080273acde:double,SES_double_VectorAssembler_8a080273acde:double,MMSE_double_VectorAssembler_8a080273acde:double,eTIV_double_VectorAssembler_8a080273acde:double,nWBV:double,ASF:double,M/F_index:double>) => struct<type:tinyint,size:int,indices:array<int>,values:array<double>>).\r\n\tat org.apache.spark.sql.errors.QueryExecutionErrors$.failedExecuteUserDefinedFunctionError(QueryExecutionErrors.scala:198)\r\n\tat org.apache.spark.sql.errors.QueryExecutionErrors.failedExecuteUserDefinedFunctionError(QueryExecutionErrors.scala)\r\n\tat org.apache.spark.sql.catalyst.expressions.GeneratedClass$GeneratedIteratorForCodegenStage1.sort_addToSorter_0$(Unknown Source)\r\n\tat org.apache.spark.sql.catalyst.expressions.GeneratedClass$GeneratedIteratorForCodegenStage1.processNext(Unknown Source)\r\n\tat org.apache.spark.sql.execution.BufferedRowIterator.hasNext(BufferedRowIterator.java:43)\r\n\tat org.apache.spark.sql.execution.WholeStageCodegenEvaluatorFactory$WholeStageCodegenPartitionEvaluator$$anon$1.hasNext(WholeStageCodegenEvaluatorFactory.scala:43)\r\n\tat scala.collection.Iterator$$anon$10.hasNext(Iterator.scala:460)\r\n\tat scala.collection.Iterator$$anon$10.hasNext(Iterator.scala:460)\r\n\tat scala.collection.Iterator$$anon$10.hasNext(Iterator.scala:460)\r\n\tat scala.collection.Iterator$$anon$10.hasNext(Iterator.scala:460)\r\n\tat scala.collection.Iterator$SliceIterator.hasNext(Iterator.scala:268)\r\n\tat scala.collection.Iterator.foreach(Iterator.scala:943)\r\n\tat scala.collection.Iterator.foreach$(Iterator.scala:943)\r\n\tat scala.collection.AbstractIterator.foreach(Iterator.scala:1431)\r\n\tat scala.collection.generic.Growable.$plus$plus$eq(Growable.scala:62)\r\n\tat scala.collection.generic.Growable.$plus$plus$eq$(Growable.scala:53)\r\n\tat scala.collection.mutable.ArrayBuffer.$plus$plus$eq(ArrayBuffer.scala:105)\r\n\tat scala.collection.mutable.ArrayBuffer.$plus$plus$eq(ArrayBuffer.scala:49)\r\n\tat scala.collection.TraversableOnce.to(TraversableOnce.scala:366)\r\n\tat scala.collection.TraversableOnce.to$(TraversableOnce.scala:364)\r\n\tat scala.collection.AbstractIterator.to(Iterator.scala:1431)\r\n\tat scala.collection.TraversableOnce.toBuffer(TraversableOnce.scala:358)\r\n\tat scala.collection.TraversableOnce.toBuffer$(TraversableOnce.scala:358)\r\n\tat scala.collection.AbstractIterator.toBuffer(Iterator.scala:1431)\r\n\tat scala.collection.TraversableOnce.toArray(TraversableOnce.scala:345)\r\n\tat scala.collection.TraversableOnce.toArray$(TraversableOnce.scala:339)\r\n\tat scala.collection.AbstractIterator.toArray(Iterator.scala:1431)\r\n\tat org.apache.spark.rdd.RDD.$anonfun$take$2(RDD.scala:1492)\r\n\tat org.apache.spark.SparkContext.$anonfun$runJob$5(SparkContext.scala:2433)\r\n\tat org.apache.spark.scheduler.ResultTask.runTask(ResultTask.scala:93)\r\n\tat org.apache.spark.TaskContext.runTaskWithListeners(TaskContext.scala:166)\r\n\tat org.apache.spark.scheduler.Task.run(Task.scala:141)\r\n\tat org.apache.spark.executor.Executor$TaskRunner.$anonfun$run$4(Executor.scala:620)\r\n\tat org.apache.spark.util.SparkErrorUtils.tryWithSafeFinally(SparkErrorUtils.scala:64)\r\n\tat org.apache.spark.util.SparkErrorUtils.tryWithSafeFinally$(SparkErrorUtils.scala:61)\r\n\tat org.apache.spark.util.Utils$.tryWithSafeFinally(Utils.scala:94)\r\n\tat org.apache.spark.executor.Executor$TaskRunner.run(Executor.scala:623)\r\n\tat java.base/java.util.concurrent.ThreadPoolExecutor.runWorker(ThreadPoolExecutor.java:1136)\r\n\tat java.base/java.util.concurrent.ThreadPoolExecutor$Worker.run(ThreadPoolExecutor.java:635)\r\n\t... 1 more\r\nCaused by: org.apache.spark.SparkException: Encountered null while assembling a row with handleInvalid = \"error\". Consider\nremoving nulls from dataset or using handleInvalid = \"keep\" or \"skip\".\r\n\tat org.apache.spark.ml.feature.VectorAssembler$.$anonfun$assemble$1(VectorAssembler.scala:291)\r\n\tat org.apache.spark.ml.feature.VectorAssembler$.$anonfun$assemble$1$adapted(VectorAssembler.scala:260)\r\n\tat scala.collection.IndexedSeqOptimized.foreach(IndexedSeqOptimized.scala:36)\r\n\tat scala.collection.IndexedSeqOptimized.foreach$(IndexedSeqOptimized.scala:33)\r\n\tat scala.collection.mutable.WrappedArray.foreach(WrappedArray.scala:38)\r\n\tat org.apache.spark.ml.feature.VectorAssembler$.assemble(VectorAssembler.scala:260)\r\n\tat org.apache.spark.ml.feature.VectorAssembler.$anonfun$transform$6(VectorAssembler.scala:143)\r\n\t... 38 more\r\n"
     ]
    }
   ],
   "source": [
    "from pyspark.sql import SparkSession\n",
    "from pyspark.sql.functions import col\n",
    "from pyspark.ml.feature import VectorAssembler, StringIndexer\n",
    "from pyspark.ml.classification import RandomForestClassifier\n",
    "from pyspark.ml.evaluation import MulticlassClassificationEvaluator\n",
    "\n",
    "# Start Spark Session\n",
    "spark = SparkSession.builder.appName(\"AlzheimerPrediction\").getOrCreate()\n",
    "\n",
    "# Load Dataset using Spark\n",
    "data = spark.read.csv(\"oasis_longitudinal.csv\", header=True, inferSchema=True)\n",
    "\n",
    "# Drop Unnecessary Columns\n",
    "data = data.drop(\"ID\", \"Hand\")\n",
    "\n",
    "# Handle Missing Values (Filling with Median)\n",
    "from pyspark.sql.functions import expr\n",
    "for column in [\"SES\"]:\n",
    "    median_value = data.approxQuantile(column, [0.5], 0.01)[0]\n",
    "    data = data.fillna({column: median_value})\n",
    "\n",
    "# Convert Categorical Columns to Numeric\n",
    "categorical_columns = [\"M/F\", \"Group\"]\n",
    "indexers = [StringIndexer(inputCol=col, outputCol=col+\"_index\").fit(data) for col in categorical_columns]\n",
    "for indexer in indexers:\n",
    "    data = indexer.transform(data)\n",
    "\n",
    "# Feature Engineering\n",
    "feature_cols = [\"Age\", \"EDUC\", \"SES\", \"MMSE\", \"eTIV\", \"nWBV\", \"ASF\", \"M/F_index\"]\n",
    "assembler = VectorAssembler(inputCols=feature_cols, outputCol=\"features\")\n",
    "data = assembler.transform(data)\n",
    "\n",
    "data = data.withColumnRenamed(\"Group_index\", \"label\").select(\"features\", \"label\")\n",
    "\n",
    "# Split Data\n",
    "train_df, test_df = data.randomSplit([0.8, 0.2], seed=42)\n",
    "\n",
    "# Train Random Forest Model\n",
    "rf = RandomForestClassifier(featuresCol=\"features\", labelCol=\"label\", numTrees=100)\n",
    "model = rf.fit(train_df)\n",
    "\n",
    "# Make Predictions\n",
    "predictions = model.transform(test_df)\n",
    "\n",
    "# Evaluate Model\n",
    "accuracy = MulticlassClassificationEvaluator(labelCol=\"label\", metricName=\"accuracy\").evaluate(predictions)\n",
    "print(f\"Test Accuracy: {accuracy:.4f}\")\n",
    "\n",
    "# Save Model\n",
    "model.save(\"alzheimers_rf_model\")\n",
    "\n",
    "# Stop Spark Session\n",
    "spark.stop()\n",
    "\n",
    "print(\"✅ Alzheimer's Prediction Model Training Completed!\")\n"
   ]
  },
  {
   "cell_type": "code",
   "execution_count": null,
   "id": "92d45123-0fc5-423f-8c56-6694929a1cc0",
   "metadata": {},
   "outputs": [],
   "source": []
  }
 ],
 "metadata": {
  "kaggle": {
   "accelerator": "none",
   "dataSources": [
    {
     "datasetId": 1980,
     "sourceId": 3398,
     "sourceType": "datasetVersion"
    }
   ],
   "dockerImageVersionId": 30761,
   "isGpuEnabled": false,
   "isInternetEnabled": false,
   "language": "python",
   "sourceType": "notebook"
  },
  "kernelspec": {
   "display_name": "Python 3 (ipykernel)",
   "language": "python",
   "name": "python3"
  },
  "language_info": {
   "codemirror_mode": {
    "name": "ipython",
    "version": 3
   },
   "file_extension": ".py",
   "mimetype": "text/x-python",
   "name": "python",
   "nbconvert_exporter": "python",
   "pygments_lexer": "ipython3",
   "version": "3.11.5"
  },
  "papermill": {
   "default_parameters": {},
   "duration": 1076.578979,
   "end_time": "2024-08-28T20:27:52.793035",
   "environment_variables": {},
   "exception": null,
   "input_path": "__notebook__.ipynb",
   "output_path": "__notebook__.ipynb",
   "parameters": {},
   "start_time": "2024-08-28T20:09:56.214056",
   "version": "2.6.0"
  }
 },
 "nbformat": 4,
 "nbformat_minor": 5
}
